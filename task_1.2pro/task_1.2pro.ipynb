{
 "cells": [
  {
   "cell_type": "code",
   "execution_count": 1,
   "id": "306061ca-2b15-4db3-8fd4-9bc8344e6ba9",
   "metadata": {},
   "outputs": [
    {
     "name": "stdout",
     "output_type": "stream",
     "text": [
      "2\n",
      "3\n",
      "5\n",
      "8\n",
      "13\n"
     ]
    }
   ],
   "source": [
    "#1\n",
    "x1 = 1\n",
    "x2 = 1\n",
    "\n",
    "n = 7\n",
    " \n",
    "i = 0\n",
    "while i < n - 2:\n",
    "    sum_fib = x1 + x2\n",
    "    x1 = x2\n",
    "    x2 = sum_fib\n",
    "    i = i + 1\n",
    "    print(sum_fib)"
   ]
  },
  {
   "cell_type": "code",
   "execution_count": 1,
   "id": "f7e47b6c-3fca-4f70-9210-c312f8abaa10",
   "metadata": {},
   "outputs": [],
   "source": [
    "#2\n",
    "def getUniq(sp):\n",
    "    s = set(sp)\n",
    "    return s\n",
    "getUniq([1, 1, 2, 2, 3])"
   ]
  },
  {
   "cell_type": "code",
   "execution_count": 2,
   "id": "4c2d10e1-6297-4e56-b4fc-be66f51e8cae",
   "metadata": {},
   "outputs": [
    {
     "data": {
      "text/plain": [
       "12.222222222222221"
      ]
     },
     "execution_count": 2,
     "metadata": {},
     "output_type": "execute_result"
    }
   ],
   "source": [
    "#3\n",
    "def faren_toCels(faren):\n",
    "    cels = (faren - 32) * 5/9\n",
    "    return cels\n",
    "faren_toCels(54)"
   ]
  },
  {
   "cell_type": "code",
   "execution_count": 6,
   "id": "e914a104-f83c-4cfd-bf0d-ceea03ffbe7f",
   "metadata": {},
   "outputs": [
    {
     "data": {
      "text/plain": [
       "True"
      ]
     },
     "execution_count": 6,
     "metadata": {},
     "output_type": "execute_result"
    }
   ],
   "source": [
    "#4\n",
    "def myPalindr(string):\n",
    "    s = string.lower()\n",
    "    return True if s == s[::-1] else False\n",
    "myPalindr(\"Анна\")"
   ]
  }
 ],
 "metadata": {
  "kernelspec": {
   "display_name": "Python 3 (ipykernel)",
   "language": "python",
   "name": "python3"
  },
  "language_info": {
   "codemirror_mode": {
    "name": "ipython",
    "version": 3
   },
   "file_extension": ".py",
   "mimetype": "text/x-python",
   "name": "python",
   "nbconvert_exporter": "python",
   "pygments_lexer": "ipython3",
   "version": "3.8.6rc1"
  }
 },
 "nbformat": 4,
 "nbformat_minor": 5
}
