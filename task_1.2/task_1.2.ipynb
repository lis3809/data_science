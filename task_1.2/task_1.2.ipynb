{
 "cells": [
  {
   "cell_type": "code",
   "execution_count": 12,
   "id": "42cc7401-2b13-4e85-8bbb-803f82b153c9",
   "metadata": {},
   "outputs": [
    {
     "name": "stdin",
     "output_type": "stream",
     "text": [
      " 25\n"
     ]
    },
    {
     "name": "stdout",
     "output_type": "stream",
     "text": [
      "Площадь: 625\n",
      "Периметр: 100\n"
     ]
    }
   ],
   "source": [
    "#1\n",
    "x = int(input())\n",
    "print(\"Площадь: \" + str(x**2))\n",
    "print(\"Периметр: \" + str(x*4))"
   ]
  },
  {
   "cell_type": "code",
   "execution_count": 2,
   "id": "86f2cf03-e0ff-4840-afc3-838872e40f01",
   "metadata": {},
   "outputs": [],
   "source": [
    "#2\n",
    "def sum_of_squares(x, y):\n",
    "    return x**2 + y**2"
   ]
  },
  {
   "cell_type": "code",
   "execution_count": 27,
   "id": "7693228b-5352-4348-badd-14606adf10e2",
   "metadata": {},
   "outputs": [
    {
     "name": "stdout",
     "output_type": "stream",
     "text": [
      "['female', 'female', 'male', 'male', 'female', 'male', 'male']\n"
     ]
    }
   ],
   "source": [
    "#3\n",
    "list = [\"male\",\"male\",\"female\",\"male\",\"male\",\"female\",\"female\"]\n",
    "def reversList(spisok):\n",
    "    return spisok[::-1]\n",
    "newList = reversList(list)\n",
    "print(newList)"
   ]
  },
  {
   "cell_type": "code",
   "execution_count": 31,
   "id": "fb021ab0-6f57-4862-bb43-7c057c296ea5",
   "metadata": {},
   "outputs": [
    {
     "name": "stdout",
     "output_type": "stream",
     "text": [
      "Female: 3\n",
      "Male: 4\n"
     ]
    }
   ],
   "source": [
    "#4\n",
    "def count_male_and_female(newSpisok):\n",
    "    x = 0\n",
    "    y = 0\n",
    "    for line in newSpisok:\n",
    "        if line == \"male\":\n",
    "            x = x+1\n",
    "        if line == \"female\":\n",
    "            y = y+1\n",
    "    print(\"Female: \" + str(y))\n",
    "    print(\"Male: \" + str(x))\n",
    "count_male_and_female(newList)"
   ]
  },
  {
   "cell_type": "code",
   "execution_count": 44,
   "id": "394d1e84-43e1-4210-be69-9e32f4fe59c6",
   "metadata": {},
   "outputs": [
    {
     "data": {
      "text/plain": [
       "{'f': 1, 'e': 2, 'm': 1, 'a': 1, 'l': 1}"
      ]
     },
     "execution_count": 44,
     "metadata": {},
     "output_type": "execute_result"
    }
   ],
   "source": [
    "#5\n",
    "def getDict(string):\n",
    "    dictonary = {}\n",
    "    for i in string:\n",
    "        if i not in dictonary:\n",
    "            dictonary[i] = 1\n",
    "        else:\n",
    "            dictonary[i] += 1\n",
    "    return dictonary\n",
    "getDict(\"female\")"
   ]
  },
  {
   "cell_type": "code",
   "execution_count": 52,
   "id": "5ccae8e0-f670-40b9-ac3d-ee59340c63c3",
   "metadata": {},
   "outputs": [
    {
     "name": "stdout",
     "output_type": "stream",
     "text": [
      "338350\n"
     ]
    }
   ],
   "source": [
    "#6\n",
    "sum = 0\n",
    "for x in range(1, 101):\n",
    "    sum += x**2\n",
    "print(sum)"
   ]
  },
  {
   "cell_type": "code",
   "execution_count": 53,
   "id": "c19a1dc2-68ee-4811-aa8f-bd9e99317a34",
   "metadata": {},
   "outputs": [
    {
     "name": "stdout",
     "output_type": "stream",
     "text": [
      "[1, 2, 5]\n",
      "[1, 2, 5, 4]\n"
     ]
    }
   ],
   "source": [
    "#7\n",
    "spis = [1, 2, 5]\n",
    "print(spis)\n",
    "spis.append(4)\n",
    "print(spis)"
   ]
  },
  {
   "cell_type": "code",
   "execution_count": 55,
   "id": "d39e04a3-5e44-4137-995a-d51a789d7b1a",
   "metadata": {},
   "outputs": [
    {
     "name": "stdout",
     "output_type": "stream",
     "text": [
      "[1, 2, 5, 6, 7, 8]\n"
     ]
    }
   ],
   "source": [
    "#8\n",
    "a = [1, 2, 5]\n",
    "b = [6, 7, 8]\n",
    "c = a+b"
   ]
  },
  {
   "cell_type": "code",
   "execution_count": 57,
   "id": "3b1e9bbd-dd1d-4b7f-b7c3-b910f859609b",
   "metadata": {},
   "outputs": [
    {
     "data": {
      "text/plain": [
       "3"
      ]
     },
     "execution_count": 57,
     "metadata": {},
     "output_type": "execute_result"
    }
   ],
   "source": [
    "#9\n",
    "a.__len__()"
   ]
  },
  {
   "cell_type": "code",
   "execution_count": 58,
   "id": "ff37150d-0177-47f3-815c-8c5125cafadc",
   "metadata": {},
   "outputs": [
    {
     "name": "stdout",
     "output_type": "stream",
     "text": [
      "x больше, либо равен y\n"
     ]
    }
   ],
   "source": [
    "#10\n",
    "x = 2**4\n",
    "y = 4**2\n",
    "if x < y:\n",
    "    print(\"x меньше y\") \n",
    "else: \n",
    "    print(\"x больше, либо равен y\")"
   ]
  }
 ],
 "metadata": {
  "kernelspec": {
   "display_name": "Python 3 (ipykernel)",
   "language": "python",
   "name": "python3"
  },
  "language_info": {
   "codemirror_mode": {
    "name": "ipython",
    "version": 3
   },
   "file_extension": ".py",
   "mimetype": "text/x-python",
   "name": "python",
   "nbconvert_exporter": "python",
   "pygments_lexer": "ipython3",
   "version": "3.8.6rc1"
  }
 },
 "nbformat": 4,
 "nbformat_minor": 5
}
