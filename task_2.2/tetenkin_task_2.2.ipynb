{
 "cells": [
  {
   "cell_type": "code",
   "execution_count": 5,
   "metadata": {},
   "outputs": [],
   "source": [
    "import numpy as np\n",
    "import pandas as pd\n",
    "import matplotlib.pyplot as plt\n",
    "from scipy.spatial import distance\n",
    "\n",
    "from sklearn.model_selection import train_test_split\n",
    "from sklearn.metrics import mean_absolute_error, mean_squared_error\n",
    "from sklearn.linear_model import LogisticRegression\n",
    "from sklearn.metrics import confusion_matrix, ConfusionMatrixDisplay"
   ]
  },
  {
   "cell_type": "markdown",
   "metadata": {},
   "source": [
    "1. Из библиотеки scikit-learn подгрузите данные."
   ]
  },
  {
   "cell_type": "code",
   "execution_count": null,
   "metadata": {},
   "outputs": [],
   "source": [
    "from sklearn.datasets import load_iris\n",
    "df = load_iris(as_frame=True).frame\n",
    "features = df.drop(['target'], axis=1)"
   ]
  },
  {
   "cell_type": "markdown",
   "metadata": {},
   "source": [
    "2. Сформируйте новое поле target_virginica, которое будет равно из 0, если цветок не является классом 2, иначе  — 1. Убедитесь, что разметка выполнена корректно, рассчитав количество объектов каждого класса по новой целевой переменной target_virginica."
   ]
  },
  {
   "cell_type": "code",
   "execution_count": null,
   "metadata": {},
   "outputs": [],
   "source": [
    "target_virginica = []\n",
    "for tr in df['target']:\n",
    "    if(tr != 2):\n",
    "        target_virginica += [0]\n",
    "    else:\n",
    "        target_virginica += [1]\n",
    "print(len(df.target))\n",
    "print(len(target_virginica))"
   ]
  },
  {
   "cell_type": "markdown",
   "metadata": {},
   "source": [
    "3. Обучите библиотечную модель логистической регрессии на обучающей части данных."
   ]
  },
  {
   "cell_type": "code",
   "execution_count": null,
   "metadata": {},
   "outputs": [],
   "source": [
    "#Разделяем датасет на тренировочную и валидационную части\n",
    "features_train, features_test, target_virginica_train, target_virginica_test = train_test_split(features, target_virginica, test_size=0.3, random_state=45)\n",
    "print(df.target)\n",
    "#Обучаем модель логистической регрессии\n",
    "modelLogisticRegression = LogisticRegression()\n",
    "modelLogisticRegression.fit(features_train, target_virginica_train)\n",
    "#Предсказываем значения целевой переменной на основе тестовой выборки\n",
    "predictions_val = modelLogisticRegression.predict(features_test)\n"
   ]
  },
  {
   "cell_type": "markdown",
   "metadata": {},
   "source": [
    "4. Оцените качество обученной на предыдущем шаге модели, выведя матрицу ошибок для прогнозов обученной моделью на тестовой части данных."
   ]
  },
  {
   "cell_type": "code",
   "execution_count": null,
   "metadata": {},
   "outputs": [],
   "source": [
    "ConfusionMatrixDisplay(confusion_matrix(target_virginica_test, predictions_val)).plot()"
   ]
  },
  {
   "cell_type": "code",
   "execution_count": null,
   "metadata": {},
   "outputs": [],
   "source": [
    "#Для оценки качества модели определим F1-меру\n",
    "from sklearn.metrics import f1_score\n",
    "f1_score(target_virginica_test, predictions_val)"
   ]
  },
  {
   "cell_type": "markdown",
   "metadata": {},
   "source": [
    "<b> ВЫВОД:\n",
    "Ввиду того, что количество TP и TN гораздо больше количества FP и FN, следует вывод что обученная модель достаточно высокого качества. В этом нам также позволяет убедиться и метрика F1 = 0.92.</b>"
   ]
  },
  {
   "cell_type": "markdown",
   "metadata": {},
   "source": [
    "5. Сконструируйте свой класс MyLogisticRegression, решающий задачу логистической регрессии методом градиентного спуска.\n",
    "\n",
    "    a) Он должен инициализироваться величиной шага градиентного спуска и количеством итераций градиентного спуска.\n",
    "\n",
    "    b) Должен содержать метод fit для обучения модели, на вход которой будут подаваться обучающие данные. Чтобы реализовать функцию sigmoid, можно воспользоваться библиотечной функцией np.exp. Для расчета градиента необходимо использовать формулу, приведенную в курсе в блоке «Логистическая регрессия для решения задачи бинарной классификации».\n",
    "\n",
    "    c) Должен содержаться метод predict, который будет возвращать лейбл 0/1. Лейбл должен рассчитываться из вероятности принадлежности классу 1. Вероятность должна рассчитываться как сигмоида от результата произведения матрицы фичей X и вектора весов модели w."
   ]
  },
  {
   "cell_type": "code",
   "execution_count": null,
   "metadata": {},
   "outputs": [],
   "source": [
    "class MyLogisticRegression:\n",
    "    def __init__(self, step_size, iterations):\n",
    "        self.step_size = step_size\n",
    "        self.iterations = iterations\n",
    "        self.weights = None\n",
    "    \n",
    "    def fit(self, train_features, train_target):\n",
    "        train_features = np.concatenate((np.ones((train_features.shape[0], 1)), train_features), axis=1)\n",
    "        #Определяем веса случайным\n",
    "        self.weights = np.random.rand(train_features.shape[1])\n",
    "        \n",
    "        for i in range(self.iterations):\n",
    "            y_pred = self.sigmoid(np.dot(train_features, self.weights))\n",
    "            gradient = np.dot(train_features.T, y_pred - train_target)\n",
    "            self.weights -= self.step_size * gradient\n",
    "\n",
    "    def predict(self, test_features):\n",
    "        test_features = np.concatenate((np.ones((test_features.shape[0], 1)), test_features), axis=1)\n",
    "        val_p = self.sigmoid(np.dot(test_features, self.weights))\n",
    "        label = np.where(val_p >= 0.5, 1, 0)\n",
    "        return label\n",
    "    def sigmoid(self, z):\n",
    "        return 1/(1 + np.exp(-z))"
   ]
  },
  {
   "cell_type": "markdown",
   "metadata": {},
   "source": [
    "6. Обучите модель с помощью реализованного класса с произвольными параметрами градиентного спуска."
   ]
  },
  {
   "cell_type": "code",
   "execution_count": null,
   "metadata": {},
   "outputs": [],
   "source": [
    "my_modelLogisticRegression = MyLogisticRegression(0.9, 1000)\n",
    "my_modelLogisticRegression.fit(features_train, target_virginica_train)"
   ]
  },
  {
   "cell_type": "markdown",
   "metadata": {},
   "source": [
    "7. Оцените качество модели, обученной с помощью класса MyLogisticRegression, выведя матрицу ошибок для прогнозов обученной моделью на тестовой части данных.\n",
    "8. Подберите такие параметры градиентного спуска, чтобы разделение получилось не хуже, чем у библиотечной модели."
   ]
  },
  {
   "cell_type": "code",
   "execution_count": null,
   "metadata": {},
   "outputs": [],
   "source": [
    "#Предсказываем значения целевой переменной на основе тестовой выборки\n",
    "predict_val_my_modelLogReg = modelLogisticRegression.predict(features_test)\n",
    "ConfusionMatrixDisplay(confusion_matrix(target_virginica_test, predict_val_my_modelLogReg)).plot()"
   ]
  },
  {
   "cell_type": "code",
   "execution_count": null,
   "metadata": {},
   "outputs": [],
   "source": [
    "f1_score(target_virginica_test, predict_val_my_modelLogReg)"
   ]
  },
  {
   "cell_type": "markdown",
   "metadata": {},
   "source": [
    "<b>ВЫВОД:\n",
    "Модель разработанного нами класса MyLogisticRegression дает точно такой же результат, что и модель стандартного класса LogisticRegression</b>"
   ]
  }
 ],
 "metadata": {
  "kernelspec": {
   "display_name": "Python 3.8.6rc1 64-bit",
   "language": "python",
   "name": "python3"
  },
  "language_info": {
   "codemirror_mode": {
    "name": "ipython",
    "version": 3
   },
   "file_extension": ".py",
   "mimetype": "text/x-python",
   "name": "python",
   "nbconvert_exporter": "python",
   "pygments_lexer": "ipython3",
   "version": "3.11.4"
  },
  "orig_nbformat": 4,
  "vscode": {
   "interpreter": {
    "hash": "87827ea2eb5520c169a7fec310117dd7954aa84e84b54bf706c8e949532c638c"
   }
  }
 },
 "nbformat": 4,
 "nbformat_minor": 2
}
