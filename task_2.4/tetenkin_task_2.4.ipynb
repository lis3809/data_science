{
 "cells": [
  {
   "cell_type": "code",
   "execution_count": 2,
   "metadata": {},
   "outputs": [],
   "source": [
    "import pandas as pd\n",
    "from sklearn.linear_model import LogisticRegressionCV\n",
    "from sklearn.model_selection import train_test_split\n",
    "from sklearn.preprocessing import StandardScaler\n",
    "from sklearn.ensemble import RandomForestClassifier\n",
    "from sklearn.model_selection import GridSearchCV\n",
    "from sklearn.metrics import roc_auc_score\n",
    "from sklearn.metrics import roc_curve\n",
    "\n",
    "from matplotlib import pyplot as plt\n",
    "import numpy as np\n",
    "import re"
   ]
  },
  {
   "cell_type": "markdown",
   "metadata": {},
   "source": [
    "<p style=\"border:3px #ff0000  solid;\">\n",
    "1. Загрузите данные из csv файла. Ознакомьтесь с ними, проверьте наличие пропусков, узнайте типы признаков."
   ]
  },
  {
   "cell_type": "code",
   "execution_count": 3,
   "metadata": {},
   "outputs": [],
   "source": [
    "grant_df = pd.read_csv('C:/Users/Z/PycharmProjects/data_science_1t/task_2.4/grant_data_imb.csv')\n",
    "#Крутое исправление заголовков\n",
    "grant_df.columns = [re.sub('\\\\.+', '_', i).lower() for i in grant_df.columns]\n",
    "#В датафрейме есть дублирующиеся колонки A..1 и A.1, значения которых отличаются, поэтому сохраним обе\n",
    "grant_df = grant_df.rename(columns={\"A..1\": \"a_1\", \"A.1\": \"b_1\", \"B.1\": \"c_1\", \"C.1\": \"d_1\",})"
   ]
  },
  {
   "cell_type": "code",
   "execution_count": 4,
   "metadata": {},
   "outputs": [
    {
     "data": {
      "text/html": [
       "<div>\n",
       "<style scoped>\n",
       "    .dataframe tbody tr th:only-of-type {\n",
       "        vertical-align: middle;\n",
       "    }\n",
       "\n",
       "    .dataframe tbody tr th {\n",
       "        vertical-align: top;\n",
       "    }\n",
       "\n",
       "    .dataframe thead th {\n",
       "        text-align: right;\n",
       "    }\n",
       "</style>\n",
       "<table border=\"1\" class=\"dataframe\">\n",
       "  <thead>\n",
       "    <tr style=\"text-align: right;\">\n",
       "      <th></th>\n",
       "      <th>grant_status</th>\n",
       "      <th>sponsor_code</th>\n",
       "      <th>grant_category_code</th>\n",
       "      <th>contract_value_band_see_note_a</th>\n",
       "      <th>rfcd_code_1</th>\n",
       "      <th>rfcd_percentage_1</th>\n",
       "      <th>rfcd_code_2</th>\n",
       "      <th>rfcd_percentage_2</th>\n",
       "      <th>rfcd_code_3</th>\n",
       "      <th>rfcd_percentage_3</th>\n",
       "      <th>...</th>\n",
       "      <th>dept_no_1</th>\n",
       "      <th>faculty_no_1</th>\n",
       "      <th>with_phd_1</th>\n",
       "      <th>no_of_years_in_uni_at_time_of_grant_1</th>\n",
       "      <th>number_of_successful_grant_1</th>\n",
       "      <th>number_of_unsuccessful_grant_1</th>\n",
       "      <th>a_1</th>\n",
       "      <th>a_1</th>\n",
       "      <th>b_1</th>\n",
       "      <th>c_1</th>\n",
       "    </tr>\n",
       "  </thead>\n",
       "  <tbody>\n",
       "    <tr>\n",
       "      <th>0</th>\n",
       "      <td>0</td>\n",
       "      <td>97A</td>\n",
       "      <td>30B</td>\n",
       "      <td>A</td>\n",
       "      <td>321024.0</td>\n",
       "      <td>50.0</td>\n",
       "      <td>321013.0</td>\n",
       "      <td>30.0</td>\n",
       "      <td>291502.0</td>\n",
       "      <td>20.0</td>\n",
       "      <td>...</td>\n",
       "      <td>2563.0</td>\n",
       "      <td>25.0</td>\n",
       "      <td>Yes</td>\n",
       "      <td>&gt;10 to 15</td>\n",
       "      <td>2.0</td>\n",
       "      <td>6.0</td>\n",
       "      <td>3.0</td>\n",
       "      <td>5.0</td>\n",
       "      <td>15.0</td>\n",
       "      <td>3.0</td>\n",
       "    </tr>\n",
       "    <tr>\n",
       "      <th>1</th>\n",
       "      <td>0</td>\n",
       "      <td>36D</td>\n",
       "      <td>10A</td>\n",
       "      <td>G</td>\n",
       "      <td>300201.0</td>\n",
       "      <td>100.0</td>\n",
       "      <td>0.0</td>\n",
       "      <td>0.0</td>\n",
       "      <td>0.0</td>\n",
       "      <td>0.0</td>\n",
       "      <td>...</td>\n",
       "      <td>1038.0</td>\n",
       "      <td>1.0</td>\n",
       "      <td>NaN</td>\n",
       "      <td>Less than 0</td>\n",
       "      <td>0.0</td>\n",
       "      <td>3.0</td>\n",
       "      <td>0.0</td>\n",
       "      <td>4.0</td>\n",
       "      <td>0.0</td>\n",
       "      <td>0.0</td>\n",
       "    </tr>\n",
       "    <tr>\n",
       "      <th>2</th>\n",
       "      <td>0</td>\n",
       "      <td>317A</td>\n",
       "      <td>30D</td>\n",
       "      <td>NaN</td>\n",
       "      <td>321013.0</td>\n",
       "      <td>100.0</td>\n",
       "      <td>0.0</td>\n",
       "      <td>0.0</td>\n",
       "      <td>0.0</td>\n",
       "      <td>0.0</td>\n",
       "      <td>...</td>\n",
       "      <td>2763.0</td>\n",
       "      <td>25.0</td>\n",
       "      <td>Yes</td>\n",
       "      <td>&gt;5 to 10</td>\n",
       "      <td>4.0</td>\n",
       "      <td>3.0</td>\n",
       "      <td>6.0</td>\n",
       "      <td>25.0</td>\n",
       "      <td>14.0</td>\n",
       "      <td>14.0</td>\n",
       "    </tr>\n",
       "    <tr>\n",
       "      <th>3</th>\n",
       "      <td>0</td>\n",
       "      <td>62B</td>\n",
       "      <td>10B</td>\n",
       "      <td>B</td>\n",
       "      <td>321103.0</td>\n",
       "      <td>30.0</td>\n",
       "      <td>321105.0</td>\n",
       "      <td>40.0</td>\n",
       "      <td>321204.0</td>\n",
       "      <td>30.0</td>\n",
       "      <td>...</td>\n",
       "      <td>2848.0</td>\n",
       "      <td>25.0</td>\n",
       "      <td>NaN</td>\n",
       "      <td>Less than 0</td>\n",
       "      <td>1.0</td>\n",
       "      <td>2.0</td>\n",
       "      <td>1.0</td>\n",
       "      <td>0.0</td>\n",
       "      <td>0.0</td>\n",
       "      <td>0.0</td>\n",
       "    </tr>\n",
       "    <tr>\n",
       "      <th>4</th>\n",
       "      <td>0</td>\n",
       "      <td>1A</td>\n",
       "      <td>10A</td>\n",
       "      <td>NaN</td>\n",
       "      <td>270603.0</td>\n",
       "      <td>60.0</td>\n",
       "      <td>321205.0</td>\n",
       "      <td>30.0</td>\n",
       "      <td>320603.0</td>\n",
       "      <td>10.0</td>\n",
       "      <td>...</td>\n",
       "      <td>2678.0</td>\n",
       "      <td>25.0</td>\n",
       "      <td>Yes</td>\n",
       "      <td>&gt;5 to 10</td>\n",
       "      <td>5.0</td>\n",
       "      <td>14.0</td>\n",
       "      <td>0.0</td>\n",
       "      <td>9.0</td>\n",
       "      <td>7.0</td>\n",
       "      <td>0.0</td>\n",
       "    </tr>\n",
       "    <tr>\n",
       "      <th>...</th>\n",
       "      <td>...</td>\n",
       "      <td>...</td>\n",
       "      <td>...</td>\n",
       "      <td>...</td>\n",
       "      <td>...</td>\n",
       "      <td>...</td>\n",
       "      <td>...</td>\n",
       "      <td>...</td>\n",
       "      <td>...</td>\n",
       "      <td>...</td>\n",
       "      <td>...</td>\n",
       "      <td>...</td>\n",
       "      <td>...</td>\n",
       "      <td>...</td>\n",
       "      <td>...</td>\n",
       "      <td>...</td>\n",
       "      <td>...</td>\n",
       "      <td>...</td>\n",
       "      <td>...</td>\n",
       "      <td>...</td>\n",
       "      <td>...</td>\n",
       "    </tr>\n",
       "    <tr>\n",
       "      <th>4108</th>\n",
       "      <td>0</td>\n",
       "      <td>103C</td>\n",
       "      <td>30B</td>\n",
       "      <td>NaN</td>\n",
       "      <td>321022.0</td>\n",
       "      <td>100.0</td>\n",
       "      <td>0.0</td>\n",
       "      <td>0.0</td>\n",
       "      <td>0.0</td>\n",
       "      <td>0.0</td>\n",
       "      <td>...</td>\n",
       "      <td>2773.0</td>\n",
       "      <td>25.0</td>\n",
       "      <td>NaN</td>\n",
       "      <td>&gt;=0 to 5</td>\n",
       "      <td>0.0</td>\n",
       "      <td>1.0</td>\n",
       "      <td>0.0</td>\n",
       "      <td>0.0</td>\n",
       "      <td>0.0</td>\n",
       "      <td>0.0</td>\n",
       "    </tr>\n",
       "    <tr>\n",
       "      <th>4109</th>\n",
       "      <td>0</td>\n",
       "      <td>2B</td>\n",
       "      <td>10A</td>\n",
       "      <td>NaN</td>\n",
       "      <td>340208.0</td>\n",
       "      <td>50.0</td>\n",
       "      <td>340499.0</td>\n",
       "      <td>50.0</td>\n",
       "      <td>0.0</td>\n",
       "      <td>0.0</td>\n",
       "      <td>...</td>\n",
       "      <td>1678.0</td>\n",
       "      <td>13.0</td>\n",
       "      <td>Yes</td>\n",
       "      <td>more than 15</td>\n",
       "      <td>0.0</td>\n",
       "      <td>1.0</td>\n",
       "      <td>1.0</td>\n",
       "      <td>5.0</td>\n",
       "      <td>8.0</td>\n",
       "      <td>0.0</td>\n",
       "    </tr>\n",
       "    <tr>\n",
       "      <th>4110</th>\n",
       "      <td>1</td>\n",
       "      <td>2B</td>\n",
       "      <td>10A</td>\n",
       "      <td>NaN</td>\n",
       "      <td>320702.0</td>\n",
       "      <td>40.0</td>\n",
       "      <td>270102.0</td>\n",
       "      <td>30.0</td>\n",
       "      <td>320305.0</td>\n",
       "      <td>30.0</td>\n",
       "      <td>...</td>\n",
       "      <td>2653.0</td>\n",
       "      <td>25.0</td>\n",
       "      <td>NaN</td>\n",
       "      <td>&gt;=0 to 5</td>\n",
       "      <td>1.0</td>\n",
       "      <td>0.0</td>\n",
       "      <td>26.0</td>\n",
       "      <td>15.0</td>\n",
       "      <td>9.0</td>\n",
       "      <td>6.0</td>\n",
       "    </tr>\n",
       "    <tr>\n",
       "      <th>4111</th>\n",
       "      <td>0</td>\n",
       "      <td>40D</td>\n",
       "      <td>10B</td>\n",
       "      <td>C</td>\n",
       "      <td>NaN</td>\n",
       "      <td>NaN</td>\n",
       "      <td>NaN</td>\n",
       "      <td>NaN</td>\n",
       "      <td>NaN</td>\n",
       "      <td>NaN</td>\n",
       "      <td>...</td>\n",
       "      <td>3248.0</td>\n",
       "      <td>31.0</td>\n",
       "      <td>NaN</td>\n",
       "      <td>&gt;=0 to 5</td>\n",
       "      <td>0.0</td>\n",
       "      <td>1.0</td>\n",
       "      <td>1.0</td>\n",
       "      <td>0.0</td>\n",
       "      <td>0.0</td>\n",
       "      <td>0.0</td>\n",
       "    </tr>\n",
       "    <tr>\n",
       "      <th>4112</th>\n",
       "      <td>0</td>\n",
       "      <td>90B</td>\n",
       "      <td>30G</td>\n",
       "      <td>NaN</td>\n",
       "      <td>320402.0</td>\n",
       "      <td>50.0</td>\n",
       "      <td>320207.0</td>\n",
       "      <td>50.0</td>\n",
       "      <td>0.0</td>\n",
       "      <td>0.0</td>\n",
       "      <td>...</td>\n",
       "      <td>2628.0</td>\n",
       "      <td>25.0</td>\n",
       "      <td>Yes</td>\n",
       "      <td>&gt;5 to 10</td>\n",
       "      <td>0.0</td>\n",
       "      <td>1.0</td>\n",
       "      <td>4.0</td>\n",
       "      <td>2.0</td>\n",
       "      <td>1.0</td>\n",
       "      <td>3.0</td>\n",
       "    </tr>\n",
       "  </tbody>\n",
       "</table>\n",
       "<p>4113 rows × 39 columns</p>\n",
       "</div>"
      ],
      "text/plain": [
       "      grant_status sponsor_code grant_category_code  \\\n",
       "0                0          97A                 30B   \n",
       "1                0          36D                 10A   \n",
       "2                0         317A                 30D   \n",
       "3                0          62B                 10B   \n",
       "4                0           1A                 10A   \n",
       "...            ...          ...                 ...   \n",
       "4108             0         103C                 30B   \n",
       "4109             0           2B                 10A   \n",
       "4110             1           2B                 10A   \n",
       "4111             0          40D                 10B   \n",
       "4112             0          90B                 30G   \n",
       "\n",
       "     contract_value_band_see_note_a  rfcd_code_1  rfcd_percentage_1  \\\n",
       "0                                A      321024.0               50.0   \n",
       "1                                G      300201.0              100.0   \n",
       "2                               NaN     321013.0              100.0   \n",
       "3                                B      321103.0               30.0   \n",
       "4                               NaN     270603.0               60.0   \n",
       "...                             ...          ...                ...   \n",
       "4108                            NaN     321022.0              100.0   \n",
       "4109                            NaN     340208.0               50.0   \n",
       "4110                            NaN     320702.0               40.0   \n",
       "4111                             C           NaN                NaN   \n",
       "4112                            NaN     320402.0               50.0   \n",
       "\n",
       "      rfcd_code_2  rfcd_percentage_2  rfcd_code_3  rfcd_percentage_3  ...  \\\n",
       "0        321013.0               30.0     291502.0               20.0  ...   \n",
       "1             0.0                0.0          0.0                0.0  ...   \n",
       "2             0.0                0.0          0.0                0.0  ...   \n",
       "3        321105.0               40.0     321204.0               30.0  ...   \n",
       "4        321205.0               30.0     320603.0               10.0  ...   \n",
       "...           ...                ...          ...                ...  ...   \n",
       "4108          0.0                0.0          0.0                0.0  ...   \n",
       "4109     340499.0               50.0          0.0                0.0  ...   \n",
       "4110     270102.0               30.0     320305.0               30.0  ...   \n",
       "4111          NaN                NaN          NaN                NaN  ...   \n",
       "4112     320207.0               50.0          0.0                0.0  ...   \n",
       "\n",
       "      dept_no_1  faculty_no_1  with_phd_1  \\\n",
       "0        2563.0          25.0        Yes    \n",
       "1        1038.0           1.0         NaN   \n",
       "2        2763.0          25.0        Yes    \n",
       "3        2848.0          25.0         NaN   \n",
       "4        2678.0          25.0        Yes    \n",
       "...         ...           ...         ...   \n",
       "4108     2773.0          25.0         NaN   \n",
       "4109     1678.0          13.0        Yes    \n",
       "4110     2653.0          25.0         NaN   \n",
       "4111     3248.0          31.0         NaN   \n",
       "4112     2628.0          25.0        Yes    \n",
       "\n",
       "      no_of_years_in_uni_at_time_of_grant_1  number_of_successful_grant_1  \\\n",
       "0                                 >10 to 15                           2.0   \n",
       "1                               Less than 0                           0.0   \n",
       "2                                  >5 to 10                           4.0   \n",
       "3                               Less than 0                           1.0   \n",
       "4                                  >5 to 10                           5.0   \n",
       "...                                     ...                           ...   \n",
       "4108                               >=0 to 5                           0.0   \n",
       "4109                           more than 15                           0.0   \n",
       "4110                               >=0 to 5                           1.0   \n",
       "4111                               >=0 to 5                           0.0   \n",
       "4112                               >5 to 10                           0.0   \n",
       "\n",
       "      number_of_unsuccessful_grant_1   a_1   a_1   b_1   c_1  \n",
       "0                                6.0   3.0   5.0  15.0   3.0  \n",
       "1                                3.0   0.0   4.0   0.0   0.0  \n",
       "2                                3.0   6.0  25.0  14.0  14.0  \n",
       "3                                2.0   1.0   0.0   0.0   0.0  \n",
       "4                               14.0   0.0   9.0   7.0   0.0  \n",
       "...                              ...   ...   ...   ...   ...  \n",
       "4108                             1.0   0.0   0.0   0.0   0.0  \n",
       "4109                             1.0   1.0   5.0   8.0   0.0  \n",
       "4110                             0.0  26.0  15.0   9.0   6.0  \n",
       "4111                             1.0   1.0   0.0   0.0   0.0  \n",
       "4112                             1.0   4.0   2.0   1.0   3.0  \n",
       "\n",
       "[4113 rows x 39 columns]"
      ]
     },
     "execution_count": 4,
     "metadata": {},
     "output_type": "execute_result"
    }
   ],
   "source": [
    "grant_df"
   ]
  },
  {
   "cell_type": "code",
   "execution_count": null,
   "metadata": {},
   "outputs": [],
   "source": [
    "grant_df.info()"
   ]
  },
  {
   "cell_type": "code",
   "execution_count": null,
   "metadata": {},
   "outputs": [],
   "source": [
    "grant_df.describe().T"
   ]
  },
  {
   "cell_type": "code",
   "execution_count": null,
   "metadata": {},
   "outputs": [],
   "source": [
    "grant_df.isna().sum()"
   ]
  },
  {
   "cell_type": "markdown",
   "metadata": {},
   "source": [
    "<p style=\"border:3px #ff0000  solid;\">\n",
    "2. Подготовьте данные к обучению моделей:"
   ]
  },
  {
   "cell_type": "markdown",
   "metadata": {},
   "source": [
    "     b) Заполните пропуски\n",
    "          в количественных признаках заполните пропуски средними значениями и нулями (у каждой фичи будет по два варианта),\n",
    "          в категориальных признаках выведите значения, которые они принимают, и найдите признак, где пропуски можно заполнить осмысленным значением. В остальных признаках заполните пропуски значением по умолчанию;"
   ]
  },
  {
   "cell_type": "code",
   "execution_count": null,
   "metadata": {},
   "outputs": [],
   "source": [
    "#заполним country_of_birth_1 самым частовстречающимся значением\n",
    "val_country = grant_df.country_of_birth_1.mode()[0]\n",
    "grant_df['country_of_birth_1'] = grant_df['country_of_birth_1'].fillna(val_country)"
   ]
  },
  {
   "cell_type": "code",
   "execution_count": null,
   "metadata": {},
   "outputs": [],
   "source": [
    "#заполним данные home_language_1 на основе данных country_of_birth_1\n",
    "print(grant_df['home_language_1'].isna().sum())\n",
    "def languages_of_country(country):\n",
    "    if country == 'Asia Pacific' or country == 'Eastern Europe' or country == 'Middle East and Africa' or country == 'South Africa':\n",
    "        return 'Other'\n",
    "    else:\n",
    "        return 'English'\n",
    "for i, row in grant_df.iterrows():\n",
    "    if pd.isna(row['home_language_1']):\n",
    "        grant_df.at[i, 'home_language_1'] = languages_of_country(row['country_of_birth_1'])\n",
    "print(grant_df['home_language_1'].isna().sum())"
   ]
  },
  {
   "cell_type": "code",
   "execution_count": null,
   "metadata": {},
   "outputs": [],
   "source": [
    "#Заполним остальные пропуски\n",
    "grant_df.sponsor_code.fillna('N/A', inplace=True)\n",
    "grant_df.grant_category_code.fillna('N/A', inplace=True)\n",
    "grant_df.contract_value_band_see_note_a.fillna('N', inplace=True)\n",
    "grant_df.with_phd_1.fillna('No', inplace=True)\n",
    "grant_df.no_of_years_in_uni_at_time_of_grant_1.fillna('N/A', inplace=True)\n",
    "grant_df.dept_no_1.fillna(grant_df.dept_no_1.mode()[0], inplace=True)\n",
    "grant_df.faculty_no_1.fillna(grant_df.faculty_no_1.mode()[0], inplace=True)\n",
    "grant_df.role_1.fillna('N/A', inplace=True)"
   ]
  },
  {
   "cell_type": "code",
   "execution_count": null,
   "metadata": {},
   "outputs": [],
   "source": [
    "grant_df.fillna(0, inplace=True)"
   ]
  },
  {
   "cell_type": "code",
   "execution_count": null,
   "metadata": {},
   "outputs": [],
   "source": [
    "grant_df.info()"
   ]
  },
  {
   "cell_type": "markdown",
   "metadata": {},
   "source": [
    "<p style=\"border:3px #00B344  solid;\">\n",
    "Пропусков не осталось\n",
    "</p>"
   ]
  },
  {
   "cell_type": "markdown",
   "metadata": {},
   "source": [
    "     a) Отделите целевую переменную Grant.Status и выясните, сбалансированы ли классы. \n",
    "     Если классы не сбалансированы, используйте в работе хотя бы один из изученных методов борьбы с дисбалансом классов"
   ]
  },
  {
   "cell_type": "code",
   "execution_count": null,
   "metadata": {},
   "outputs": [],
   "source": [
    "target_grant_status = grant_df['grant_status']\n",
    "features = grant_df.drop(['grant_status'], axis=1)\n",
    "#Смотрим распределение классов по целевому признаку\n",
    "target_grant_status.value_counts()"
   ]
  },
  {
   "cell_type": "markdown",
   "metadata": {},
   "source": [
    "<p style=\"border:3px #00B344  solid;\">\n",
    "<b>Вывод:</b> Распределение классов целевого признака не сбалансировано. В дальнейшей работе будем применять методы борьбы с дисбалансом.\n",
    "</p>"
   ]
  },
  {
   "cell_type": "markdown",
   "metadata": {},
   "source": [
    "     c) Преобразуйте категориальные признаки в количественные с помощью прямого кодирования;"
   ]
  },
  {
   "cell_type": "code",
   "execution_count": null,
   "metadata": {},
   "outputs": [],
   "source": [
    "features_df_without_category = pd.get_dummies(features, drop_first=True)\n",
    "features_df_without_category.head()"
   ]
  },
  {
   "cell_type": "markdown",
   "metadata": {},
   "source": [
    "     d) Разделите данные на обучающую и тестовую части;"
   ]
  },
  {
   "cell_type": "code",
   "execution_count": null,
   "metadata": {},
   "outputs": [],
   "source": [
    "#Разделяем датафрейм на тренировочную и валидационную части\n",
    "features_train, features_test, target_grant_train, target_grant_test = train_test_split(features_df_without_category, \n",
    "                                                                                        target_grant_status, \n",
    "                                                                                        test_size=0.25, \n",
    "                                                                                        random_state=25)"
   ]
  },
  {
   "cell_type": "markdown",
   "metadata": {},
   "source": [
    "     e) Используйте масштабирование для получения признаков одинакового масштаба"
   ]
  },
  {
   "cell_type": "code",
   "execution_count": null,
   "metadata": {},
   "outputs": [],
   "source": [
    "scaler = StandardScaler()\n",
    "scaler.fit(features_train)\n",
    "features_train_sc = scaler.transform(features_train)\n",
    "features_valid_sc = scaler.transform(features_test)"
   ]
  },
  {
   "cell_type": "markdown",
   "metadata": {},
   "source": [
    "<p style=\"border:3px #ff0000  solid;\">\n",
    "3. Обучите модели и выберите лучшую:\n",
    "\n",
    "     a)Обучите модель логистической регрессии, используя кросс-валидацию. Оцените ее качество с помощью метрики rocauc. Выведите топ-10 признаков по важности, согласно обученной модели;"
   ]
  },
  {
   "cell_type": "code",
   "execution_count": null,
   "metadata": {},
   "outputs": [],
   "source": [
    "#Так как распределение классов целевого признака не сбалансировано, при инициализации модели обязательно укажем параметр class_weight='balanced'\n",
    "model_Log_Reg_CV = LogisticRegressionCV(solver='liblinear', \n",
    "                                   random_state=12, \n",
    "                                   class_weight='balanced',\n",
    "                                   cv=10)\n",
    "model_Log_Reg_CV.fit(features_train_sc, target_grant_train)\n",
    "predict_Log_Reg_CV_proba = model_Log_Reg_CV.predict_proba(features_valid_sc)[:, 1]\n",
    "roc_auc_score(target_grant_test, predict_Log_Reg_CV_proba)\n"
   ]
  },
  {
   "cell_type": "code",
   "execution_count": null,
   "metadata": {},
   "outputs": [],
   "source": [
    "fpr, tpr, thresholds = roc_curve(target_grant_test, predict_Log_Reg_CV_proba)\n",
    "plt.figure(figsize=(7, 7))\n",
    "plt.step(fpr, tpr, where='post')\n",
    "plt.xlabel('FPR')\n",
    "plt.ylabel('TPR')\n",
    "plt.title('Кривая ROC')\n",
    "plt.show()"
   ]
  },
  {
   "cell_type": "code",
   "execution_count": null,
   "metadata": {},
   "outputs": [],
   "source": [
    "#ТОП-10 признаков по важности, согласно обученной модели\n",
    "pd.DataFrame(zip(list(features.columns), list(abs(model_Log_Reg_CV.coef_[0]))), \n",
    "             columns=['Признак', 'Важность']).sort_values(by=['Важность'], \n",
    "                                                          ascending=False).head(10)"
   ]
  },
  {
   "cell_type": "markdown",
   "metadata": {},
   "source": [
    "     b) Обучите модель случайного леса\n",
    "          Для подбора гиперпараметров и кросс-валидации используйте структуру GridSearchCV,\n",
    "          Выберите наилучший вариант случайного леса и выведите его параметры,\n",
    "          Оцените качество выбранной модели с помощью метрики rocauc,\n",
    "          Выведите топ-10 признаков по важности. Используйте атрибут feature_importances_, чтобы узнать важность признаков в деревянных моделях."
   ]
  },
  {
   "cell_type": "code",
   "execution_count": null,
   "metadata": {},
   "outputs": [],
   "source": [
    "#GridSearchCV\n",
    "hyp_param = {'n_estimators' : range(2, 11, 2),\n",
    "             'max_depth' : range(1, 11, 2),\n",
    "             'min_samples_leaf' : range(1, 8),\n",
    "             'min_samples_split' : range(2, 10, 2)\n",
    "             }"
   ]
  },
  {
   "cell_type": "code",
   "execution_count": null,
   "metadata": {},
   "outputs": [],
   "source": [
    "model_RFC = RandomForestClassifier(random_state=25)\n",
    "grid_search = GridSearchCV(model_RFC, hyp_param, cv=5)\n",
    "grid_search.fit(features_train_sc, target_grant_train)\n",
    "grid_search.best_params_"
   ]
  },
  {
   "cell_type": "code",
   "execution_count": null,
   "metadata": {},
   "outputs": [],
   "source": [
    "predict_model_RFC_proba = grid_search.predict_proba(features_valid_sc)\n",
    "roc_auc_score(target_grant_test, predict_model_RFC_proba[:, 1])"
   ]
  },
  {
   "cell_type": "code",
   "execution_count": null,
   "metadata": {},
   "outputs": [],
   "source": [
    "fpr, tpr, thresholds = roc_curve(target_grant_test, predict_model_RFC_proba[:, 1])\n",
    "plt.figure(figsize=(7, 7))\n",
    "plt.step(fpr, tpr, where='post')\n",
    "plt.xlabel('FPR')\n",
    "plt.ylabel('TPR')\n",
    "plt.title('Кривая ROC')\n",
    "plt.show()"
   ]
  },
  {
   "cell_type": "code",
   "execution_count": null,
   "metadata": {},
   "outputs": [],
   "source": [
    "pd.DataFrame(zip(list(features.columns), list(grid_search.best_estimator_.feature_importances_)), \n",
    "             columns=['Признак', 'Важность']).sort_values(by=['Важность'], \n",
    "                                                          ascending=False).head(10)"
   ]
  },
  {
   "cell_type": "markdown",
   "metadata": {},
   "source": [
    "<p style=\"border:3px #ff0000  solid;\">\n",
    "4. Напишите вывод, в котором будет содержаться информация о том, какие признаки важны согласно обеим моделям, и какая модель оказалась наилучшей для решения поставленной задачи."
   ]
  },
  {
   "cell_type": "markdown",
   "metadata": {},
   "source": [
    "<p style=\"border:3px #00B344  solid;\">\n",
    "<b>Выводы: </b> \n",
    "    \n",
    "    1. Сравнивая значения метрик rocauc, можно сделать вывод что наилучшее качество имеет модель логистической регрессии (0.88 против 0.86 для случайного леса).\n",
    "    2. Для обеих моделей самыми важными признаками выделены year_of_birth_1 и role_1. \n",
    "    3. Признак sponsor_code так же попал в топ-10 важных признаков для обеих моделей.\n",
    "    4. Очень важным этапом, влияющим на конечный результат - является подготовка данных, в том числе правильное заполнение пропусков. \n",
    "    5. Заполнению пропусков стоит уделять внимания не меньше, чем подбору гиперпараметров.\n",
    "</p>"
   ]
  },
  {
   "cell_type": "markdown",
   "metadata": {},
   "source": []
  }
 ],
 "metadata": {
  "kernelspec": {
   "display_name": "Python 3",
   "language": "python",
   "name": "python3"
  },
  "language_info": {
   "codemirror_mode": {
    "name": "ipython",
    "version": 3
   },
   "file_extension": ".py",
   "mimetype": "text/x-python",
   "name": "python",
   "nbconvert_exporter": "python",
   "pygments_lexer": "ipython3",
   "version": "3.11.4"
  },
  "orig_nbformat": 4
 },
 "nbformat": 4,
 "nbformat_minor": 2
}
