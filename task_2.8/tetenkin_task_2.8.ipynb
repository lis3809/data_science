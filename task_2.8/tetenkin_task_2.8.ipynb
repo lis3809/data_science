{
 "cells": [
  {
   "cell_type": "code",
   "execution_count": 1,
   "metadata": {},
   "outputs": [],
   "source": [
    "import pandas as pd\n",
    "import re\n",
    "from sklearn.model_selection import GridSearchCV\n",
    "from sklearn.preprocessing import StandardScaler\n",
    "from sklearn.tree import DecisionTreeClassifier\n",
    "from sklearn.linear_model import LogisticRegression\n",
    "from sklearn.ensemble import RandomForestClassifier\n",
    "from sklearn.metrics import roc_auc_score\n",
    "from sklearn.pipeline import Pipeline\n",
    "from sklearn.base import TransformerMixin, BaseEstimator\n"
   ]
  },
  {
   "cell_type": "markdown",
   "metadata": {},
   "source": [
    "<p style=\"border:3px #ff0000  solid;\">\n",
    "Задание: Спрогнозировать сердечную недостаточность"
   ]
  },
  {
   "cell_type": "markdown",
   "metadata": {},
   "source": [
    "<p style=\"border:3px #ff0000  solid;\">\n",
    "1. Загрузим треировочную и тестовую выборки. Проверим и устраним, при необходимости, пропуски, а также проведем другие подготовительные действия"
   ]
  },
  {
   "cell_type": "code",
   "execution_count": 2,
   "metadata": {},
   "outputs": [],
   "source": [
    "heart_train_df = pd.read_csv('C:/Users/Z/PycharmProjects/data_science_1t/task_2.8/heart_adapt_train.csv')\n",
    "heart_test_df = pd.read_csv('C:/Users/Z/PycharmProjects/data_science_1t/task_2.8/heart_adapt_test.csv')"
   ]
  },
  {
   "cell_type": "markdown",
   "metadata": {},
   "source": [
    "     1.1 Оберните весь конвейер преобразований в Pipeline"
   ]
  },
  {
   "cell_type": "code",
   "execution_count": 3,
   "metadata": {},
   "outputs": [],
   "source": [
    "class MyTransformer(TransformerMixin, BaseEstimator):\n",
    "\n",
    "    def __init__(self):\n",
    "        pass\n",
    "\n",
    "    def fit(self, X, y=None):\n",
    "        return self\n",
    "\n",
    "    def transform(self, X):\n",
    "        X = pd.get_dummies(X, drop_first=True)\n",
    "        #X.clolumns = [re.sub('\\\\.+', '_', i).lower() for i in X.columns]    #Почему-то не работает\n",
    "        X = self.convert_bool(X)\n",
    "        X = X.fillna(X.mean())\n",
    "        X = X.reset_index(drop=True)      \n",
    "        return X\n",
    "    \n",
    "    def convert_bool(self, df):\n",
    "        bool_column = df.select_dtypes(include=bool).columns\n",
    "        for column in bool_column:\n",
    "            df[column] = df[column].astype(int)\n",
    "        return df"
   ]
  },
  {
   "cell_type": "code",
   "execution_count": 4,
   "metadata": {},
   "outputs": [],
   "source": [
    "#Создаем трансформер и преобразуем данные\n",
    "myTransformer = MyTransformer()\n",
    "myTransformer.fit(heart_train_df)\n",
    "heart_train_df = myTransformer.transform(heart_train_df)\n",
    "heart_test_df = myTransformer.transform(heart_test_df)\n"
   ]
  },
  {
   "cell_type": "code",
   "execution_count": 5,
   "metadata": {},
   "outputs": [
    {
     "name": "stdout",
     "output_type": "stream",
     "text": [
      "<class 'pandas.core.frame.DataFrame'>\n",
      "RangeIndex: 589 entries, 0 to 588\n",
      "Data columns (total 16 columns):\n",
      " #   Column             Non-Null Count  Dtype  \n",
      "---  ------             --------------  -----  \n",
      " 0   Age                589 non-null    float64\n",
      " 1   RestingBP          589 non-null    float64\n",
      " 2   Cholesterol        589 non-null    float64\n",
      " 3   FastingBS          589 non-null    int64  \n",
      " 4   MaxHR              589 non-null    int64  \n",
      " 5   Oldpeak            589 non-null    float64\n",
      " 6   HeartDisease       589 non-null    int64  \n",
      " 7   Sex_M              589 non-null    int32  \n",
      " 8   ChestPainType_ATA  589 non-null    int32  \n",
      " 9   ChestPainType_NAP  589 non-null    int32  \n",
      " 10  ChestPainType_TA   589 non-null    int32  \n",
      " 11  RestingECG_Normal  589 non-null    int32  \n",
      " 12  RestingECG_ST      589 non-null    int32  \n",
      " 13  ExerciseAngina_Y   589 non-null    int32  \n",
      " 14  ST_Slope_Flat      589 non-null    int32  \n",
      " 15  ST_Slope_Up        589 non-null    int32  \n",
      "dtypes: float64(4), int32(9), int64(3)\n",
      "memory usage: 53.0 KB\n"
     ]
    }
   ],
   "source": [
    "heart_train_df.info()"
   ]
  },
  {
   "cell_type": "code",
   "execution_count": 6,
   "metadata": {},
   "outputs": [
    {
     "name": "stdout",
     "output_type": "stream",
     "text": [
      "<class 'pandas.core.frame.DataFrame'>\n",
      "RangeIndex: 197 entries, 0 to 196\n",
      "Data columns (total 16 columns):\n",
      " #   Column             Non-Null Count  Dtype  \n",
      "---  ------             --------------  -----  \n",
      " 0   Age                197 non-null    float64\n",
      " 1   RestingBP          197 non-null    float64\n",
      " 2   Cholesterol        197 non-null    float64\n",
      " 3   FastingBS          197 non-null    int64  \n",
      " 4   MaxHR              197 non-null    int64  \n",
      " 5   Oldpeak            197 non-null    float64\n",
      " 6   HeartDisease       197 non-null    int64  \n",
      " 7   Sex_M              197 non-null    int32  \n",
      " 8   ChestPainType_ATA  197 non-null    int32  \n",
      " 9   ChestPainType_NAP  197 non-null    int32  \n",
      " 10  ChestPainType_TA   197 non-null    int32  \n",
      " 11  RestingECG_Normal  197 non-null    int32  \n",
      " 12  RestingECG_ST      197 non-null    int32  \n",
      " 13  ExerciseAngina_Y   197 non-null    int32  \n",
      " 14  ST_Slope_Flat      197 non-null    int32  \n",
      " 15  ST_Slope_Up        197 non-null    int32  \n",
      "dtypes: float64(4), int32(9), int64(3)\n",
      "memory usage: 17.8 KB\n"
     ]
    }
   ],
   "source": [
    "heart_test_df.info()"
   ]
  },
  {
   "cell_type": "code",
   "execution_count": 7,
   "metadata": {},
   "outputs": [
    {
     "data": {
      "text/plain": [
       "HeartDisease\n",
       "1    381\n",
       "0    208\n",
       "Name: count, dtype: int64"
      ]
     },
     "execution_count": 7,
     "metadata": {},
     "output_type": "execute_result"
    }
   ],
   "source": [
    "heart_train_df.HeartDisease.value_counts()"
   ]
  },
  {
   "cell_type": "markdown",
   "metadata": {},
   "source": [
    "<p style=\"border:3px #00B344  solid;\">\n",
    "Мы избавились от пропусков. Данные подготовлены к дальнейшей работе. В целевом признаке имеется дисбаланс классов, который необходимо учесть при обучении моделей.\n",
    "</p>"
   ]
  },
  {
   "cell_type": "markdown",
   "metadata": {},
   "source": [
    "<p style=\"border:3px #ff0000  solid;\">\n",
    "2. Подберите оптимальный вариант прогнозной модели с помощью GridSearchCV"
   ]
  },
  {
   "cell_type": "markdown",
   "metadata": {},
   "source": [
    "    Отделяем признаки"
   ]
  },
  {
   "cell_type": "code",
   "execution_count": 8,
   "metadata": {},
   "outputs": [],
   "source": [
    "train_target = heart_train_df['HeartDisease']\n",
    "train_features = heart_train_df.drop(['HeartDisease'], axis=1)\n",
    "test_target = heart_test_df['HeartDisease']\n",
    "test_features = heart_test_df.drop(['HeartDisease'], axis=1)"
   ]
  },
  {
   "cell_type": "markdown",
   "metadata": {},
   "source": [
    "    Подготовим Pipeline"
   ]
  },
  {
   "cell_type": "code",
   "execution_count": 9,
   "metadata": {},
   "outputs": [],
   "source": [
    "pipe = Pipeline([  \n",
    "  ('ohe_types', MyTransformer()),\n",
    "  ('scaler', StandardScaler()),\n",
    "  ('classify', DecisionTreeClassifier(class_weight='balanced', random_state=0))\n",
    "])"
   ]
  },
  {
   "cell_type": "markdown",
   "metadata": {},
   "source": [
    "    Подберем оптимальный вариант прогнозной модели с помощью GridSearchCV"
   ]
  },
  {
   "cell_type": "code",
   "execution_count": 10,
   "metadata": {},
   "outputs": [
    {
     "name": "stdout",
     "output_type": "stream",
     "text": [
      "Качество модели на тестовой выборке c лучшей моделью: {0.9081552305961754}\n"
     ]
    }
   ],
   "source": [
    "params = [\n",
    "    {'classify': [LogisticRegression(class_weight='balanced', random_state=0)]}, \n",
    "    {'classify': [DecisionTreeClassifier(class_weight='balanced', random_state=0)], 'classify__max_depth': [2, 5, 10, 20]},\n",
    "    {'classify': [RandomForestClassifier(class_weight='balanced', random_state=0)], 'classify__max_depth': [2, 5, 10, 20], 'classify__n_estimators' : range(10, 51, 10)}\n",
    "]\n",
    "\n",
    "grid_search = GridSearchCV(pipe, param_grid=params, cv=5, scoring='roc_auc')\n",
    "grid_search.fit(X=train_features, y=train_target)\n",
    "print(\n",
    "    'Качество модели на тестовой выборке c лучшей моделью:', \n",
    "    {roc_auc_score(test_target, grid_search.predict_proba(test_features)[:, 1])}\n",
    ")"
   ]
  },
  {
   "cell_type": "code",
   "execution_count": 11,
   "metadata": {},
   "outputs": [
    {
     "data": {
      "text/html": [
       "<style>#sk-container-id-1 {color: black;}#sk-container-id-1 pre{padding: 0;}#sk-container-id-1 div.sk-toggleable {background-color: white;}#sk-container-id-1 label.sk-toggleable__label {cursor: pointer;display: block;width: 100%;margin-bottom: 0;padding: 0.3em;box-sizing: border-box;text-align: center;}#sk-container-id-1 label.sk-toggleable__label-arrow:before {content: \"▸\";float: left;margin-right: 0.25em;color: #696969;}#sk-container-id-1 label.sk-toggleable__label-arrow:hover:before {color: black;}#sk-container-id-1 div.sk-estimator:hover label.sk-toggleable__label-arrow:before {color: black;}#sk-container-id-1 div.sk-toggleable__content {max-height: 0;max-width: 0;overflow: hidden;text-align: left;background-color: #f0f8ff;}#sk-container-id-1 div.sk-toggleable__content pre {margin: 0.2em;color: black;border-radius: 0.25em;background-color: #f0f8ff;}#sk-container-id-1 input.sk-toggleable__control:checked~div.sk-toggleable__content {max-height: 200px;max-width: 100%;overflow: auto;}#sk-container-id-1 input.sk-toggleable__control:checked~label.sk-toggleable__label-arrow:before {content: \"▾\";}#sk-container-id-1 div.sk-estimator input.sk-toggleable__control:checked~label.sk-toggleable__label {background-color: #d4ebff;}#sk-container-id-1 div.sk-label input.sk-toggleable__control:checked~label.sk-toggleable__label {background-color: #d4ebff;}#sk-container-id-1 input.sk-hidden--visually {border: 0;clip: rect(1px 1px 1px 1px);clip: rect(1px, 1px, 1px, 1px);height: 1px;margin: -1px;overflow: hidden;padding: 0;position: absolute;width: 1px;}#sk-container-id-1 div.sk-estimator {font-family: monospace;background-color: #f0f8ff;border: 1px dotted black;border-radius: 0.25em;box-sizing: border-box;margin-bottom: 0.5em;}#sk-container-id-1 div.sk-estimator:hover {background-color: #d4ebff;}#sk-container-id-1 div.sk-parallel-item::after {content: \"\";width: 100%;border-bottom: 1px solid gray;flex-grow: 1;}#sk-container-id-1 div.sk-label:hover label.sk-toggleable__label {background-color: #d4ebff;}#sk-container-id-1 div.sk-serial::before {content: \"\";position: absolute;border-left: 1px solid gray;box-sizing: border-box;top: 0;bottom: 0;left: 50%;z-index: 0;}#sk-container-id-1 div.sk-serial {display: flex;flex-direction: column;align-items: center;background-color: white;padding-right: 0.2em;padding-left: 0.2em;position: relative;}#sk-container-id-1 div.sk-item {position: relative;z-index: 1;}#sk-container-id-1 div.sk-parallel {display: flex;align-items: stretch;justify-content: center;background-color: white;position: relative;}#sk-container-id-1 div.sk-item::before, #sk-container-id-1 div.sk-parallel-item::before {content: \"\";position: absolute;border-left: 1px solid gray;box-sizing: border-box;top: 0;bottom: 0;left: 50%;z-index: -1;}#sk-container-id-1 div.sk-parallel-item {display: flex;flex-direction: column;z-index: 1;position: relative;background-color: white;}#sk-container-id-1 div.sk-parallel-item:first-child::after {align-self: flex-end;width: 50%;}#sk-container-id-1 div.sk-parallel-item:last-child::after {align-self: flex-start;width: 50%;}#sk-container-id-1 div.sk-parallel-item:only-child::after {width: 0;}#sk-container-id-1 div.sk-dashed-wrapped {border: 1px dashed gray;margin: 0 0.4em 0.5em 0.4em;box-sizing: border-box;padding-bottom: 0.4em;background-color: white;}#sk-container-id-1 div.sk-label label {font-family: monospace;font-weight: bold;display: inline-block;line-height: 1.2em;}#sk-container-id-1 div.sk-label-container {text-align: center;}#sk-container-id-1 div.sk-container {/* jupyter's `normalize.less` sets `[hidden] { display: none; }` but bootstrap.min.css set `[hidden] { display: none !important; }` so we also need the `!important` here to be able to override the default hidden behavior on the sphinx rendered scikit-learn.org. See: https://github.com/scikit-learn/scikit-learn/issues/21755 */display: inline-block !important;position: relative;}#sk-container-id-1 div.sk-text-repr-fallback {display: none;}</style><div id=\"sk-container-id-1\" class=\"sk-top-container\"><div class=\"sk-text-repr-fallback\"><pre>Pipeline(steps=[(&#x27;ohe_types&#x27;, MyTransformer()), (&#x27;scaler&#x27;, StandardScaler()),\n",
       "                (&#x27;classify&#x27;,\n",
       "                 RandomForestClassifier(class_weight=&#x27;balanced&#x27;, max_depth=20,\n",
       "                                        n_estimators=50, random_state=0))])</pre><b>In a Jupyter environment, please rerun this cell to show the HTML representation or trust the notebook. <br />On GitHub, the HTML representation is unable to render, please try loading this page with nbviewer.org.</b></div><div class=\"sk-container\" hidden><div class=\"sk-item sk-dashed-wrapped\"><div class=\"sk-label-container\"><div class=\"sk-label sk-toggleable\"><input class=\"sk-toggleable__control sk-hidden--visually\" id=\"sk-estimator-id-1\" type=\"checkbox\" ><label for=\"sk-estimator-id-1\" class=\"sk-toggleable__label sk-toggleable__label-arrow\">Pipeline</label><div class=\"sk-toggleable__content\"><pre>Pipeline(steps=[(&#x27;ohe_types&#x27;, MyTransformer()), (&#x27;scaler&#x27;, StandardScaler()),\n",
       "                (&#x27;classify&#x27;,\n",
       "                 RandomForestClassifier(class_weight=&#x27;balanced&#x27;, max_depth=20,\n",
       "                                        n_estimators=50, random_state=0))])</pre></div></div></div><div class=\"sk-serial\"><div class=\"sk-item\"><div class=\"sk-estimator sk-toggleable\"><input class=\"sk-toggleable__control sk-hidden--visually\" id=\"sk-estimator-id-2\" type=\"checkbox\" ><label for=\"sk-estimator-id-2\" class=\"sk-toggleable__label sk-toggleable__label-arrow\">MyTransformer</label><div class=\"sk-toggleable__content\"><pre>MyTransformer()</pre></div></div></div><div class=\"sk-item\"><div class=\"sk-estimator sk-toggleable\"><input class=\"sk-toggleable__control sk-hidden--visually\" id=\"sk-estimator-id-3\" type=\"checkbox\" ><label for=\"sk-estimator-id-3\" class=\"sk-toggleable__label sk-toggleable__label-arrow\">StandardScaler</label><div class=\"sk-toggleable__content\"><pre>StandardScaler()</pre></div></div></div><div class=\"sk-item\"><div class=\"sk-estimator sk-toggleable\"><input class=\"sk-toggleable__control sk-hidden--visually\" id=\"sk-estimator-id-4\" type=\"checkbox\" ><label for=\"sk-estimator-id-4\" class=\"sk-toggleable__label sk-toggleable__label-arrow\">RandomForestClassifier</label><div class=\"sk-toggleable__content\"><pre>RandomForestClassifier(class_weight=&#x27;balanced&#x27;, max_depth=20, n_estimators=50,\n",
       "                       random_state=0)</pre></div></div></div></div></div></div></div>"
      ],
      "text/plain": [
       "Pipeline(steps=[('ohe_types', MyTransformer()), ('scaler', StandardScaler()),\n",
       "                ('classify',\n",
       "                 RandomForestClassifier(class_weight='balanced', max_depth=20,\n",
       "                                        n_estimators=50, random_state=0))])"
      ]
     },
     "execution_count": 11,
     "metadata": {},
     "output_type": "execute_result"
    }
   ],
   "source": [
    "grid_search.best_estimator_"
   ]
  },
  {
   "cell_type": "markdown",
   "metadata": {},
   "source": [
    "<p style=\"border:3px #00B344  solid;\">\n",
    "Выводы:\n",
    "\n",
    "    1. В результате проведенной работы закреплены знания в оборачивании конвейера преобразований в Pipeline.\n",
    "    2. Входе исследования обучено три модели, из которых самой эффективной оказалась RandomForestClassifier с параметрами max_depth=20 и n_estimators=50.\n",
    "    3. Качество модели на тестовой выборке составило 0.91.\n",
    "    4. Так как в целевом признаке имеется дисбаланс классов, при обучении моделей применялся параметр class_weight='balanced'."
   ]
  }
 ],
 "metadata": {
  "kernelspec": {
   "display_name": "Python 3",
   "language": "python",
   "name": "python3"
  },
  "language_info": {
   "codemirror_mode": {
    "name": "ipython",
    "version": 3
   },
   "file_extension": ".py",
   "mimetype": "text/x-python",
   "name": "python",
   "nbconvert_exporter": "python",
   "pygments_lexer": "ipython3",
   "version": "3.11.4"
  },
  "orig_nbformat": 4
 },
 "nbformat": 4,
 "nbformat_minor": 2
}
