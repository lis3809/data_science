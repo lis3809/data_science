{
 "cells": [
  {
   "cell_type": "code",
   "execution_count": null,
   "metadata": {},
   "outputs": [],
   "source": [
    "import tensorflow\n",
    "from scikeras.wrappers import KerasClassifier\n",
    "from tensorflow.keras.models import Sequential # Подлючаем класс создания модели Sequential\n",
    "from tensorflow.keras.layers import Dense, Flatten, MaxPooling1D # Подключаем класс Dense - полносвязный слой, и Flatten - данные выстраиваем в линию, одномерные\n",
    "from tensorflow.keras.optimizers import Adam # Подключаем оптимизатор Adam\n",
    "from tensorflow.keras import utils #Утилиты для to_categorical\n",
    "\n",
    "from sklearn.model_selection import train_test_split\n",
    "from sklearn.metrics import confusion_matrix # для построения матрицы ошибок\n",
    "from sklearn.preprocessing import StandardScaler # для нормализации данных\n",
    "from sklearn.utils.class_weight import compute_class_weight\n",
    "from sklearn.model_selection import GridSearchCV\n",
    "\n",
    "from sklearn.metrics import accuracy_score\n",
    "\n",
    "import numpy as np # Подключаем библиотеку numpy\n",
    "import pandas as pd # Библиотека pandas\n",
    "\n",
    "# from google.colab import files #Для загрузки своей картинки\n",
    "\n",
    "import matplotlib.pyplot as plt #Отрисовка изображений\n",
    "import seaborn as sns # seaborn, надстройка визуализации над matplotlib\n",
    "from PIL import Image #Отрисовка изображений\n",
    "\n",
    "#Отрисовывать изображения в ноутбуке, а не в консоль или файл\n",
    "%matplotlib inline"
   ]
  },
  {
   "cell_type": "markdown",
   "metadata": {},
   "source": [
    "<p style=\"border:3px #ff0000  solid;\">\n",
    "Задача: Создать нейронную сеть"
   ]
  },
  {
   "cell_type": "markdown",
   "metadata": {},
   "source": [
    "<p style=\"border:3px #ff0000  solid;\">\n",
    "1. Загружаем данные"
   ]
  },
  {
   "cell_type": "code",
   "execution_count": null,
   "metadata": {},
   "outputs": [],
   "source": [
    "pima_df = pd.read_csv('C:/Users/Z/PycharmProjects/data_science_1t/task_3.1/pima-indians-diabetes.csv', header=None)\n",
    "pima_df.columns = ['pregnancies', 'glucose', 'blood_pressure', 'skin_thickness', 'insulin', 'bmi', 'diabetes_pedigree_function', 'age', 'class']\n",
    "pima_df.sample(5)"
   ]
  },
  {
   "cell_type": "markdown",
   "metadata": {},
   "source": [
    "<p style=\"border:3px #ff0000  solid;\">\n",
    "2. Подготавливаем данные (приводим их к нужным типам данных, проводим базовое EDA, делаем  выводы, если возможно)."
   ]
  },
  {
   "cell_type": "code",
   "execution_count": null,
   "metadata": {},
   "outputs": [],
   "source": [
    "pima_df.info()"
   ]
  },
  {
   "cell_type": "code",
   "execution_count": null,
   "metadata": {},
   "outputs": [],
   "source": [
    "#Преобразуем типы данных в нужный формат\n",
    "pima_df = pima_df.astype('float64')"
   ]
  },
  {
   "cell_type": "code",
   "execution_count": null,
   "metadata": {},
   "outputs": [],
   "source": [
    "pima_df.describe().T"
   ]
  },
  {
   "cell_type": "code",
   "execution_count": null,
   "metadata": {},
   "outputs": [],
   "source": [
    "pima_df['class'].value_counts()"
   ]
  },
  {
   "cell_type": "markdown",
   "metadata": {},
   "source": [
    "<p style=\"border:3px #00B344  solid;\">\n",
    "Пропуски отсутсвуют. Типы данных соответствуют. Данные готовы к дальнейшей работе. Наблюдается дисбаланс целевого признака, который необходимо учесть в дальнейшей работе.\n",
    "</p>"
   ]
  },
  {
   "cell_type": "markdown",
   "metadata": {},
   "source": [
    "<p style=\"border:3px #ff0000  solid;\">\n",
    "3. Создаем тренировочную и валидационную выборки."
   ]
  },
  {
   "cell_type": "code",
   "execution_count": null,
   "metadata": {},
   "outputs": [],
   "source": [
    "target_pima = pima_df['class']\n",
    "features_pima = pima_df.drop(['class'], axis=1)\n",
    "#Разделяем датасет на тренировочную и валидационную части\n",
    "features_train, features_test, target_train, target_test = train_test_split(features_pima, target_pima, test_size=0.3, random_state=45)"
   ]
  },
  {
   "cell_type": "markdown",
   "metadata": {},
   "source": [
    "<p style=\"border:3px #ff0000  solid;\">\n",
    "4. Масштабируем данные с помощью StandardScaler из библиотеки Scikit-learn."
   ]
  },
  {
   "cell_type": "code",
   "execution_count": null,
   "metadata": {},
   "outputs": [],
   "source": [
    "scaler = StandardScaler()\n",
    "scaler.fit(features_train)\n",
    "features_train_sc = scaler.transform(features_train)\n",
    "features_valid_sc = scaler.transform(features_test)"
   ]
  },
  {
   "cell_type": "markdown",
   "metadata": {},
   "source": [
    "<p style=\"border:3px #ff0000  solid;\">\n",
    "5. Создайте функцию, при вызове которой будет собираться и компилироваться (model.compile) архитектура модели. Функция должна возвращать собранную архитектуру. Параметры слоев и их количество вы выбираете сами, стараясь добиться наилучшего качества."
   ]
  },
  {
   "cell_type": "code",
   "execution_count": null,
   "metadata": {},
   "outputs": [],
   "source": [
    "def get_sequential_model(layers, input_dim = 8, dense = 10, optimazer = \"adam\", activation = \"relu\"):\n",
    "    model = Sequential()\n",
    "    model.add(Dense(dense, input_dim=input_dim, activation=activation)) #Входной слой\n",
    "    for i in range(1, layers):\n",
    "        model.add(Dense(dense, activation=activation)) #Внутренние слои\n",
    "    model.add(Dense(1, activation=\"sigmoid\")) #Выходной слой\n",
    "    model.compile(loss=\"binary_crossentropy\", optimizer=optimazer, metrics=[\"accuracy\"]) # Компилируем модель\n",
    "    return model"
   ]
  },
  {
   "cell_type": "markdown",
   "metadata": {},
   "source": [
    "<p style=\"border:3px #ff0000  solid;\">\n",
    "6. Обучите модель."
   ]
  },
  {
   "cell_type": "code",
   "execution_count": null,
   "metadata": {},
   "outputs": [],
   "source": [
    "#Так как имеется дисбаланс классов, посчитаем веса классов\n",
    "class_weight = compute_class_weight(class_weight='balanced', classes=np.unique(target_train), y=target_train)\n",
    "class_weight = dict(enumerate(class_weight))"
   ]
  },
  {
   "cell_type": "code",
   "execution_count": null,
   "metadata": {},
   "outputs": [],
   "source": [
    "num_epoch = 15\n",
    "dense = 15\n",
    "layers_model = 5 #Количество внутренних слоев в модели\n",
    "input_dim_model = 8 #Количесвто входных данных\n",
    "sequential_model = get_sequential_model(layers_model, input_dim_model, dense, \"adam\", \"relu\")\n",
    "history = sequential_model.fit(features_train_sc, target_train, batch_size=128, epochs=num_epoch, verbose=0, class_weight=class_weight, validation_data=(features_valid_sc, target_test)) # !!!!!!Добавим параметр class_weight=class_weight, так как имеется дисбаланс"
   ]
  },
  {
   "cell_type": "markdown",
   "metadata": {},
   "source": [
    "<p style=\"border:3px #ff0000  solid;\">\n",
    "7. Оцените качество модели по выбранной вами метрике (выбор метрики должен быть обоснован)."
   ]
  },
  {
   "cell_type": "markdown",
   "metadata": {},
   "source": [
    "    Так как модель решает задачу бинарной классификации, для оценки качества модели выберем метрику accuracy"
   ]
  },
  {
   "cell_type": "code",
   "execution_count": null,
   "metadata": {},
   "outputs": [],
   "source": [
    "val_loss, vall_acc = sequential_model.evaluate(features_valid_sc, target_test)"
   ]
  },
  {
   "cell_type": "markdown",
   "metadata": {},
   "source": [
    "<p style=\"border:3px #ff0000  solid;\">\n",
    "8. Постройте графики точности и графики ошибки в зависимости от количества эпох для тренировочной выборки и для валидационной."
   ]
  },
  {
   "cell_type": "code",
   "execution_count": null,
   "metadata": {},
   "outputs": [],
   "source": [
    "#График точности\n",
    "plt.plot(history.history['accuracy'])\n",
    "plt.plot(history.history['val_accuracy'])\n",
    "plt.title('График точности')\n",
    "plt.xlabel('Epoch')\n",
    "plt.ylabel('Accuracy')\n",
    "plt.legend(['Train', 'Validation'])\n",
    "plt.show()"
   ]
  },
  {
   "cell_type": "code",
   "execution_count": null,
   "metadata": {},
   "outputs": [],
   "source": [
    "#График ошибки\n",
    "plt.plot(history.history['loss'])\n",
    "plt.plot(history.history['val_loss'])\n",
    "plt.title('График ошибки')\n",
    "plt.xlabel('Epoch')\n",
    "plt.ylabel('Loss')\n",
    "plt.legend(['Train', 'Validation'])\n",
    "plt.show()"
   ]
  },
  {
   "cell_type": "markdown",
   "metadata": {},
   "source": [
    "<p style=\"border:3px #ff0000  solid;\">\n",
    "9. Постройте матрицу ошибок для валидационной выборки."
   ]
  },
  {
   "cell_type": "code",
   "execution_count": null,
   "metadata": {},
   "outputs": [],
   "source": [
    "target_test_pred = sequential_model.predict(features_valid_sc)\n",
    "target_test_pred = (target_test_pred > 0.5).astype(int)\n",
    "\n",
    "# пробуем построить матрицу ошибок\n",
    "plt.figure(figsize=(5, 5)) # задаем размеры всего рисунка\n",
    "cm = confusion_matrix(target_test, target_test_pred) # создаём матрицу ошибок\n",
    "sns.heatmap(cm, annot=True, fmt='d', cmap='RdBu')\n",
    "plt.ylabel('true label')\n",
    "plt.xlabel('predicted label')\n",
    "plt.show()"
   ]
  },
  {
   "cell_type": "markdown",
   "metadata": {},
   "source": [
    "<p style=\"border:3px #00B344  solid;\">\n",
    "Максимальное качество модели с выбранными параметрами составило от 0.68 до 0.71. Модель получилась достаточно низкого качества. Требуется оптимизация выбранных параметров модели."
   ]
  },
  {
   "cell_type": "markdown",
   "metadata": {},
   "source": [
    "<p style=\"border:3px #ff1010  solid;\">\n",
    "==============ЗАДАНИЕ ПРО=========================="
   ]
  },
  {
   "cell_type": "markdown",
   "metadata": {},
   "source": [
    "<p style=\"border:3px #ff1010  solid;\">\n",
    "1. Установите библиотеку scikeras, либо найдите как импортировать модуль KerasClassifier в tensorflow."
   ]
  },
  {
   "cell_type": "markdown",
   "metadata": {},
   "source": [
    "<p style=\"border:3px #ff1010  solid;\">\n",
    "2. Из этой же библиотеки scikeras импортируйте модуль KerasClassifier (найдите в документации как его импортировать)."
   ]
  },
  {
   "cell_type": "markdown",
   "metadata": {},
   "source": [
    "<p style=\"border:3px #ff1010  solid;\">\n",
    "3. Поместите вашу модель в оболочку KerasClassifier."
   ]
  },
  {
   "cell_type": "code",
   "execution_count": null,
   "metadata": {},
   "outputs": [],
   "source": [
    "kerasClassifier_model = KerasClassifier(model=get_sequential_model, layers = None, input_dim = None, dense = None, optimazer = None, activation = None, verbose=0)"
   ]
  },
  {
   "cell_type": "markdown",
   "metadata": {},
   "source": [
    "<p style=\"border:3px #ff1010  solid;\">\n",
    "4. Подберите оптимальные параметры для модели с помощью GridSearchCV или RandomizedSearchCV."
   ]
  },
  {
   "cell_type": "markdown",
   "metadata": {},
   "source": [
    "        Подберем оптимальный вариант модели с помощью GridSearchCV"
   ]
  },
  {
   "cell_type": "code",
   "execution_count": null,
   "metadata": {},
   "outputs": [],
   "source": [
    "params = {\n",
    "    'layers' : [2, 4, 6, 8],\n",
    "    'input_dim' : [8],\n",
    "    'dense' : [128, 256, 512],\n",
    "    'optimazer': ['adam', 'sgd'],\n",
    "    'activation' : ['relu', 'softmax']\n",
    "}"
   ]
  },
  {
   "cell_type": "code",
   "execution_count": null,
   "metadata": {},
   "outputs": [],
   "source": [
    "grid_search = GridSearchCV(estimator=kerasClassifier_model, param_grid=params, cv=5, scoring = 'accuracy')\n",
    "grid_result = grid_search.fit(features_train_sc, target_train)"
   ]
  },
  {
   "cell_type": "code",
   "execution_count": null,
   "metadata": {},
   "outputs": [],
   "source": [
    "#Наилучшие параметры модели:\n",
    "best_params = grid_result.best_params_\n",
    "print(\"Наилучшие параметры модели: \", best_params)"
   ]
  },
  {
   "cell_type": "markdown",
   "metadata": {},
   "source": [
    "<p style=\"border:3px #ff1010  solid;\">\n",
    "5. Посчитайте метрику с наилучшими параметрами, напишите наилучшие параметры для модели в выводе."
   ]
  },
  {
   "cell_type": "code",
   "execution_count": null,
   "metadata": {},
   "outputs": [],
   "source": [
    "predict_from_grid = grid_result.predict(features_valid_sc)\n",
    "accuracy_score(target_test, predict_from_grid)"
   ]
  },
  {
   "cell_type": "markdown",
   "metadata": {},
   "source": [
    "    Проверим полученное значение точности на модели, обученной вручную"
   ]
  },
  {
   "cell_type": "code",
   "execution_count": null,
   "metadata": {},
   "outputs": [],
   "source": [
    "# Наилучшие параметры модели: {'activation': 'relu', 'dense': 512, 'input_dim': 8, 'layers': 2, 'optimazer': 'adam'}\n",
    "optimized_model = get_sequential_model(2, 8, 512, \"adam\", \"relu\")\n",
    "hist = optimized_model.fit(features_train_sc, target_train, batch_size=128, epochs=15, verbose=0, class_weight=class_weight, validation_data=(features_valid_sc, target_test)) # !!!!!!Добавим параметр class_weight=class_weight, так как имеется дисбаланс\n",
    "print(\"Точность на тренировочной выборке: \", max(hist.history['accuracy']))"
   ]
  },
  {
   "cell_type": "code",
   "execution_count": null,
   "metadata": {},
   "outputs": [],
   "source": [
    "#График точности\n",
    "plt.plot(hist.history['accuracy'])\n",
    "plt.plot(hist.history['val_accuracy'])\n",
    "plt.title('График точности')\n",
    "plt.xlabel('Epoch')\n",
    "plt.ylabel('Accuracy')\n",
    "plt.legend(['Train', 'Validation'])\n",
    "plt.show()"
   ]
  },
  {
   "cell_type": "code",
   "execution_count": null,
   "metadata": {},
   "outputs": [],
   "source": [
    "#График ошибки\n",
    "plt.plot(hist.history['loss'])\n",
    "plt.plot(hist.history['val_loss'])\n",
    "plt.title('График ошибки')\n",
    "plt.xlabel('Epoch')\n",
    "plt.ylabel('Loss')\n",
    "plt.legend(['Train', 'Validation'])\n",
    "plt.show()"
   ]
  },
  {
   "cell_type": "markdown",
   "metadata": {},
   "source": [
    "    Построим матрицу ошибок для валидационной выборки."
   ]
  },
  {
   "cell_type": "code",
   "execution_count": null,
   "metadata": {},
   "outputs": [],
   "source": [
    "optim_target_test_pred = optimized_model.predict(features_valid_sc)\n",
    "optim_target_test_pred = (optim_target_test_pred > 0.5).astype(int)\n",
    "\n",
    "# пробуем построить матрицу ошибок\n",
    "plt.figure(figsize=(5, 5)) # задаем размеры всего рисунка\n",
    "cm = confusion_matrix(target_test, optim_target_test_pred) # создаём матрицу ошибок\n",
    "sns.heatmap(cm, annot=True, fmt='d', cmap='RdBu')\n",
    "plt.ylabel('true label')\n",
    "plt.xlabel('predicted label')\n",
    "plt.show()"
   ]
  },
  {
   "cell_type": "code",
   "execution_count": null,
   "metadata": {},
   "outputs": [],
   "source": [
    "accuracy_score(target_test, optim_target_test_pred)"
   ]
  },
  {
   "cell_type": "markdown",
   "metadata": {},
   "source": [
    "<p style=\"border:3px #00B344  solid;\">\n",
    "Вывод:\n",
    "</p>"
   ]
  },
  {
   "cell_type": "markdown",
   "metadata": {},
   "source": [
    "    Значения метрики accuracy для различных моделей:\n",
    "    Первоначальная модель sequential_model = от 0.68 до 0.71\n",
    "    predict_from_grid = 0.74 (KerasClassifier и GridSearchCV)\n",
    "    optimized_model = 0.74 (модель KerasClassifier, обученная вручную с подобранными параметрами)\n",
    "    \n",
    "    Вцелом, в результате проведенной оптимизации и подбора параметров, удалось добиться некоторого улучшения качества модели.\n",
    "    Наилучшие параметры модели: {'activation': 'relu', 'dense': 512, 'input_dim': 8, 'layers': 2, 'optimazer': 'adam'}"
   ]
  },
  {
   "cell_type": "markdown",
   "metadata": {},
   "source": [
    "P.S.\n",
    "При перезапуске ядра могут быть получены немного другие значения accuracy и оптимпльных параметров модели."
   ]
  }
 ],
 "metadata": {
  "kernelspec": {
   "display_name": "Python 3",
   "language": "python",
   "name": "python3"
  },
  "language_info": {
   "codemirror_mode": {
    "name": "ipython",
    "version": 3
   },
   "file_extension": ".py",
   "mimetype": "text/x-python",
   "name": "python",
   "nbconvert_exporter": "python",
   "pygments_lexer": "ipython3",
   "version": "3.11.4"
  },
  "orig_nbformat": 4
 },
 "nbformat": 4,
 "nbformat_minor": 2
}
