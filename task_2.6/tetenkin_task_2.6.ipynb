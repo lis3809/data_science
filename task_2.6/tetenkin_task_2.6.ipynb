{
 "cells": [
  {
   "cell_type": "code",
   "execution_count": null,
   "metadata": {},
   "outputs": [],
   "source": [
    "import pandas as pd\n",
    "import numpy as np\n",
    "from matplotlib import pyplot as plt\n",
    "\n",
    "from statsmodels.tsa.seasonal import seasonal_decompose\n",
    "from statsmodels import api as sm\n",
    "from statsmodels.graphics import tsaplots\n",
    "\n",
    "from sklearn.model_selection import train_test_split\n",
    "from sklearn.metrics import mean_absolute_error\n",
    "from sklearn.linear_model import LinearRegression\n",
    "from sklearn.preprocessing import StandardScaler\n",
    "import re"
   ]
  },
  {
   "cell_type": "markdown",
   "metadata": {},
   "source": [
    "<p style=\"border:3px #ff0000  solid;\">\n",
    "Задача: спрогнозировать число пассажиров авиакомпании помесячно."
   ]
  },
  {
   "cell_type": "markdown",
   "metadata": {},
   "source": [
    "<p style=\"border:3px #ff0000  solid;\">\n",
    "1. Загрузите данные из источника по ссылке, ознакомьтесь с ними и подготовьте к аналитике."
   ]
  },
  {
   "cell_type": "code",
   "execution_count": null,
   "metadata": {},
   "outputs": [],
   "source": [
    "air_pass_df = pd.read_csv('C:/Users/Z/PycharmProjects/data_science_1t/task_2.6/AirPassengers.csv')\n",
    "air_pass_df.columns = [re.sub('\\\\.+', '_', i).lower() for i in air_pass_df.columns]\n",
    "air_pass_df"
   ]
  },
  {
   "cell_type": "code",
   "execution_count": null,
   "metadata": {},
   "outputs": [],
   "source": [
    "air_pass_df.info()"
   ]
  },
  {
   "cell_type": "markdown",
   "metadata": {},
   "source": [
    "     a) Найдите и удалите пропуски, если они есть."
   ]
  },
  {
   "cell_type": "code",
   "execution_count": null,
   "metadata": {},
   "outputs": [],
   "source": [
    "air_pass_df.isna().sum()"
   ]
  },
  {
   "cell_type": "markdown",
   "metadata": {},
   "source": [
    "<p style=\"border:3px #00B344  solid;\">\n",
    "Пропуски отсутсвуют.\n",
    "</p>"
   ]
  },
  {
   "cell_type": "markdown",
   "metadata": {},
   "source": [
    "     b) Поменяйте тип столбца с временными отсечками в datetime."
   ]
  },
  {
   "cell_type": "code",
   "execution_count": null,
   "metadata": {},
   "outputs": [],
   "source": [
    "air_pass_df['month'] = pd.to_datetime(air_pass_df['month'], format=\"%Y-%m\")"
   ]
  },
  {
   "cell_type": "markdown",
   "metadata": {},
   "source": [
    "     c) Установите индексом данных столбец с временными отсечками и убедитесь, что он монотонно возрастает."
   ]
  },
  {
   "cell_type": "code",
   "execution_count": null,
   "metadata": {},
   "outputs": [],
   "source": [
    "air_pass_df.set_index('month', inplace=True)\n",
    "air_pass_df.index.is_monotonic_increasing\n"
   ]
  },
  {
   "cell_type": "markdown",
   "metadata": {},
   "source": [
    "<p style=\"border:3px #ff0000  solid;\">\n",
    "2. Проанализируйте временной ряд"
   ]
  },
  {
   "cell_type": "markdown",
   "metadata": {},
   "source": [
    "     а) Оставьте для аналитики лишь с 1952 по 1957 год (включительно)."
   ]
  },
  {
   "cell_type": "code",
   "execution_count": null,
   "metadata": {},
   "outputs": [],
   "source": [
    "air_pass_df = air_pass_df['1952':'1957']"
   ]
  },
  {
   "cell_type": "markdown",
   "metadata": {},
   "source": [
    "    b) Реализуйте разложение на компоненты тренда и сезонности. Визуализируйте результат разложения и сделайте выводы.\n",
    "\n",
    "    Есть ли тренд?\n",
    "\n",
    "    Есть ли сезонность и какая она (ежемесячная/ежеквартальная/ежегодная и т.д.)?\n",
    "\n",
    "    Является ли ряд стационарным и почему?"
   ]
  },
  {
   "cell_type": "code",
   "execution_count": null,
   "metadata": {},
   "outputs": [],
   "source": [
    "decomposed = seasonal_decompose(air_pass_df['#passengers'])\n",
    "\n",
    "fig, ax = plt.subplots(1, 1, figsize=[12, 5])\n",
    "ax.plot(air_pass_df['#passengers'], c='indianred', label='Passengers')\n",
    "ax.plot(decomposed.trend, c='darkslateblue', label='Trend')\n",
    "ax.plot(decomposed.seasonal, c='forestgreen', label='Seasonal')\n",
    "ax.plot(decomposed.resid, c='darkgoldenrod', label='Residual')\n",
    "ax.set_ylabel('passengers')\n",
    "fig.legend()"
   ]
  },
  {
   "cell_type": "markdown",
   "metadata": {},
   "source": [
    "<p style=\"border:3px #00B344  solid;\">\n",
    "    1. Имеется положительный тренд, характеризующий ежегожный прирост количества пассажиров.\n",
    "    2. Наблюдается ежегодная сезонность, приходящаяся на серидину года (летний период отпусков).\n",
    "    3. Ряд не является стационарным, так как имеется положительный тренд (изменяется среднее количество пассажиров, перевезенных за год).\n",
    "</p>"
   ]
  },
  {
   "cell_type": "markdown",
   "metadata": {},
   "source": [
    "    c) Постройте график, чтобы оценить автокорреляцию и сделайте выводы\n",
    "\n",
    "    У какого сдвига самая высокая автокорреляция?\n",
    "\n",
    "    Подтверждаются ли выводы о наличии тренда графиком автокорреляции?"
   ]
  },
  {
   "cell_type": "code",
   "execution_count": null,
   "metadata": {},
   "outputs": [],
   "source": [
    "acf = sm.tsa.acf(air_pass_df['#passengers'])\n",
    "acf.shape"
   ]
  },
  {
   "cell_type": "code",
   "execution_count": null,
   "metadata": {},
   "outputs": [],
   "source": [
    "fig = tsaplots.plot_acf(air_pass_df['#passengers'])\n",
    "plt.show() "
   ]
  },
  {
   "cell_type": "markdown",
   "metadata": {},
   "source": [
    "<p style=\"border:3px #00B344  solid;\">\n",
    "    1. Из графика мы видим, что автокорреляция в среднем положительна, поэтому можно сделать вывод о наличии положительного тренда во временном ряду, это значит, что сделанные ранее выводы о наличии положительного тренда подтверждены.\n",
    "    2. Самая высокая автокорреляция у первого сдвига, что говорит о его высокой статистической значимости.\n",
    "</p>"
   ]
  },
  {
   "cell_type": "markdown",
   "metadata": {},
   "source": [
    "<p style=\"border:3px #ff0000  solid;\">\n",
    "3. Подготовьте данные к обучению линейной модели\n",
    "\n",
    "     a) Напишите функцию, которая будет генерировать новые признаки (календарные признаки, несколько колонок с разными сдвигами, несколько колонок с разными скользящими средними)\n",
    "\n",
    "     Воспользуйтесь наработками из скринкастов.\n",
    "\n",
    "     Добавьте аргумент, который будет отвечать за возможные сдвиги. Это должен быть список, по которому в цикле будет добавляться новая колонка lag_n, где n — число из этого списка, отвечающее за сдвиг.\n",
    "\n",
    "     Добавьте аргумент, который будет отвечать за возможные размеры скользящего среднего. Это должен быть список, по которому в цикле будет добавляться новая колонка rolling_mean_m, где m — число из этого списка, отвечающее за размер окна, по которому вычисляется среднее. Не забудьте, что скользящее среднее нужно сдвигать, чтобы не было «заглядывания в будущее»."
   ]
  },
  {
   "cell_type": "code",
   "execution_count": null,
   "metadata": {},
   "outputs": [],
   "source": [
    "def make_features(data, max_lag, rolling_mean_array):\n",
    "    data['year'] = data.index.year\n",
    "    data['month'] = data.index.month\n",
    "    data['quarter'] = data.index.quarter\n",
    "    \n",
    "    for i in max_lag:\n",
    "        data[f'lag_{i}'] = data['#passengers'].shift(i)\n",
    "    \n",
    "    for rolling_mean_size in rolling_mean_array:\n",
    "        rolling_mean = data['#passengers'].rolling(rolling_mean_size).mean()\n",
    "        data[f'rolling_mean_size_{rolling_mean_size}'] = rolling_mean.shift(1)\n",
    "    \n",
    "    return data"
   ]
  },
  {
   "cell_type": "markdown",
   "metadata": {},
   "source": [
    "     b) Рассчитайте новые признаки с помощью реализованной функции, подав ей на вход произвольные параметры генерации новых признаков."
   ]
  },
  {
   "cell_type": "code",
   "execution_count": null,
   "metadata": {},
   "outputs": [],
   "source": [
    "air_pass_df = make_features(air_pass_df[['#passengers']].copy(), [3, 4, 8], [7, 9, 12])\n",
    "air_pass_df.head()"
   ]
  },
  {
   "cell_type": "markdown",
   "metadata": {},
   "source": [
    "    c) Удалите наблюдения с пропусками в новых переменных."
   ]
  },
  {
   "cell_type": "code",
   "execution_count": null,
   "metadata": {},
   "outputs": [],
   "source": [
    "air_pass_df.dropna(inplace=True)"
   ]
  },
  {
   "cell_type": "markdown",
   "metadata": {},
   "source": [
    "    d) Разделите данные на признаки и целевую переменную."
   ]
  },
  {
   "cell_type": "markdown",
   "metadata": {},
   "source": [
    "    e) Разделите данные на обучающую и валидационную части. Не забудьте, что валидационная часть должна идти строго после обучающей."
   ]
  },
  {
   "cell_type": "code",
   "execution_count": null,
   "metadata": {},
   "outputs": [],
   "source": [
    "#Датафрейм air_pass_df передается в функцию train_test_split вместе со всеми признаками, в том числе и целевым!\n",
    "#Чтобы валидационная часть шла строго после обучающей, укажем shuffle=False\n",
    "train, test = train_test_split(air_pass_df, shuffle=False, test_size=0.2, random_state=123)\n",
    "\n",
    "train_target = train['#passengers']\n",
    "train_features = train.drop(['#passengers'], axis=1)\n",
    "test_target = test['#passengers']\n",
    "test_features = test.drop(['#passengers'], axis=1)\n",
    "\n",
    "scaler = StandardScaler().fit(train_features)\n",
    "train_features_norm = scaler.transform(train_features)\n",
    "test_features_norm = scaler.transform(test_features)"
   ]
  },
  {
   "cell_type": "markdown",
   "metadata": {},
   "source": [
    "<p style=\"border:3px #ff0000  solid;\">\n",
    "4. Обучите линейную модель машинного обучения и оцените ее качество \n",
    "\n",
    "    a) Обучите линейную модель на обучающей части данных."
   ]
  },
  {
   "cell_type": "code",
   "execution_count": null,
   "metadata": {},
   "outputs": [],
   "source": [
    "model = LinearRegression()\n",
    "model.fit(train_features_norm, train_target)"
   ]
  },
  {
   "cell_type": "markdown",
   "metadata": {},
   "source": [
    "    b) Рассчитайте значение метрики качества MAE на обучающей и валидационных частях. Если модель работает плохо (метрика выше 20), попробуйте выделить другой набор признаков, вызывая свою функцию с новыми параметрами."
   ]
  },
  {
   "cell_type": "code",
   "execution_count": null,
   "metadata": {},
   "outputs": [],
   "source": [
    "train_prediction = pd.Series(model.predict(train_features_norm))\n",
    "train_prediction.index = train_features.index\n",
    "test_prediction = pd.Series(model.predict(test_features_norm))\n",
    "test_prediction.index = test_features.index\n",
    "\n",
    "print(\"MAE обучающей выборки:\" ,mean_absolute_error(train_target, train_prediction))\n",
    "print(\"MAE тестовой выборки: \" ,mean_absolute_error(test_target, test_prediction))"
   ]
  },
  {
   "cell_type": "markdown",
   "metadata": {},
   "source": [
    "    c) Визуализируйте реальный временной ряд и прогнозные значения. "
   ]
  },
  {
   "cell_type": "code",
   "execution_count": null,
   "metadata": {},
   "outputs": [],
   "source": [
    "fig, ax = plt.subplots(1, 1, figsize=[12, 5])\n",
    "\n",
    "error = abs(test['#passengers'] - test_prediction)\n",
    "error_mean = pd.Series([error.mean()] * error.shape[0])\n",
    "error_mean.index = test.index\n",
    "\n",
    "ax.plot(air_pass_df['#passengers'], c='indianred', label='Real data')\n",
    "ax.plot(train_target, c='lightgrey', label='train')\n",
    "ax.plot(train_prediction, c='darkslategrey', label='train_prediction', linestyle='--')\n",
    "ax.plot(test_target, c='lightsteelblue', label='test')\n",
    "ax.plot(test_prediction, c='darkslateblue', label='test_prediction', linestyle='--')\n",
    "ax.plot(error, c='indianred', linestyle='--', label='prediction_error', linewidth=0.5)\n",
    "ax.plot(error_mean, c='indianred', label='prediction_error')\n",
    "\n",
    "fig.legend()"
   ]
  },
  {
   "cell_type": "markdown",
   "metadata": {},
   "source": [
    "<p style=\"border:3px #00B344  solid;\">\n",
    "MAE обучающей выборки: 14.291535093036588\n",
    "MAE тестовой выборки:  16.824070242963952\n",
    "Полученных значений MAE удалось добиться после увеличения размера rolling_mean_size больше 5.\n",
    "</p>"
   ]
  },
  {
   "cell_type": "markdown",
   "metadata": {},
   "source": [
    "<p style=\"border:3px #ff0000  solid;\">\n",
    "5. Оцените качество модели на отложенной выборке. В качестве отложенной выборки у нас будут наблюдения с 1958 по 1960 год\n",
    "\n",
    "    a) Возьмите из источника необходимый срез данных."
   ]
  },
  {
   "cell_type": "code",
   "execution_count": null,
   "metadata": {},
   "outputs": [],
   "source": [
    "air_pass_df_two = pd.read_csv('C:/Users/Z/PycharmProjects/data_science_1t/task_2.6/AirPassengers.csv')\n",
    "air_pass_df_two.columns = [re.sub('\\\\.+', '_', i).lower() for i in air_pass_df_two.columns]"
   ]
  },
  {
   "cell_type": "code",
   "execution_count": null,
   "metadata": {},
   "outputs": [],
   "source": [
    "air_pass_df_two['month'] = pd.to_datetime(air_pass_df_two['month'], format=\"%Y-%m\")\n",
    "air_pass_df_two.set_index('month', inplace=True)\n",
    "air_pass_df_two.index.is_monotonic_increasing\n"
   ]
  },
  {
   "cell_type": "code",
   "execution_count": null,
   "metadata": {},
   "outputs": [],
   "source": [
    "air_pass_df_two = air_pass_df_two['1957':'1960']"
   ]
  },
  {
   "cell_type": "code",
   "execution_count": null,
   "metadata": {},
   "outputs": [],
   "source": [
    "air_pass_df_two.info()"
   ]
  },
  {
   "cell_type": "code",
   "execution_count": null,
   "metadata": {},
   "outputs": [],
   "source": [
    "air_pass_df_two.isna().sum()"
   ]
  },
  {
   "cell_type": "markdown",
   "metadata": {},
   "source": [
    "    b) Подготовьте данные к прогнозированию.\n",
    "\n",
    "    Добавьте признаки с помощью реализованной ранее функции.\n",
    "\n",
    "    Удалите наблюдения с пропусками.\n",
    "\n",
    "    Если после удаления у вас осталось менее 36 наблюдений, откорректируйте срез из пункта 5.а.\n",
    "\n",
    "    Отделите целевую переменную от признаков."
   ]
  },
  {
   "cell_type": "code",
   "execution_count": null,
   "metadata": {},
   "outputs": [],
   "source": [
    "air_pass_df_two = make_features(air_pass_df_two[['#passengers']].copy(), [3, 4, 8], [7, 9, 12])\n",
    "air_pass_df_two.head()"
   ]
  },
  {
   "cell_type": "code",
   "execution_count": null,
   "metadata": {},
   "outputs": [],
   "source": [
    "air_pass_df_two.dropna(inplace=True)"
   ]
  },
  {
   "cell_type": "code",
   "execution_count": null,
   "metadata": {},
   "outputs": [],
   "source": [
    "#изначально выборка взята с учетом 1957 года, но из-за того, что rolling_mean_size_12 = 12, \n",
    "#после удаления пустых данных в выборке осталься период 1958-01-01 to 1960-12-01\n",
    "air_pass_df_two.info()"
   ]
  },
  {
   "cell_type": "code",
   "execution_count": null,
   "metadata": {},
   "outputs": [],
   "source": [
    "target_air_pass = air_pass_df_two['#passengers']\n",
    "features_air_pass = air_pass_df_two.drop(['#passengers'], axis=1)\n",
    "\n",
    "features_air_pass_norm = scaler.transform(features_air_pass)"
   ]
  },
  {
   "cell_type": "markdown",
   "metadata": {},
   "source": [
    "    c) Постройте прогноз с помощью обученной ранее линейной модели."
   ]
  },
  {
   "cell_type": "code",
   "execution_count": null,
   "metadata": {},
   "outputs": [],
   "source": [
    "test_prediction_2 = pd.Series(model.predict(features_air_pass_norm))\n",
    "test_prediction_2.index = features_air_pass.index"
   ]
  },
  {
   "cell_type": "markdown",
   "metadata": {},
   "source": [
    "    d) Рассчитайте значение метрики качества на отложенной выборке."
   ]
  },
  {
   "cell_type": "code",
   "execution_count": null,
   "metadata": {},
   "outputs": [],
   "source": [
    "print(\"MAE отложенной выборки: \" ,mean_absolute_error(target_air_pass, test_prediction_2))"
   ]
  },
  {
   "cell_type": "markdown",
   "metadata": {},
   "source": [
    "    e) Визуализируйте реальный временной ряд и прогнозные значения."
   ]
  },
  {
   "cell_type": "code",
   "execution_count": null,
   "metadata": {},
   "outputs": [],
   "source": [
    "fig, ax = plt.subplots(1, 1, figsize=[12, 5])\n",
    "\n",
    "error = abs(air_pass_df_two['#passengers'] - test_prediction_2)\n",
    "error_mean = pd.Series([error.mean()] * error.shape[0])\n",
    "error_mean.index = target_air_pass.index\n",
    "\n",
    "ax.plot(target_air_pass, c='indianred', label='Real data')\n",
    "ax.plot(test_prediction_2, c='darkslateblue', label='test_prediction', linestyle='--')\n",
    "ax.plot(error, c='indianred', linestyle='--', label='prediction_error', linewidth=0.5)\n",
    "ax.plot(error_mean, c='indianred', label='prediction_error')\n",
    "\n",
    "fig.legend()"
   ]
  },
  {
   "cell_type": "markdown",
   "metadata": {},
   "source": [
    "<p style=\"border:3px #00B344  solid;\">\n",
    "Вывод: MAE отложенной выборки (34.57) находится в заданном пределе.\n",
    "</p>"
   ]
  }
 ],
 "metadata": {
  "kernelspec": {
   "display_name": "Python 3",
   "language": "python",
   "name": "python3"
  },
  "language_info": {
   "codemirror_mode": {
    "name": "ipython",
    "version": 3
   },
   "file_extension": ".py",
   "mimetype": "text/x-python",
   "name": "python",
   "nbconvert_exporter": "python",
   "pygments_lexer": "ipython3",
   "version": "3.11.4"
  },
  "orig_nbformat": 4
 },
 "nbformat": 4,
 "nbformat_minor": 2
}
