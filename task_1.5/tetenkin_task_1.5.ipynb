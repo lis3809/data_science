{
 "cells": [
  {
   "attachments": {},
   "cell_type": "markdown",
   "id": "3e4d4fe6-bfda-49fb-be5b-f9a18eab693d",
   "metadata": {},
   "source": [
    "# Визуализация."
   ]
  },
  {
   "attachments": {},
   "cell_type": "markdown",
   "id": "b74f741d-05bd-4d40-874d-1e073ee31c44",
   "metadata": {},
   "source": [
    "Датасет представляет собой коллекцию медицинских и демографических данных пациентов, а также их статус диабета (положительный или отрицательный). Данные включают такие характеристики, как возраст, пол, индекс массы тела (ИМТ), гипертония, сердечно-сосудистые заболевания, история курения, уровень HbA1c и уровень глюкозы в крови. \n",
    "\n",
    "В будущем этот датасет может быть использован для построения моделей машинного обучения для прогнозирования диабета у пациентов на основе их истории болезни и демографической информации. Это может быть полезно для медицинских работников при выявлении пациентов, которые могут быть подвержены риску развития диабета, и при разработке персонализированных планов лечения.\n",
    "\n",
    "Описание столбцов:\n",
    "\n",
    "|Название| Описание |\n",
    "|--|--|\n",
    "|`gender`| Пол пациента |\n",
    "|`age`| Возраст |\n",
    "|`hypertension`| Гипертония —  это состояние, при котором кровяное давление в артериях постоянно повышено. Он принимает значения 0 или 1, где 0 означает отсутствие гипертонии, а 1 —  наличие гипертонии. |\n",
    "|`heart_disease`| Болезни сердца —  это еще одно состояние, которое связано с повышенным риском развития диабета. Он также принимает значения 0 или 1, где 0 означает отсутствие сердечных заболеваний, а 1 —  наличие сердечных заболеваний. |\n",
    "|`smoking_history`| Опыт курения —  также считается фактором риска развития диабета и может усугубить осложнения, связанные с диабетом. | \n",
    "|`bmi`| Это показатель количества жира в организме, основанный на весе и росте. Более высокие значения ИМТ связаны с повышенным риском развития диабета. Диапазон ИМТ в наборе данных составляет от 10,16 до 71,55. ИМТ менее 18,5 —  это недостаточный вес, 18,5-24,9 —  нормальный, 25-29,9 —  избыточный вес, а 30 и более —  ожирение. |\n",
    "|`HbA1c_level`| Уровень HbA1c (гемоглобин A1c) —  это показатель среднего уровня сахара в крови человека за последние 2-3 месяца. Более высокий уровень указывает на больший риск развития диабета. В основном более 6,5% уровня HbA1c указывает на диабет. | \n",
    "|`blood_glucose_level`| Уровень глюкозы в крови —  это количество глюкозы в крови в определенный момент времени. Высокий уровень глюкозы в крови является основным признаком диабета. |\n",
    "|`diabetes`| Диабет является целевой переменной (таргетом), при этом значение 1 указывает на наличие диабета, а 0 —  на его отсутствие. |"
   ]
  },
  {
   "attachments": {},
   "cell_type": "markdown",
   "id": "d331610b-c2db-431e-810d-698a9a709407",
   "metadata": {},
   "source": [
    "## Задание\n",
    "\n",
    "Проведите визуализацию данных и попробуйте выяснить причины, от чего и с чем связаны основные причины наличия диабета у людей.\n",
    "\n",
    "Ваша цель —  визуально с помощью графиков определить и доказать, что при наличии какого-либо фактора возможен риск развития диабета.\n",
    "\n",
    "Этапы выполнения задания (наш pipeline):\n",
    "\n",
    "1. Загрузка и предобработка данных (при необходимости)\n",
    "2. Описательный анализ данных, просмотр данных\n",
    "3. Построение гистограмм числовых переменных\n",
    "4. Построение диаграмм размаха для определения наличия выбросов (ящики с усами) числовых переменных\n",
    "5. Построение столбчатых диаграмм для категориальных переменных\n",
    "6. Построение матрицы корреляции признаков (Phik или Пирсона)\n",
    "7. Сравнение двух выборок\n",
    "8. Общий вывод"
   ]
  },
  {
   "attachments": {},
   "cell_type": "markdown",
   "id": "8eb50fbd-75b2-4121-a1c4-72d6c1f75d10",
   "metadata": {},
   "source": [
    "## Загрузка данных"
   ]
  },
  {
   "cell_type": "code",
   "execution_count": null,
   "id": "497c861b-88e0-48a6-89ca-0a3de82db78e",
   "metadata": {
    "tags": []
   },
   "outputs": [],
   "source": [
    "### импортируем нужные библиотеки\n",
    "import pandas as pd\n",
    "import numpy as np\n",
    "import matplotlib.pyplot as plt\n",
    "import plotly.express as px\n",
    "import phik\n",
    "from scipy import stats\n",
    "import seaborn as sns\n",
    "sns.set_theme()"
   ]
  },
  {
   "cell_type": "code",
   "execution_count": null,
   "id": "944f751c-4eb5-4827-a485-fde3678f7e29",
   "metadata": {},
   "outputs": [],
   "source": [
    "# ваш код здесь\n",
    "df = pd.read_csv(\"C:/Users/Z/PycharmProjects/data_science_1t/task_1.5/diabetes_prediction_dataset.csv\")"
   ]
  },
  {
   "attachments": {},
   "cell_type": "markdown",
   "id": "bf3d0f9d-b71e-4d92-acf4-d8d1e8813aaa",
   "metadata": {
    "id": "59d8f6d7",
    "papermill": {
     "duration": 0.110182,
     "end_time": "2022-09-17T00:13:04.215152",
     "exception": false,
     "start_time": "2022-09-17T00:13:04.104970",
     "status": "completed"
    },
    "tags": []
   },
   "source": [
    "## Описательный анализ данных"
   ]
  },
  {
   "attachments": {},
   "cell_type": "markdown",
   "id": "3ec076bb-19f6-41aa-bcd8-563f989fa937",
   "metadata": {},
   "source": [
    "Рассмотрите данные —  изучите медианы, средние, дисперсии и т.д. \n",
    "\n",
    "Что можете сказать о данных? Сделайте вывод."
   ]
  },
  {
   "cell_type": "code",
   "execution_count": null,
   "id": "18b3a676-9cfc-4574-b5f5-b631bb0540e4",
   "metadata": {},
   "outputs": [],
   "source": [
    "df.describe().T"
   ]
  },
  {
   "cell_type": "code",
   "execution_count": null,
   "id": "17afd869-97de-4e72-a3e6-fcc657cbaf52",
   "metadata": {
    "scrolled": true
   },
   "outputs": [],
   "source": [
    "df.info()"
   ]
  },
  {
   "cell_type": "code",
   "execution_count": null,
   "id": "6c35072a-f18f-407c-b446-00ef6c4b20f5",
   "metadata": {},
   "outputs": [],
   "source": [
    "df.isna().sum()"
   ]
  },
  {
   "cell_type": "code",
   "execution_count": null,
   "id": "0450e00e-62fd-4ce0-8740-6d1ed4df4248",
   "metadata": {},
   "outputs": [],
   "source": [
    "df.duplicated().sum()"
   ]
  },
  {
   "cell_type": "code",
   "execution_count": null,
   "id": "703d336c-2522-4105-a6ce-f63f8b9943fe",
   "metadata": {
    "jupyter": {
     "source_hidden": true
    }
   },
   "outputs": [],
   "source": [
    "## К'2-тест Д'Агостино\n",
    "test = [df.age, df.hypertension, df.heart_disease, df.bmi, df.HbA1c_level, df.blood_glucose_level, df.diabetes]\n",
    "for data in test:\n",
    "    _, pvalue = stats.normaltest(data)\n",
    "    alpha = 0.05\n",
    "    print(data.name + \": \")\n",
    "    if pvalue < alpha:\n",
    "        print(f'P-value:{pvalue:.5f}. выборка не имеет распределение по Гауссу.')\n",
    "    else:\n",
    "        print(f'P-value:{pvalue:.5f}. выборка имеет распределения по Гауссу.')"
   ]
  },
  {
   "attachments": {},
   "cell_type": "markdown",
   "id": "5e822fd1-cdae-4b65-aea8-7b95036f401f",
   "metadata": {},
   "source": [
    "**Вывод:**\n",
    "1. Данные не содержат пропусков.\n",
    "2. В данных содержится 3854 явных дубликата.\n",
    "3. В колонке smoking_history имеются значения former и not current, которые по сути являются дубликатами.\n",
    "4. Выборки age, hypertension, heart_disease, bmi, HbA1c_level, blood_glucose_level, diabetes не имеют нормальное распределение (распределение по Гауссу).\n",
    "5. Данные имеют верный формат.\n",
    "6. Средний возраст исследуемых - 42-43 года."
   ]
  },
  {
   "attachments": {},
   "cell_type": "markdown",
   "id": "fff9b8bc-d0b4-4f84-94da-067a18d0349e",
   "metadata": {
    "id": "33d1abb3",
    "papermill": {
     "duration": 0.107391,
     "end_time": "2022-09-17T00:13:03.296525",
     "exception": false,
     "start_time": "2022-09-17T00:13:03.189134",
     "status": "completed"
    },
    "tags": []
   },
   "source": [
    "## Предобработка данных"
   ]
  },
  {
   "attachments": {},
   "cell_type": "markdown",
   "id": "bd50f385-311b-4492-9058-afdf41a0d7a9",
   "metadata": {
    "id": "8e8f7fbc",
    "papermill": {
     "duration": 0.110418,
     "end_time": "2022-09-17T00:13:05.443495",
     "exception": false,
     "start_time": "2022-09-17T00:13:05.333077",
     "status": "completed"
    },
    "tags": []
   },
   "source": [
    "### Дубликаты"
   ]
  },
  {
   "attachments": {},
   "cell_type": "markdown",
   "id": "eb5ddc29-2de4-48a3-9e82-e02cc6e35b6e",
   "metadata": {},
   "source": [
    "Предобработайте датасет —  проверьте на наличие дубликатов и удалите, если они есть."
   ]
  },
  {
   "cell_type": "code",
   "execution_count": null,
   "id": "458d9a42-b9b0-4d14-a3cb-fed97be031cf",
   "metadata": {},
   "outputs": [],
   "source": [
    "# ваш код здесь\n",
    "print(df.duplicated().sum())\n",
    "df.drop_duplicates(inplace=True)"
   ]
  },
  {
   "cell_type": "code",
   "execution_count": null,
   "id": "06b5ab7c-b21b-4d33-8fbe-6556dfef7084",
   "metadata": {},
   "outputs": [],
   "source": [
    "#Испралвяем дублирование former и not current\n",
    "df.loc[df['smoking_history'] == 'not current', 'smoking_history'] = 'former'\n",
    "df.smoking_history.value_counts()"
   ]
  },
  {
   "cell_type": "code",
   "execution_count": null,
   "id": "d03bcc8a-ee31-4cd3-a679-4602d077b47f",
   "metadata": {},
   "outputs": [],
   "source": [
    "#Избавляемся от \"Европейских ценностей\"\n",
    "df.gender.value_counts() #18\n",
    "df = df.loc[df.gender != 'Other']\n",
    "df.gender.value_counts()"
   ]
  },
  {
   "attachments": {},
   "cell_type": "markdown",
   "id": "e1988b40-273b-4f86-9fa0-c1ba345bce50",
   "metadata": {
    "id": "8e8f7fbc",
    "papermill": {
     "duration": 0.110418,
     "end_time": "2022-09-17T00:13:05.443495",
     "exception": false,
     "start_time": "2022-09-17T00:13:05.333077",
     "status": "completed"
    },
    "tags": []
   },
   "source": [
    "### Отсутствующие значения"
   ]
  },
  {
   "attachments": {},
   "cell_type": "markdown",
   "id": "57dbafd8-156b-430c-8022-51e996aceb74",
   "metadata": {},
   "source": [
    "Предобработайте датасет — проверьте на наличие NaN и удалите или заполните значения."
   ]
  },
  {
   "cell_type": "code",
   "execution_count": null,
   "id": "28ea7d60-e0b5-4bc2-b78b-48f8b4757e26",
   "metadata": {},
   "outputs": [],
   "source": [
    "# ваш код здесь\n",
    "#Пропуски данных отсутствуют.\n",
    "df.info()"
   ]
  },
  {
   "attachments": {},
   "cell_type": "markdown",
   "id": "cc80b1af-9520-47c2-adf7-741112d47b5b",
   "metadata": {
    "id": "pt3BGKLdPcn9"
   },
   "source": [
    "### Изменение типа данных"
   ]
  },
  {
   "attachments": {},
   "cell_type": "markdown",
   "id": "3db1434b-1f4c-431b-9636-d25b56211ea6",
   "metadata": {},
   "source": [
    "Рассмотрев все данные, замените типы на нужные (при необходимости):\n",
    "\n",
    "- Если есть числа — на `int` или `float`\n",
    "- Если категории — можно оставить `object`"
   ]
  },
  {
   "cell_type": "code",
   "execution_count": null,
   "id": "6e5251e4-a103-4bfe-835f-6b61acc55034",
   "metadata": {},
   "outputs": [],
   "source": [
    "# ваш код здесь\n",
    "#Изменение типов данных не требуется\n",
    "#Приводим индексы в порядок\n",
    "df.reset_index(drop=True, inplace=True)\n",
    "df"
   ]
  },
  {
   "attachments": {},
   "cell_type": "markdown",
   "id": "751d5277-0ca2-4c0e-b505-ce1e8eab13be",
   "metadata": {},
   "source": [
    "**Вывод:**\n",
    "Данные исправлены и подготовлены к дальнейшей работе"
   ]
  },
  {
   "attachments": {},
   "cell_type": "markdown",
   "id": "68b6270d-f535-45bc-a844-71e21228ac1c",
   "metadata": {},
   "source": [
    "## Визуализация"
   ]
  },
  {
   "attachments": {},
   "cell_type": "markdown",
   "id": "4d2c7ebe-2fe2-46d0-93b7-fe9aef040700",
   "metadata": {},
   "source": [
    "Построим графики:\n",
    "\n",
    "1. Построение гистограмм числовых переменных\n",
    "2. Построение диаграмм размаха для определения наличия выбросов (ящики с усами) числовых переменных\n",
    "3. Построение столбчатых диаграмм для категориальных переменных\n",
    "4. Построение матрицы корреляции признаков (Phik или Пирсона)\n",
    "\n",
    "После построения опишите выборку. Что она из себя представляет? Есть ли зависимости?"
   ]
  },
  {
   "cell_type": "code",
   "execution_count": null,
   "id": "eef038c8-fdf0-4deb-b60f-fd8a3460304a",
   "metadata": {},
   "outputs": [],
   "source": [
    "# ваш код здесь\n",
    "#1. Построение гистограмм числовых переменных\n",
    "fig = px.histogram(df, x=\"age\")\n",
    "fig.update_layout(bargap=0.01) #bargap позволяет разъеденить столбцы друг от друга\n",
    "fig.show()"
   ]
  },
  {
   "attachments": {},
   "cell_type": "markdown",
   "id": "93a7bc8a-25c6-4474-a5bb-c049d3f4c55f",
   "metadata": {},
   "source": [
    "Из полученной гистограммы отчетливо видно значительное количество пациентов (4932), возраст которых находится в пределах от 79,75 до 80,24. Очевидно, что это выброс и его необходимо исправить."
   ]
  },
  {
   "cell_type": "code",
   "execution_count": null,
   "id": "22d7fef9",
   "metadata": {},
   "outputs": [],
   "source": [
    "df = df.loc[df.age <= 79.24]\n",
    "fig = px.histogram(df, x=\"age\")\n",
    "fig.update_layout(bargap=0.01) #bargap позволяет разъеденить столбцы друг от друга\n",
    "fig.show()"
   ]
  },
  {
   "cell_type": "code",
   "execution_count": null,
   "id": "3c44be4f",
   "metadata": {},
   "outputs": [],
   "source": [
    "df.hist(figsize=(10,10));"
   ]
  },
  {
   "cell_type": "code",
   "execution_count": null,
   "id": "d8b08fc7",
   "metadata": {},
   "outputs": [],
   "source": [
    "#2. Построение диаграмм размаха для определения наличия выбросов (ящики с усами) числовых переменных\n",
    "df.boxplot(figsize=(10,10));"
   ]
  },
  {
   "attachments": {},
   "cell_type": "markdown",
   "id": "727f8b45",
   "metadata": {},
   "source": [
    "После изучения полученных графиков следует удалить из датафрейма выявленные выбросы: bmi > 50\n"
   ]
  },
  {
   "cell_type": "code",
   "execution_count": null,
   "id": "b324d9da",
   "metadata": {},
   "outputs": [],
   "source": [
    "df = df.loc[df.bmi <= 50]"
   ]
  },
  {
   "cell_type": "code",
   "execution_count": null,
   "id": "c5bc4b9c-9389-4722-916a-163923744d84",
   "metadata": {},
   "outputs": [],
   "source": [
    "#3. Построение столбчатых диаграмм для категориальных переменных\n",
    "tmp = df['smoking_history'].value_counts()\n",
    "plt.figure(figsize=(5,5))\n",
    "plt.title('Smoking history')\n",
    "plt.bar(tmp.index, height=tmp.values)\n",
    "plt.xticks(tmp.index)\n",
    "plt.show()"
   ]
  },
  {
   "cell_type": "code",
   "execution_count": null,
   "id": "4be118a8-fb45-48fb-b679-5037d452efd9",
   "metadata": {},
   "outputs": [],
   "source": [
    "#4. Построение матрицы корреляции признаков (Phik или Пирсона)\n",
    "df.phik_matrix()"
   ]
  },
  {
   "attachments": {},
   "cell_type": "markdown",
   "id": "01a82879-56e9-4b0d-80e3-6a48f2db59ea",
   "metadata": {},
   "source": [
    "**Вывод:**\n",
    "Из полученной матрицы корреляции признаков можно увидеть, что целевая переменная diabetes зависит от возраста пациента, наличия у пациента гипертонии и сердечных заболеваний, уровеня гемоглобина, уровня сахара в крови, а так же прослеживается некоторая зависимость от наличия у пациента ожирения и вредных привычек."
   ]
  },
  {
   "attachments": {},
   "cell_type": "markdown",
   "id": "22647abf-7f5a-4901-99cb-43f3754a793b",
   "metadata": {},
   "source": [
    "## Сравнение выборок"
   ]
  },
  {
   "attachments": {},
   "cell_type": "markdown",
   "id": "be35e14a-ce9f-4f29-9d16-89b8d2928e88",
   "metadata": {},
   "source": [
    "После построения всех типов графиков, необходимо провести анализ:\n",
    "\n",
    "Отобразите на одном графике две выборки — люди с диабетом и без и сравните их.\n",
    "\n",
    "1. Для числовых признаков — гистограммы и ящики с усами.\n",
    "2. Для категориальных — столбчатые диаграммы.\n",
    "\n",
    "После напишите вывод, есть ли какая-то зависимость?"
   ]
  },
  {
   "cell_type": "code",
   "execution_count": null,
   "id": "a4a05a86-1fb9-4d4e-acec-7ed35b2aa410",
   "metadata": {},
   "outputs": [],
   "source": [
    "# ваш код здесь\n",
    "tmp_d = df['diabetes'].value_counts()\n",
    "plt.figure(figsize=(5,5))\n",
    "plt.title('Diabetes')\n",
    "plt.bar(tmp_d.index, height=tmp_d.values)\n",
    "plt.xticks(tmp_d.index)\n",
    "plt.show()"
   ]
  },
  {
   "cell_type": "code",
   "execution_count": null,
   "id": "e4b54b3f",
   "metadata": {},
   "outputs": [],
   "source": [
    "sns.countplot(x=\"diabetes\", data=df, hue='smoking_history')"
   ]
  },
  {
   "cell_type": "code",
   "execution_count": null,
   "id": "88e833c5",
   "metadata": {},
   "outputs": [],
   "source": [
    "pd.plotting.scatter_matrix(df, figsize=(25,20));"
   ]
  },
  {
   "attachments": {},
   "cell_type": "markdown",
   "id": "c8719379-c881-4a80-a121-b05cbf675915",
   "metadata": {},
   "source": [
    "**Вывод:**\n",
    "Различные графики позволяют представить данные в более наглядном виде и выявить различные зависимости.\n"
   ]
  },
  {
   "attachments": {},
   "cell_type": "markdown",
   "id": "079712f0-0d20-4ced-a0eb-80f649711e2f",
   "metadata": {
    "tags": []
   },
   "source": [
    "## ЗАДАЧИ PRO"
   ]
  },
  {
   "attachments": {},
   "cell_type": "markdown",
   "id": "80df73c7-5a3f-42cd-90a3-2e6c78bb9277",
   "metadata": {},
   "source": [
    "Мы провели базовый анализ выше и сделали выводы.\n",
    "\n",
    "Но даёт ли этот результат полную картину? Наша цель — узнать, каков риск возникновения диабета у пациента.\n",
    "\n",
    "Ваша задача — воспользоваться ранее приобретенными навыками и дополнить общий вывод. \n",
    "\n",
    "**Этапы:**\n",
    "\n",
    "1) Разделите выборки и постройте дополнительные графики. Может стоит разделить на несколько выборок и сравнить графики там?\n",
    "2) Постройте `pairplot` с параметром `hue=='diabetes'`. Может там тоже где-то кроется истина?\n",
    "3) Постройте тепловую карту корреляции `Phik` и сделайте дополнительный вывод.\n",
    "4) Дополните общий вывод. \n",
    "\n",
    "**Примечание:** задание не ограничено только этими этапами. Можно их дополнить — может стоит сделать фильтр данных, рассмотреть данные под другим углом и провести дополнительную аналитику? Средствами и методами не ограничены."
   ]
  },
  {
   "cell_type": "code",
   "execution_count": null,
   "id": "adcbfaa4",
   "metadata": {},
   "outputs": [],
   "source": [
    "# Постройте `pairplot` с параметром `hue=='diabetes'`. Может там тоже где-то кроется истина?\n",
    "sns.pairplot(df, corner=True, hue='diabetes');"
   ]
  },
  {
   "attachments": {},
   "cell_type": "markdown",
   "id": "be413275",
   "metadata": {},
   "source": [
    "<b>Из полученных графиков видно, что:</b>\n",
    "1. Количество больных увеличивается с возрастом.\n",
    "2. Вершины графиков гипертонии, сердечных заболеваний и ожирения совпадают с вершинами графиков больных диабетом.\n",
    "3. Высокий уровень глюкозы в крови не всегда приводит к диабету."
   ]
  },
  {
   "cell_type": "code",
   "execution_count": null,
   "id": "665ea9c5",
   "metadata": {},
   "outputs": [],
   "source": [
    "#Постройте тепловую карту корреляции `Phik` и сделайте дополнительный вывод.\n",
    "tmp = df.sample(1000).phik_matrix()\n",
    "plt.figure(figsize=(7,7))\n",
    "sns.heatmap(tmp, annot=True, cmap='Greens')\n",
    "plt.imshow(tmp)\n",
    "plt.show()"
   ]
  },
  {
   "attachments": {},
   "cell_type": "markdown",
   "id": "8d6284b1",
   "metadata": {},
   "source": [
    "Тепловая карта корреляции позволяет более наглядно представить данные и выявить <b>новые</b> зависимости, такие как:\n",
    "1. Возраст и ожирение.\n",
    "2. Возраст и курение.\n",
    "3. Возраст и гипертония.\n",
    "4. Ожирение и курение."
   ]
  },
  {
   "cell_type": "code",
   "execution_count": null,
   "id": "6122262e",
   "metadata": {},
   "outputs": [],
   "source": [
    "df.info()"
   ]
  },
  {
   "cell_type": "code",
   "execution_count": null,
   "id": "b9c6b5d0",
   "metadata": {},
   "outputs": [],
   "source": [
    "numeric_df = df[['age','hypertension','heart_disease','bmi','HbA1c_level', 'blood_glucose_level', 'diabetes']] # Выберем только числовые столбцы\n",
    "sns.heatmap(numeric_df.corr(),annot=True) # "
   ]
  },
  {
   "attachments": {},
   "cell_type": "markdown",
   "id": "57a7fcd0-f2eb-407c-ab40-bd3b0cd3533a",
   "metadata": {},
   "source": [
    "# Общий вывод"
   ]
  },
  {
   "attachments": {},
   "cell_type": "markdown",
   "id": "c1a14998-7bbe-4114-b471-81f207993c8f",
   "metadata": {},
   "source": [
    "В группе риска заболеть сахарным диабетом находятся люди в возрасте, с ожирением, курящие и имеющие сердечные заболевания. \n",
    "Наличие высокого уровня сахара в крови является уже следствием самого заболевания.\n",
    "\n",
    "Графическое представление данных упрощает изучение данных и выявление различных зависимостей."
   ]
  }
 ],
 "metadata": {
  "kernelspec": {
   "display_name": "Python 3.8.6rc1 64-bit",
   "language": "python",
   "name": "python3"
  },
  "language_info": {
   "codemirror_mode": {
    "name": "ipython",
    "version": 3
   },
   "file_extension": ".py",
   "mimetype": "text/x-python",
   "name": "python",
   "nbconvert_exporter": "python",
   "pygments_lexer": "ipython3",
   "version": "3.11.4"
  },
  "vscode": {
   "interpreter": {
    "hash": "87827ea2eb5520c169a7fec310117dd7954aa84e84b54bf706c8e949532c638c"
   }
  }
 },
 "nbformat": 4,
 "nbformat_minor": 5
}
