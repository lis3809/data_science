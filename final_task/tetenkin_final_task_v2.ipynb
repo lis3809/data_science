{
 "cells": [
  {
   "cell_type": "markdown",
   "id": "1d40e90b",
   "metadata": {},
   "source": [
    "<p style=\"border:3px #ff0000  solid;\">\n",
    "Для выполнения задания выбран датасет под номером 18. Датасет содержит информацию о внешности людей.\n",
    "\n",
    "**Критерий выполнения задания:** построенная модель, которая будет предсказывать какого пола человек, основываясь на его внешности. "
   ]
  },
  {
   "cell_type": "markdown",
   "id": "664cb126",
   "metadata": {},
   "source": [
    "**В ходе выполнения задания выполнить побочные задачи:**\n",
    "1. Загрузка и предобработка данных \n",
    "2. Описательный анализ данных, просмотр данных и вывод статистики\n",
    "3. Постройте необходимые графики для анализа\n",
    "4. Проверьте гипотезы (если потребуется)\n",
    "5. Сделайте промежуточный отчет-вывод по исследованию\n",
    "6. Определите, какую задачу вы будете решать (классификация, регрессия и т.д.)\n",
    "7. Создайте несколько моделей для прогнозирования вашего целевого признака и выберите наилучшую, опираясь на вашу валидацию\n",
    "8. Сделайте прогноз для тестовой выборки (должно быть три выборки в этой задаче: тренировочная, валидационная, тестовая)\n",
    "9. Приведите метрику, с помощью которой вы будете оценивать работу вашей модели (обоснуйте ваш выбор метрики)\n",
    "10. Сделайте вывод о работе вашей модели и метриках. Обоснуйте: «Нужно ли использовать для решения этой задачи машинное обучение или можно обойтись dummy-предсказанием?»"
   ]
  },
  {
   "cell_type": "markdown",
   "id": "f57ec3c6",
   "metadata": {
    "papermill": {
     "duration": 0.014443,
     "end_time": "2023-08-08T14:38:25.009183",
     "exception": false,
     "start_time": "2023-08-08T14:38:24.994740",
     "status": "completed"
    },
    "tags": []
   },
   "source": [
    "<p style=\"border:3px #ff0000  solid;\">\n",
    "1. Загрузка данных"
   ]
  },
  {
   "cell_type": "code",
   "execution_count": null,
   "id": "c92d97f1",
   "metadata": {
    "execution": {
     "iopub.execute_input": "2023-08-08T14:38:25.038959Z",
     "iopub.status.busy": "2023-08-08T14:38:25.038547Z",
     "iopub.status.idle": "2023-08-08T14:38:26.513770Z",
     "shell.execute_reply": "2023-08-08T14:38:26.512510Z"
    },
    "papermill": {
     "duration": 1.493299,
     "end_time": "2023-08-08T14:38:26.516695",
     "exception": false,
     "start_time": "2023-08-08T14:38:25.023396",
     "status": "completed"
    },
    "tags": []
   },
   "outputs": [],
   "source": [
    "import pandas as pd\n",
    "import numpy as np\n",
    "import matplotlib.pyplot as plt\n",
    "import seaborn as sns\n",
    "from sklearn.model_selection import train_test_split\n",
    "from sklearn.linear_model import LogisticRegression\n",
    "from sklearn.metrics import accuracy_score\n",
    "from sklearn.metrics import confusion_matrix,classification_report\n",
    "from sklearn.metrics import classification_report,confusion_matrix\n",
    "from sklearn.neighbors import KNeighborsClassifier\n",
    "from sklearn.metrics import accuracy_score\n",
    "from sklearn.ensemble import RandomForestClassifier\n",
    "from sklearn.metrics import accuracy_score\n",
    "from sklearn.svm import SVC\n",
    "from sklearn.dummy import DummyClassifier\n",
    "from sklearn.metrics import accuracy_score\n",
    "%matplotlib inline"
   ]
  },
  {
   "cell_type": "code",
   "execution_count": null,
   "id": "694deb02",
   "metadata": {
    "execution": {
     "iopub.execute_input": "2023-08-08T14:38:26.546980Z",
     "iopub.status.busy": "2023-08-08T14:38:26.546472Z",
     "iopub.status.idle": "2023-08-08T14:38:26.575920Z",
     "shell.execute_reply": "2023-08-08T14:38:26.574929Z"
    },
    "papermill": {
     "duration": 0.048109,
     "end_time": "2023-08-08T14:38:26.579001",
     "exception": false,
     "start_time": "2023-08-08T14:38:26.530892",
     "status": "completed"
    },
    "tags": []
   },
   "outputs": [],
   "source": [
    "# загрузим датасет\n",
    "df = pd.read_csv('C:/Users/Z/PycharmProjects/data_science_1t/final_task/gender_classification.csv')\n",
    "df1 = pd.read_csv('C:/Users/Z/PycharmProjects/data_science_1t/final_task/gender_classification.csv')"
   ]
  },
  {
   "cell_type": "markdown",
   "id": "5ebc95c3",
   "metadata": {},
   "source": [
    "<p style=\"border:3px #ff0000  solid;\">\n",
    "2. Описательный анализ данных"
   ]
  },
  {
   "cell_type": "code",
   "execution_count": null,
   "id": "cb212ec9",
   "metadata": {
    "execution": {
     "iopub.execute_input": "2023-08-08T14:38:26.609163Z",
     "iopub.status.busy": "2023-08-08T14:38:26.608748Z",
     "iopub.status.idle": "2023-08-08T14:38:26.644286Z",
     "shell.execute_reply": "2023-08-08T14:38:26.643132Z"
    },
    "papermill": {
     "duration": 0.053831,
     "end_time": "2023-08-08T14:38:26.647027",
     "exception": false,
     "start_time": "2023-08-08T14:38:26.593196",
     "status": "completed"
    },
    "tags": []
   },
   "outputs": [],
   "source": [
    "df"
   ]
  },
  {
   "cell_type": "code",
   "execution_count": null,
   "id": "9b66e2ce",
   "metadata": {
    "execution": {
     "iopub.execute_input": "2023-08-08T14:38:26.678761Z",
     "iopub.status.busy": "2023-08-08T14:38:26.678328Z",
     "iopub.status.idle": "2023-08-08T14:38:26.686028Z",
     "shell.execute_reply": "2023-08-08T14:38:26.684791Z"
    },
    "papermill": {
     "duration": 0.026075,
     "end_time": "2023-08-08T14:38:26.688387",
     "exception": false,
     "start_time": "2023-08-08T14:38:26.662312",
     "status": "completed"
    },
    "tags": []
   },
   "outputs": [],
   "source": [
    "df.columns"
   ]
  },
  {
   "cell_type": "code",
   "execution_count": null,
   "id": "5ee1a31b",
   "metadata": {
    "execution": {
     "iopub.execute_input": "2023-08-08T14:38:26.719678Z",
     "iopub.status.busy": "2023-08-08T14:38:26.719281Z",
     "iopub.status.idle": "2023-08-08T14:38:26.746386Z",
     "shell.execute_reply": "2023-08-08T14:38:26.744682Z"
    },
    "papermill": {
     "duration": 0.045804,
     "end_time": "2023-08-08T14:38:26.749034",
     "exception": false,
     "start_time": "2023-08-08T14:38:26.703230",
     "status": "completed"
    },
    "tags": []
   },
   "outputs": [],
   "source": [
    "df.info()"
   ]
  },
  {
   "cell_type": "code",
   "execution_count": null,
   "id": "e1427afa",
   "metadata": {
    "execution": {
     "iopub.execute_input": "2023-08-08T14:38:26.782112Z",
     "iopub.status.busy": "2023-08-08T14:38:26.780886Z",
     "iopub.status.idle": "2023-08-08T14:38:26.820402Z",
     "shell.execute_reply": "2023-08-08T14:38:26.819175Z"
    },
    "papermill": {
     "duration": 0.058757,
     "end_time": "2023-08-08T14:38:26.822863",
     "exception": false,
     "start_time": "2023-08-08T14:38:26.764106",
     "status": "completed"
    },
    "tags": []
   },
   "outputs": [],
   "source": [
    "df.describe()"
   ]
  },
  {
   "cell_type": "code",
   "execution_count": null,
   "id": "a7072497",
   "metadata": {
    "execution": {
     "iopub.execute_input": "2023-08-08T14:38:26.856615Z",
     "iopub.status.busy": "2023-08-08T14:38:26.855927Z",
     "iopub.status.idle": "2023-08-08T14:38:26.865448Z",
     "shell.execute_reply": "2023-08-08T14:38:26.864254Z"
    },
    "papermill": {
     "duration": 0.029425,
     "end_time": "2023-08-08T14:38:26.867880",
     "exception": false,
     "start_time": "2023-08-08T14:38:26.838455",
     "status": "completed"
    },
    "tags": []
   },
   "outputs": [],
   "source": [
    "df['gender'].value_counts()"
   ]
  },
  {
   "cell_type": "code",
   "execution_count": null,
   "id": "3ed1a7b3",
   "metadata": {},
   "outputs": [],
   "source": [
    "df.nunique ()"
   ]
  },
  {
   "cell_type": "markdown",
   "id": "3e113548",
   "metadata": {},
   "source": [
    "<p style=\"border:3px #00B344  solid;\">\n",
    "**Вывод:** В датасете 8 колонок и 5001 строка. Пустых значений необнаружено. Типы данных указаны правильно. Большое количество уникальных данных только в столбцах ширина и высота лба, остальные значения  по прицнципу есть или нет. Представленно одинаковое количество мужчин и женцин.  "
   ]
  },
  {
   "cell_type": "markdown",
   "id": "b0dd3f45",
   "metadata": {
    "papermill": {
     "duration": 0.01481,
     "end_time": "2023-08-08T14:38:26.898032",
     "exception": false,
     "start_time": "2023-08-08T14:38:26.883222",
     "status": "completed"
    },
    "tags": []
   },
   "source": [
    "<p style=\"border:3px #ff0000  solid;\">\n",
    "3. Визуальный анализ"
   ]
  },
  {
   "cell_type": "code",
   "execution_count": null,
   "id": "02ad8389",
   "metadata": {
    "execution": {
     "iopub.execute_input": "2023-08-08T14:38:26.930542Z",
     "iopub.status.busy": "2023-08-08T14:38:26.930133Z",
     "iopub.status.idle": "2023-08-08T14:38:27.222309Z",
     "shell.execute_reply": "2023-08-08T14:38:27.221186Z"
    },
    "papermill": {
     "duration": 0.311703,
     "end_time": "2023-08-08T14:38:27.225048",
     "exception": false,
     "start_time": "2023-08-08T14:38:26.913345",
     "status": "completed"
    },
    "tags": []
   },
   "outputs": [],
   "source": [
    "plt.figure(figsize=(8,7))\n",
    "sns.countplot(x='gender',data=df, palette='magma')\n",
    "plt.xlabel('Пол')\n",
    "plt.ylabel('Количество')"
   ]
  },
  {
   "cell_type": "code",
   "execution_count": null,
   "id": "f28b74d8",
   "metadata": {},
   "outputs": [],
   "source": [
    "plt.figure(figsize=(10,2))\n",
    "plt.title('Ширина лба')\n",
    "plt.boxplot(df.forehead_width_cm, vert=False)\n",
    "plt.xlabel('сантиметры')\n",
    "plt.show()"
   ]
  },
  {
   "cell_type": "code",
   "execution_count": null,
   "id": "fa777306",
   "metadata": {},
   "outputs": [],
   "source": [
    "plt.figure(figsize=(10,2))\n",
    "plt.title('Высота лба')\n",
    "plt.boxplot(df.forehead_height_cm, vert=False)\n",
    "plt.xlabel('сантиметры')\n",
    "plt.show()"
   ]
  },
  {
   "cell_type": "code",
   "execution_count": null,
   "id": "443d7935",
   "metadata": {},
   "outputs": [],
   "source": [
    "df1.loc[df[\"gender\"] == \"Male\", \"gender\"] = 1\n",
    "df1.loc[df[\"gender\"] == \"Female\", \"gender\"] = 0\n",
    "df1\n"
   ]
  },
  {
   "cell_type": "code",
   "execution_count": null,
   "id": "41cada2c",
   "metadata": {
    "execution": {
     "iopub.execute_input": "2023-08-08T14:38:27.258835Z",
     "iopub.status.busy": "2023-08-08T14:38:27.258366Z",
     "iopub.status.idle": "2023-08-08T14:38:27.916885Z",
     "shell.execute_reply": "2023-08-08T14:38:27.915609Z"
    },
    "papermill": {
     "duration": 0.67873,
     "end_time": "2023-08-08T14:38:27.919602",
     "exception": false,
     "start_time": "2023-08-08T14:38:27.240872",
     "status": "completed"
    },
    "tags": []
   },
   "outputs": [],
   "source": [
    "plt.figure(figsize=(15,10))\n",
    "sns.heatmap(df1.corr(), annot=True,linewidths=0.5, cmap=\"Reds\")"
   ]
  },
  {
   "cell_type": "code",
   "execution_count": null,
   "id": "b37ddfa7",
   "metadata": {
    "execution": {
     "iopub.execute_input": "2023-08-08T14:38:27.957411Z",
     "iopub.status.busy": "2023-08-08T14:38:27.956736Z",
     "iopub.status.idle": "2023-08-08T14:38:27.962404Z",
     "shell.execute_reply": "2023-08-08T14:38:27.961462Z"
    },
    "papermill": {
     "duration": 0.027293,
     "end_time": "2023-08-08T14:38:27.964905",
     "exception": false,
     "start_time": "2023-08-08T14:38:27.937612",
     "status": "completed"
    },
    "tags": []
   },
   "outputs": [],
   "source": [
    "pop=['long_hair','forehead_width_cm','forehead_height_cm','nose_wide',\n",
    "       'nose_long','lips_thin','distance_nose_to_lip_long','gender']"
   ]
  },
  {
   "cell_type": "code",
   "execution_count": null,
   "id": "0c0877e6",
   "metadata": {
    "execution": {
     "iopub.execute_input": "2023-08-08T14:38:28.001959Z",
     "iopub.status.busy": "2023-08-08T14:38:28.001233Z",
     "iopub.status.idle": "2023-08-08T14:39:08.393363Z",
     "shell.execute_reply": "2023-08-08T14:39:08.392287Z"
    },
    "papermill": {
     "duration": 40.442604,
     "end_time": "2023-08-08T14:39:08.424873",
     "exception": false,
     "start_time": "2023-08-08T14:38:27.982269",
     "status": "completed"
    },
    "tags": []
   },
   "outputs": [],
   "source": [
    "sns.pairplot(df[pop],hue='gender',palette='Blues')"
   ]
  },
  {
   "cell_type": "markdown",
   "id": "7e06b458",
   "metadata": {},
   "source": [
    "<p style=\"border:3px #00B344  solid;\">\n",
    "**Вывод:** Выбросов не обнаружено. Сильная корреляция обнаружена между полом и размерами носа, губ, расстоянием от носа до губ. Датасет простой и наглядный проверка гипотез не требуется. Исходя из анализа датасета и задания в дальнейшем будем решать задачу классификации."
   ]
  },
  {
   "cell_type": "markdown",
   "id": "ee19eb2a",
   "metadata": {
    "papermill": {
     "duration": 0.025059,
     "end_time": "2023-08-08T14:39:09.039210",
     "exception": false,
     "start_time": "2023-08-08T14:39:09.014151",
     "status": "completed"
    },
    "tags": []
   },
   "source": [
    "<p style=\"border:3px #ff0000  solid;\">\n",
    "4. Выбор метода"
   ]
  },
  {
   "cell_type": "code",
   "execution_count": null,
   "id": "db969582",
   "metadata": {},
   "outputs": [],
   "source": [
    "X=df.drop('gender',axis=1)\n",
    "Y=df['gender']"
   ]
  },
  {
   "cell_type": "code",
   "execution_count": null,
   "id": "a2caa975",
   "metadata": {
    "execution": {
     "iopub.execute_input": "2023-08-08T14:39:08.722757Z",
     "iopub.status.busy": "2023-08-08T14:39:08.721969Z",
     "iopub.status.idle": "2023-08-08T14:39:08.985316Z",
     "shell.execute_reply": "2023-08-08T14:39:08.983986Z"
    },
    "papermill": {
     "duration": 0.293383,
     "end_time": "2023-08-08T14:39:08.988370",
     "exception": false,
     "start_time": "2023-08-08T14:39:08.694987",
     "status": "completed"
    },
    "tags": []
   },
   "outputs": [],
   "source": [
    "#Разделение данных на выборки (тренировочная, валидационная, тестовая)\n",
    "X_train_val, X_test, Y_train_val, Y_test = train_test_split(X, Y, test_size=0.40, random_state=1)\n",
    "X_train, X_val, Y_train, Y_val = train_test_split(X_train_val, Y_train_val, test_size=0.50, random_state=1)"
   ]
  },
  {
   "cell_type": "markdown",
   "id": "49783ea5",
   "metadata": {
    "papermill": {
     "duration": 0.025219,
     "end_time": "2023-08-08T14:39:09.089809",
     "exception": false,
     "start_time": "2023-08-08T14:39:09.064590",
     "status": "completed"
    },
    "tags": []
   },
   "source": [
    "        **Логистическая регрессия**"
   ]
  },
  {
   "cell_type": "code",
   "execution_count": null,
   "id": "95d225c5",
   "metadata": {
    "execution": {
     "iopub.execute_input": "2023-08-08T14:39:09.143202Z",
     "iopub.status.busy": "2023-08-08T14:39:09.142791Z",
     "iopub.status.idle": "2023-08-08T14:39:09.333967Z",
     "shell.execute_reply": "2023-08-08T14:39:09.332770Z"
    },
    "papermill": {
     "duration": 0.22251,
     "end_time": "2023-08-08T14:39:09.337816",
     "exception": false,
     "start_time": "2023-08-08T14:39:09.115306",
     "status": "completed"
    },
    "tags": []
   },
   "outputs": [],
   "source": [
    "# Обучение модели\n",
    "lr=LogisticRegression()\n",
    "lr.fit(X_train,Y_train)"
   ]
  },
  {
   "cell_type": "code",
   "execution_count": null,
   "id": "30be45c3",
   "metadata": {
    "execution": {
     "iopub.execute_input": "2023-08-08T14:39:09.444195Z",
     "iopub.status.busy": "2023-08-08T14:39:09.443766Z",
     "iopub.status.idle": "2023-08-08T14:39:09.453785Z",
     "shell.execute_reply": "2023-08-08T14:39:09.452249Z"
    },
    "papermill": {
     "duration": 0.064396,
     "end_time": "2023-08-08T14:39:09.457953",
     "exception": false,
     "start_time": "2023-08-08T14:39:09.393557",
     "status": "completed"
    },
    "tags": []
   },
   "outputs": [],
   "source": [
    "prediction1=lr.predict(X_train)"
   ]
  },
  {
   "cell_type": "code",
   "execution_count": null,
   "id": "0c71d462",
   "metadata": {
    "execution": {
     "iopub.execute_input": "2023-08-08T14:39:09.574995Z",
     "iopub.status.busy": "2023-08-08T14:39:09.574560Z",
     "iopub.status.idle": "2023-08-08T14:39:09.593368Z",
     "shell.execute_reply": "2023-08-08T14:39:09.591593Z"
    },
    "papermill": {
     "duration": 0.07437,
     "end_time": "2023-08-08T14:39:09.595853",
     "exception": false,
     "start_time": "2023-08-08T14:39:09.521483",
     "status": "completed"
    },
    "tags": []
   },
   "outputs": [],
   "source": [
    "# Определение точности\n",
    "lr_acc = accuracy_score(Y_train, prediction1)\n",
    "print(\"Точность составляет:\",lr_acc)"
   ]
  },
  {
   "cell_type": "code",
   "execution_count": null,
   "id": "63260881",
   "metadata": {},
   "outputs": [],
   "source": [
    "# Делаем прогноз на тестовой выборке\n",
    "prediction1_test = lr.predict(X_test)\n",
    "# Оцениваем точность модели на тестовой выборке\n",
    "lr_acc_test = accuracy_score(Y_test, prediction1_test)\n",
    "print(\"Точность на тестовой выборке:\", lr_acc_test)\n"
   ]
  },
  {
   "cell_type": "code",
   "execution_count": null,
   "id": "d06014dc",
   "metadata": {
    "execution": {
     "iopub.execute_input": "2023-08-08T14:39:09.650113Z",
     "iopub.status.busy": "2023-08-08T14:39:09.649311Z",
     "iopub.status.idle": "2023-08-08T14:39:09.871090Z",
     "shell.execute_reply": "2023-08-08T14:39:09.869828Z"
    },
    "papermill": {
     "duration": 0.252525,
     "end_time": "2023-08-08T14:39:09.874066",
     "exception": false,
     "start_time": "2023-08-08T14:39:09.621541",
     "status": "completed"
    },
    "tags": []
   },
   "outputs": [],
   "source": [
    "print(\"Оценка F1: \\n\",classification_report(Y_test,prediction1_test))"
   ]
  },
  {
   "cell_type": "code",
   "execution_count": null,
   "id": "310ceb5e",
   "metadata": {},
   "outputs": [],
   "source": [
    "# Матрица ошибок\n",
    "plt.figure(figsize=(5, 5))\n",
    "cm = confusion_matrix(Y_test,prediction1_test) \n",
    "sns.heatmap(cm, annot=True, fmt='d', cmap='RdBu')\n",
    "plt.ylabel('true label')\n",
    "plt.xlabel('predicted label')\n",
    "plt.show()"
   ]
  },
  {
   "cell_type": "markdown",
   "id": "e59a5102",
   "metadata": {
    "execution": {
     "iopub.execute_input": "2023-08-08T13:47:12.438695Z",
     "iopub.status.busy": "2023-08-08T13:47:12.438250Z",
     "iopub.status.idle": "2023-08-08T13:47:12.445663Z",
     "shell.execute_reply": "2023-08-08T13:47:12.444064Z",
     "shell.execute_reply.started": "2023-08-08T13:47:12.438651Z"
    },
    "papermill": {
     "duration": 0.026444,
     "end_time": "2023-08-08T14:39:09.927843",
     "exception": false,
     "start_time": "2023-08-08T14:39:09.901399",
     "status": "completed"
    },
    "tags": []
   },
   "source": [
    "        **k-ближайших соседей**"
   ]
  },
  {
   "cell_type": "code",
   "execution_count": null,
   "id": "56198548",
   "metadata": {
    "execution": {
     "iopub.execute_input": "2023-08-08T14:39:09.984070Z",
     "iopub.status.busy": "2023-08-08T14:39:09.983620Z",
     "iopub.status.idle": "2023-08-08T14:39:10.128627Z",
     "shell.execute_reply": "2023-08-08T14:39:10.127341Z"
    },
    "papermill": {
     "duration": 0.176658,
     "end_time": "2023-08-08T14:39:10.131324",
     "exception": false,
     "start_time": "2023-08-08T14:39:09.954666",
     "status": "completed"
    },
    "tags": []
   },
   "outputs": [],
   "source": [
    "# Обучение модели\n",
    "knn = KNeighborsClassifier()\n",
    "knn.fit(X_train, Y_train)\n"
   ]
  },
  {
   "cell_type": "code",
   "execution_count": null,
   "id": "fea4d639",
   "metadata": {
    "execution": {
     "iopub.execute_input": "2023-08-08T14:39:10.187437Z",
     "iopub.status.busy": "2023-08-08T14:39:10.187040Z",
     "iopub.status.idle": "2023-08-08T14:39:10.335628Z",
     "shell.execute_reply": "2023-08-08T14:39:10.334526Z"
    },
    "papermill": {
     "duration": 0.179979,
     "end_time": "2023-08-08T14:39:10.338607",
     "exception": false,
     "start_time": "2023-08-08T14:39:10.158628",
     "status": "completed"
    },
    "tags": []
   },
   "outputs": [],
   "source": [
    "prediction2 = knn.predict(X_train)"
   ]
  },
  {
   "cell_type": "code",
   "execution_count": null,
   "id": "67ee5da5",
   "metadata": {
    "execution": {
     "iopub.execute_input": "2023-08-08T14:39:10.395641Z",
     "iopub.status.busy": "2023-08-08T14:39:10.394455Z",
     "iopub.status.idle": "2023-08-08T14:39:10.413461Z",
     "shell.execute_reply": "2023-08-08T14:39:10.411815Z"
    },
    "papermill": {
     "duration": 0.050618,
     "end_time": "2023-08-08T14:39:10.416436",
     "exception": false,
     "start_time": "2023-08-08T14:39:10.365818",
     "status": "completed"
    },
    "tags": []
   },
   "outputs": [],
   "source": [
    "# Определение точности\n",
    "knn_acc = accuracy_score(Y_train, prediction2)\n",
    "print(\"Точность модели составляет:\",knn_acc)"
   ]
  },
  {
   "cell_type": "code",
   "execution_count": null,
   "id": "dba67f8b",
   "metadata": {},
   "outputs": [],
   "source": [
    "# Делаем прогноз на тестовой выборке\n",
    "prediction2_test = knn.predict(X_test)\n",
    "# Оцениваем точность модели на тестовой выборке\n",
    "knn_acc_test = accuracy_score(Y_test, prediction2_test)\n",
    "print(\"Точность на тестовой выборке:\", knn_acc_test)"
   ]
  },
  {
   "cell_type": "code",
   "execution_count": null,
   "id": "d68b81c2",
   "metadata": {
    "execution": {
     "iopub.execute_input": "2023-08-08T14:39:10.473643Z",
     "iopub.status.busy": "2023-08-08T14:39:10.473211Z",
     "iopub.status.idle": "2023-08-08T14:39:10.699485Z",
     "shell.execute_reply": "2023-08-08T14:39:10.697186Z"
    },
    "papermill": {
     "duration": 0.258088,
     "end_time": "2023-08-08T14:39:10.702110",
     "exception": false,
     "start_time": "2023-08-08T14:39:10.444022",
     "status": "completed"
    },
    "tags": []
   },
   "outputs": [],
   "source": [
    "print('Оценка F1: \\n',classification_report(Y_test,prediction2_test))\n"
   ]
  },
  {
   "cell_type": "code",
   "execution_count": null,
   "id": "41506111",
   "metadata": {},
   "outputs": [],
   "source": [
    "# Матрица ошибок\n",
    "plt.figure(figsize=(5, 5))\n",
    "cm = confusion_matrix(Y_test,prediction2_test) \n",
    "sns.heatmap(cm, annot=True, fmt='d', cmap='RdBu')\n",
    "plt.ylabel('true label')\n",
    "plt.xlabel('predicted label')\n",
    "plt.show()"
   ]
  },
  {
   "cell_type": "markdown",
   "id": "38c7466c",
   "metadata": {
    "papermill": {
     "duration": 0.026279,
     "end_time": "2023-08-08T14:39:10.755355",
     "exception": false,
     "start_time": "2023-08-08T14:39:10.729076",
     "status": "completed"
    },
    "tags": []
   },
   "source": [
    "        **Случайный лес**"
   ]
  },
  {
   "cell_type": "code",
   "execution_count": null,
   "id": "a0171fd0",
   "metadata": {
    "execution": {
     "iopub.execute_input": "2023-08-08T14:39:10.810764Z",
     "iopub.status.busy": "2023-08-08T14:39:10.810323Z",
     "iopub.status.idle": "2023-08-08T14:39:11.332103Z",
     "shell.execute_reply": "2023-08-08T14:39:11.330926Z"
    },
    "papermill": {
     "duration": 0.552608,
     "end_time": "2023-08-08T14:39:11.334525",
     "exception": false,
     "start_time": "2023-08-08T14:39:10.781917",
     "status": "completed"
    },
    "tags": []
   },
   "outputs": [],
   "source": [
    "# Обучение модели\n",
    "rfc=RandomForestClassifier()\n",
    "rfc.fit(X_train,Y_train)"
   ]
  },
  {
   "cell_type": "code",
   "execution_count": null,
   "id": "30dcef7f",
   "metadata": {
    "execution": {
     "iopub.execute_input": "2023-08-08T14:39:11.390219Z",
     "iopub.status.busy": "2023-08-08T14:39:11.389815Z",
     "iopub.status.idle": "2023-08-08T14:39:11.442483Z",
     "shell.execute_reply": "2023-08-08T14:39:11.441258Z"
    },
    "papermill": {
     "duration": 0.084295,
     "end_time": "2023-08-08T14:39:11.445533",
     "exception": false,
     "start_time": "2023-08-08T14:39:11.361238",
     "status": "completed"
    },
    "tags": []
   },
   "outputs": [],
   "source": [
    "prediction3=rfc.predict(X_train)"
   ]
  },
  {
   "cell_type": "code",
   "execution_count": null,
   "id": "c83641ce",
   "metadata": {
    "execution": {
     "iopub.execute_input": "2023-08-08T14:39:11.501765Z",
     "iopub.status.busy": "2023-08-08T14:39:11.501334Z",
     "iopub.status.idle": "2023-08-08T14:39:11.519268Z",
     "shell.execute_reply": "2023-08-08T14:39:11.517827Z"
    },
    "papermill": {
     "duration": 0.049069,
     "end_time": "2023-08-08T14:39:11.521825",
     "exception": false,
     "start_time": "2023-08-08T14:39:11.472756",
     "status": "completed"
    },
    "tags": []
   },
   "outputs": [],
   "source": [
    "# Определение точности\n",
    "rfc_acc = accuracy_score(Y_train, prediction3)\n",
    "print(\"Точность оставляет:\",rfc_acc)"
   ]
  },
  {
   "cell_type": "code",
   "execution_count": null,
   "id": "d8c46a7c",
   "metadata": {},
   "outputs": [],
   "source": [
    "# Делаем прогноз на тестовой выборке\n",
    "prediction3_test = rfc.predict(X_test)\n",
    "# Оцениваем точность модели на тестовой выборке\n",
    "rfc_acc_test = accuracy_score(Y_test, prediction3_test)\n",
    "print(\"Точность на тестовой выборке:\", knn_acc_test)"
   ]
  },
  {
   "cell_type": "code",
   "execution_count": null,
   "id": "93b6a759",
   "metadata": {
    "execution": {
     "iopub.execute_input": "2023-08-08T14:39:11.578216Z",
     "iopub.status.busy": "2023-08-08T14:39:11.577702Z",
     "iopub.status.idle": "2023-08-08T14:39:11.802525Z",
     "shell.execute_reply": "2023-08-08T14:39:11.801104Z"
    },
    "papermill": {
     "duration": 0.256257,
     "end_time": "2023-08-08T14:39:11.805041",
     "exception": false,
     "start_time": "2023-08-08T14:39:11.548784",
     "status": "completed"
    },
    "tags": []
   },
   "outputs": [],
   "source": [
    "print('Оценка F1: \\n',classification_report(Y_test,prediction3_test))"
   ]
  },
  {
   "cell_type": "code",
   "execution_count": null,
   "id": "8398fc4f",
   "metadata": {},
   "outputs": [],
   "source": [
    "# Матрица ошибок\n",
    "plt.figure(figsize=(5, 5))\n",
    "cm = confusion_matrix(Y_test,prediction3_test) \n",
    "sns.heatmap(cm, annot=True, fmt='d', cmap='RdBu')\n",
    "plt.ylabel('true label')\n",
    "plt.xlabel('predicted label')\n",
    "plt.show()"
   ]
  },
  {
   "cell_type": "markdown",
   "id": "a3c03b11",
   "metadata": {
    "papermill": {
     "duration": 0.027021,
     "end_time": "2023-08-08T14:39:11.859926",
     "exception": false,
     "start_time": "2023-08-08T14:39:11.832905",
     "status": "completed"
    },
    "tags": []
   },
   "source": [
    "        **Опорные вектора**"
   ]
  },
  {
   "cell_type": "code",
   "execution_count": null,
   "id": "b01168a3",
   "metadata": {
    "execution": {
     "iopub.execute_input": "2023-08-08T14:39:11.917604Z",
     "iopub.status.busy": "2023-08-08T14:39:11.917205Z",
     "iopub.status.idle": "2023-08-08T14:39:12.030137Z",
     "shell.execute_reply": "2023-08-08T14:39:12.028775Z"
    },
    "papermill": {
     "duration": 0.145051,
     "end_time": "2023-08-08T14:39:12.032645",
     "exception": false,
     "start_time": "2023-08-08T14:39:11.887594",
     "status": "completed"
    },
    "tags": []
   },
   "outputs": [],
   "source": [
    "# Обучение модели\n",
    "svc=SVC()\n",
    "svc.fit(X_train,Y_train)"
   ]
  },
  {
   "cell_type": "code",
   "execution_count": null,
   "id": "332cadb9",
   "metadata": {
    "execution": {
     "iopub.execute_input": "2023-08-08T14:39:12.090313Z",
     "iopub.status.busy": "2023-08-08T14:39:12.089565Z",
     "iopub.status.idle": "2023-08-08T14:39:12.187393Z",
     "shell.execute_reply": "2023-08-08T14:39:12.186006Z"
    },
    "papermill": {
     "duration": 0.130428,
     "end_time": "2023-08-08T14:39:12.190171",
     "exception": false,
     "start_time": "2023-08-08T14:39:12.059743",
     "status": "completed"
    },
    "tags": []
   },
   "outputs": [],
   "source": [
    "prediction4=svc.predict(X_train)"
   ]
  },
  {
   "cell_type": "code",
   "execution_count": null,
   "id": "23a66361",
   "metadata": {
    "execution": {
     "iopub.execute_input": "2023-08-08T14:39:12.246469Z",
     "iopub.status.busy": "2023-08-08T14:39:12.246063Z",
     "iopub.status.idle": "2023-08-08T14:39:12.263205Z",
     "shell.execute_reply": "2023-08-08T14:39:12.261813Z"
    },
    "papermill": {
     "duration": 0.048378,
     "end_time": "2023-08-08T14:39:12.265829",
     "exception": false,
     "start_time": "2023-08-08T14:39:12.217451",
     "status": "completed"
    },
    "tags": []
   },
   "outputs": [],
   "source": [
    "# Определение точности\n",
    "svc_acc = accuracy_score(Y_train, prediction4)\n",
    "print(\"Точность составляет:\",svc_acc)"
   ]
  },
  {
   "cell_type": "code",
   "execution_count": null,
   "id": "957201f4",
   "metadata": {},
   "outputs": [],
   "source": [
    "# Делаем прогноз на тестовой выборке\n",
    "prediction4_test = svc.predict(X_test)\n",
    "# Оцениваем точность модели на тестовой выборке\n",
    "svc_acc_test = accuracy_score(Y_test, prediction4_test)\n",
    "print(\"Точность на тестовой выборке:\", svc_acc_test)"
   ]
  },
  {
   "cell_type": "code",
   "execution_count": null,
   "id": "879e71ea",
   "metadata": {
    "execution": {
     "iopub.execute_input": "2023-08-08T14:39:12.324782Z",
     "iopub.status.busy": "2023-08-08T14:39:12.324304Z",
     "iopub.status.idle": "2023-08-08T14:39:12.544250Z",
     "shell.execute_reply": "2023-08-08T14:39:12.542505Z"
    },
    "papermill": {
     "duration": 0.253197,
     "end_time": "2023-08-08T14:39:12.546708",
     "exception": false,
     "start_time": "2023-08-08T14:39:12.293511",
     "status": "completed"
    },
    "tags": []
   },
   "outputs": [],
   "source": [
    "print(\"Оценка F1:\",classification_report(Y_test,prediction4_test))"
   ]
  },
  {
   "cell_type": "code",
   "execution_count": null,
   "id": "01216a58",
   "metadata": {},
   "outputs": [],
   "source": [
    "# Матрица ошибок\n",
    "plt.figure(figsize=(5, 5))\n",
    "cm = confusion_matrix(Y_test,prediction4_test) \n",
    "sns.heatmap(cm, annot=True, fmt='d', cmap='RdBu')\n",
    "plt.ylabel('true label')\n",
    "plt.xlabel('predicted label')\n",
    "plt.show()"
   ]
  },
  {
   "cell_type": "markdown",
   "id": "3d0a3952",
   "metadata": {
    "papermill": {
     "duration": 0.027453,
     "end_time": "2023-08-08T14:39:12.602598",
     "exception": false,
     "start_time": "2023-08-08T14:39:12.575145",
     "status": "completed"
    },
    "tags": []
   },
   "source": [
    "<p style=\"border:3px #00B344  solid;\">\n",
    "5. Вывод"
   ]
  },
  {
   "cell_type": "code",
   "execution_count": null,
   "id": "0a71422e",
   "metadata": {},
   "outputs": [],
   "source": [
    "plt.figure(figsize=(8, 4))\n",
    "model_acc = [lr_acc, knn_acc, rfc_acc, svc_acc]\n",
    "model_name = ['Логистическая регрессия', 'kNN', 'Случайный лес', 'Опорные вектора']\n",
    "# Создаем вертикальный бар-график с цветовой палитрой 'magma'\n",
    "ax = sns.barplot(x=model_name, y=model_acc, palette='magma')\n",
    "# Настройка подписей осей и заголовка\n",
    "plt.xlabel('Метод')\n",
    "plt.title('Данные по тренировочной выборке')\n",
    "# Добавление значений рядом с барами\n",
    "for i, v in enumerate(model_acc):\n",
    "    ax.text(i, v + 0.01, f'{v:.2f}', color='black', ha='center', fontsize=12)\n",
    "plt.show()"
   ]
  },
  {
   "cell_type": "code",
   "execution_count": null,
   "id": "27ba8fa4",
   "metadata": {},
   "outputs": [],
   "source": [
    "plt.figure(figsize=(8, 4))\n",
    "model_acc = [lr_acc_test, knn_acc_test, rfc_acc_test, svc_acc_test]\n",
    "model_name = ['Логистическая регрессия', 'kNN', 'Случайный лес', 'Опорные вектора']\n",
    "# Создаем вертикальный бар-график с цветовой палитрой 'magma'\n",
    "ax = sns.barplot(x=model_name, y=model_acc, palette='magma')\n",
    "# Настройка подписей осей и заголовка\n",
    "plt.xlabel('Метод')\n",
    "plt.title('Данные по тестовой выборке')\n",
    "# Добавление значений рядом с барами\n",
    "for i, v in enumerate(model_acc):\n",
    "    ax.text(i, v + 0.01, f'{v:.2f}', color='black', ha='center', fontsize=12)\n",
    "plt.show()"
   ]
  },
  {
   "cell_type": "markdown",
   "id": "0c9e409a",
   "metadata": {},
   "source": [
    "<p style=\"border:3px #00B344  solid;\">\n",
    "В рамках решения поставленной задачи я использовал 4 модели классификации - Логистическую регрессию, k-ближайших соседей, случайный лес и опорные вектора. \n",
    "Метод случайного леса показал наилучший результат в тренировочной выборке с точностью 99,86%, однако на тестовой выборке наилучший результат с точностью 97,25% показал уже метод опорных векторов. На тестовой выборке все модели отработали почти одинакого. \n",
    "Оценивали работу моделей с помощью метрики F1-Score и Матрицы ошибок. \n",
    "Матрица ошибок показала количество верных и неверных классификаций для каждого класса, а F1 позволил учесть точность и полноту.**"
   ]
  },
  {
   "cell_type": "markdown",
   "id": "8792e6f5",
   "metadata": {},
   "source": [
    "<p style=\"border:3px #ff0000  solid;\">\n",
    "Дополнительный вопрос: Нужно ли использовать для решения этой задачи машинное обучение или можно обойтись dummy-предсказанием?"
   ]
  },
  {
   "cell_type": "code",
   "execution_count": null,
   "id": "8f63750c",
   "metadata": {},
   "outputs": [],
   "source": [
    "dummy_classifier = DummyClassifier(strategy='most_frequent')\n",
    "# Обучаем \"модель\" на тренировочных данных\n",
    "dummy_classifier.fit(X_train, Y_train)\n",
    "# Делаем предсказание на тестовой выборке\n",
    "dummy_prediction = dummy_classifier.predict(X_test)\n",
    "# Оцениваем точность dummy-предсказания\n",
    "dummy_acc = accuracy_score(Y_test, dummy_prediction)\n",
    "print(\"Точность dummy-предсказания:\", dummy_acc)"
   ]
  },
  {
   "cell_type": "markdown",
   "id": "1a0a88c4",
   "metadata": {},
   "source": [
    "<p style=\"border:3px #00B344  solid;\">\n",
    "В целом, исходя из полученных результатов, можно сделать вывод, что в данном конкретном случае применение машинного обучения оправдано и дает свои положительные результаты."
   ]
  }
 ],
 "metadata": {
  "kernelspec": {
   "display_name": "Python 3",
   "language": "python",
   "name": "python3"
  },
  "language_info": {
   "codemirror_mode": {
    "name": "ipython",
    "version": 3
   },
   "file_extension": ".py",
   "mimetype": "text/x-python",
   "name": "python",
   "nbconvert_exporter": "python",
   "pygments_lexer": "ipython3",
   "version": "3.11.4"
  },
  "papermill": {
   "default_parameters": {},
   "duration": 61.240633,
   "end_time": "2023-08-08T14:39:14.568613",
   "environment_variables": {},
   "exception": null,
   "input_path": "__notebook__.ipynb",
   "output_path": "__notebook__.ipynb",
   "parameters": {},
   "start_time": "2023-08-08T14:38:13.327980",
   "version": "2.4.0"
  }
 },
 "nbformat": 4,
 "nbformat_minor": 5
}
