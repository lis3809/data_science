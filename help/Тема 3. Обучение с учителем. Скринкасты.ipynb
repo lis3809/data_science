{
 "cells": [
  {
   "cell_type": "markdown",
   "metadata": {},
   "source": [
    "### Переобучение и недообучение решающего дерева"
   ]
  },
  {
   "cell_type": "code",
   "execution_count": 1,
   "metadata": {},
   "outputs": [],
   "source": [
    "import pandas as pd\n",
    "from sklearn.model_selection import train_test_split\n",
    "from sklearn.tree import DecisionTreeRegressor\n",
    "from sklearn.metrics import mean_absolute_error\n",
    "from matplotlib import pyplot as plt\n",
    "import numpy as np"
   ]
  },
  {
   "cell_type": "markdown",
   "metadata": {},
   "source": [
    "Решаем задачу предсказания уровня трат покупателя по его входным данным:\n",
    "- id покупателя\n",
    "- пол покупателя\n",
    "- возраст покупателя\n",
    "- годовой доход покупателя\n",
    "\n",
    "[Данные можно найти тут](https://www.kaggle.com/datasets/shwetabh123/mall-customers?resource=download)"
   ]
  },
  {
   "cell_type": "code",
   "execution_count": 2,
   "metadata": {},
   "outputs": [
    {
     "data": {
      "text/html": [
       "<div>\n",
       "<style scoped>\n",
       "    .dataframe tbody tr th:only-of-type {\n",
       "        vertical-align: middle;\n",
       "    }\n",
       "\n",
       "    .dataframe tbody tr th {\n",
       "        vertical-align: top;\n",
       "    }\n",
       "\n",
       "    .dataframe thead th {\n",
       "        text-align: right;\n",
       "    }\n",
       "</style>\n",
       "<table border=\"1\" class=\"dataframe\">\n",
       "  <thead>\n",
       "    <tr style=\"text-align: right;\">\n",
       "      <th></th>\n",
       "      <th>CustomerID</th>\n",
       "      <th>Genre</th>\n",
       "      <th>Age</th>\n",
       "      <th>Annual Income (k$)</th>\n",
       "      <th>Spending Score (1-100)</th>\n",
       "    </tr>\n",
       "  </thead>\n",
       "  <tbody>\n",
       "    <tr>\n",
       "      <th>0</th>\n",
       "      <td>1</td>\n",
       "      <td>Male</td>\n",
       "      <td>19</td>\n",
       "      <td>15</td>\n",
       "      <td>39</td>\n",
       "    </tr>\n",
       "    <tr>\n",
       "      <th>1</th>\n",
       "      <td>2</td>\n",
       "      <td>Male</td>\n",
       "      <td>21</td>\n",
       "      <td>15</td>\n",
       "      <td>81</td>\n",
       "    </tr>\n",
       "    <tr>\n",
       "      <th>2</th>\n",
       "      <td>3</td>\n",
       "      <td>Female</td>\n",
       "      <td>20</td>\n",
       "      <td>16</td>\n",
       "      <td>6</td>\n",
       "    </tr>\n",
       "    <tr>\n",
       "      <th>3</th>\n",
       "      <td>4</td>\n",
       "      <td>Female</td>\n",
       "      <td>23</td>\n",
       "      <td>16</td>\n",
       "      <td>77</td>\n",
       "    </tr>\n",
       "    <tr>\n",
       "      <th>4</th>\n",
       "      <td>5</td>\n",
       "      <td>Female</td>\n",
       "      <td>31</td>\n",
       "      <td>17</td>\n",
       "      <td>40</td>\n",
       "    </tr>\n",
       "  </tbody>\n",
       "</table>\n",
       "</div>"
      ],
      "text/plain": [
       "   CustomerID   Genre  Age  Annual Income (k$)  Spending Score (1-100)\n",
       "0           1    Male   19                  15                      39\n",
       "1           2    Male   21                  15                      81\n",
       "2           3  Female   20                  16                       6\n",
       "3           4  Female   23                  16                      77\n",
       "4           5  Female   31                  17                      40"
      ]
     },
     "execution_count": 2,
     "metadata": {},
     "output_type": "execute_result"
    }
   ],
   "source": [
    "# загружаем данные\n",
    "df = pd.read_csv('Mall_Customers.csv')\n",
    "df.head()"
   ]
  },
  {
   "cell_type": "code",
   "execution_count": 3,
   "metadata": {},
   "outputs": [
    {
     "name": "stdout",
     "output_type": "stream",
     "text": [
      "<class 'pandas.core.frame.DataFrame'>\n",
      "RangeIndex: 200 entries, 0 to 199\n",
      "Data columns (total 5 columns):\n",
      " #   Column                  Non-Null Count  Dtype \n",
      "---  ------                  --------------  ----- \n",
      " 0   CustomerID              200 non-null    int64 \n",
      " 1   Genre                   200 non-null    object\n",
      " 2   Age                     200 non-null    int64 \n",
      " 3   Annual Income (k$)      200 non-null    int64 \n",
      " 4   Spending Score (1-100)  200 non-null    int64 \n",
      "dtypes: int64(4), object(1)\n",
      "memory usage: 7.9+ KB\n"
     ]
    }
   ],
   "source": [
    "# посмотрим тип данных и нет ли пропусков\n",
    "df.info()"
   ]
  },
  {
   "cell_type": "code",
   "execution_count": 4,
   "metadata": {},
   "outputs": [
    {
     "data": {
      "text/html": [
       "<div>\n",
       "<style scoped>\n",
       "    .dataframe tbody tr th:only-of-type {\n",
       "        vertical-align: middle;\n",
       "    }\n",
       "\n",
       "    .dataframe tbody tr th {\n",
       "        vertical-align: top;\n",
       "    }\n",
       "\n",
       "    .dataframe thead th {\n",
       "        text-align: right;\n",
       "    }\n",
       "</style>\n",
       "<table border=\"1\" class=\"dataframe\">\n",
       "  <thead>\n",
       "    <tr style=\"text-align: right;\">\n",
       "      <th></th>\n",
       "      <th>Genre</th>\n",
       "      <th>Age</th>\n",
       "      <th>Annual Income (k$)</th>\n",
       "    </tr>\n",
       "  </thead>\n",
       "  <tbody>\n",
       "    <tr>\n",
       "      <th>0</th>\n",
       "      <td>1</td>\n",
       "      <td>19</td>\n",
       "      <td>15</td>\n",
       "    </tr>\n",
       "    <tr>\n",
       "      <th>1</th>\n",
       "      <td>1</td>\n",
       "      <td>21</td>\n",
       "      <td>15</td>\n",
       "    </tr>\n",
       "    <tr>\n",
       "      <th>2</th>\n",
       "      <td>0</td>\n",
       "      <td>20</td>\n",
       "      <td>16</td>\n",
       "    </tr>\n",
       "    <tr>\n",
       "      <th>3</th>\n",
       "      <td>0</td>\n",
       "      <td>23</td>\n",
       "      <td>16</td>\n",
       "    </tr>\n",
       "    <tr>\n",
       "      <th>4</th>\n",
       "      <td>0</td>\n",
       "      <td>31</td>\n",
       "      <td>17</td>\n",
       "    </tr>\n",
       "  </tbody>\n",
       "</table>\n",
       "</div>"
      ],
      "text/plain": [
       "   Genre  Age  Annual Income (k$)\n",
       "0      1   19                  15\n",
       "1      1   21                  15\n",
       "2      0   20                  16\n",
       "3      0   23                  16\n",
       "4      0   31                  17"
      ]
     },
     "execution_count": 4,
     "metadata": {},
     "output_type": "execute_result"
    }
   ],
   "source": [
    "# отделяем признаки\n",
    "features = df[['Genre', 'Age', 'Annual Income (k$)']].copy()\n",
    "features['Genre'] = (features['Genre'] == 'Male') * 1\n",
    "features.head()"
   ]
  },
  {
   "cell_type": "code",
   "execution_count": 5,
   "metadata": {},
   "outputs": [],
   "source": [
    "# отделяем целевую переменную\n",
    "target = df['Spending Score (1-100)']"
   ]
  },
  {
   "cell_type": "code",
   "execution_count": 6,
   "metadata": {},
   "outputs": [],
   "source": [
    "features_train, features_test, target_train, target_test = train_test_split(features, target, test_size=0.25, random_state=42)"
   ]
  },
  {
   "cell_type": "markdown",
   "metadata": {},
   "source": [
    "Обучим очень сложное дерево"
   ]
  },
  {
   "cell_type": "code",
   "execution_count": 7,
   "metadata": {},
   "outputs": [
    {
     "name": "stdout",
     "output_type": "stream",
     "text": [
      "Качество на обучающей выборке: 0.6266666666666667\n",
      "Качество на валидационной выборке: 19.0\n"
     ]
    }
   ],
   "source": [
    "model = DecisionTreeRegressor(min_samples_leaf=1, random_state=1)\n",
    "\n",
    "model.fit(features_train, target_train)\n",
    "pred_train = model.predict(features_train)\n",
    "pred_test = model.predict(features_test)\n",
    "\n",
    "print(f'Качество на обучающей выборке: {mean_absolute_error(pred_train, target_train)}')\n",
    "print(f'Качество на валидационной выборке: {mean_absolute_error(pred_test, target_test)}')"
   ]
  },
  {
   "cell_type": "code",
   "execution_count": 8,
   "metadata": {},
   "outputs": [
    {
     "data": {
      "text/plain": [
       "17"
      ]
     },
     "execution_count": 8,
     "metadata": {},
     "output_type": "execute_result"
    }
   ],
   "source": [
    "model.get_depth()"
   ]
  },
  {
   "cell_type": "markdown",
   "metadata": {},
   "source": [
    "Понаблюдаем как меняются ошибки в зависимости от сложности алгоритма"
   ]
  },
  {
   "cell_type": "code",
   "execution_count": 12,
   "metadata": {},
   "outputs": [
    {
     "data": {
      "image/png": "[encoded data removed]",
      "text/plain": [
       "<Figure size 640x480 with 1 Axes>"
      ]
     },
     "metadata": {},
     "output_type": "display_data"
    }
   ],
   "source": [
    "res = []\n",
    "for param in range(1, 30, 1):\n",
    "    model = DecisionTreeRegressor(min_samples_leaf=param, random_state=42)\n",
    "\n",
    "    model.fit(features_train, target_train)\n",
    "    pred_train = model.predict(features_train)\n",
    "    pred_test = model.predict(features_test)\n",
    "\n",
    "    res.append([param, mean_absolute_error(pred_train, target_train), mean_absolute_error(pred_test, target_test)])\n",
    "    \n",
    "res_pd = pd.DataFrame(res, columns=['min_samples_leaf', 'mae_train', 'mae_test'])\n",
    "\n",
    "res_pd.set_index('min_samples_leaf')['mae_train'].plot(label='mae_train')\n",
    "res_pd.set_index('min_samples_leaf')['mae_test'].plot(label='mae_test')\n",
    "plt.legend()\n",
    "plt.ylabel('MAE');"
   ]
  },
  {
   "cell_type": "code",
   "execution_count": 13,
   "metadata": {},
   "outputs": [
    {
     "data": {
      "text/html": [
       "<div>\n",
       "<style scoped>\n",
       "    .dataframe tbody tr th:only-of-type {\n",
       "        vertical-align: middle;\n",
       "    }\n",
       "\n",
       "    .dataframe tbody tr th {\n",
       "        vertical-align: top;\n",
       "    }\n",
       "\n",
       "    .dataframe thead th {\n",
       "        text-align: right;\n",
       "    }\n",
       "</style>\n",
       "<table border=\"1\" class=\"dataframe\">\n",
       "  <thead>\n",
       "    <tr style=\"text-align: right;\">\n",
       "      <th></th>\n",
       "      <th>min_samples_leaf</th>\n",
       "      <th>mae_train</th>\n",
       "      <th>mae_test</th>\n",
       "    </tr>\n",
       "  </thead>\n",
       "  <tbody>\n",
       "    <tr>\n",
       "      <th>14</th>\n",
       "      <td>15</td>\n",
       "      <td>15.61128</td>\n",
       "      <td>13.854993</td>\n",
       "    </tr>\n",
       "  </tbody>\n",
       "</table>\n",
       "</div>"
      ],
      "text/plain": [
       "    min_samples_leaf  mae_train   mae_test\n",
       "14                15   15.61128  13.854993"
      ]
     },
     "execution_count": 13,
     "metadata": {},
     "output_type": "execute_result"
    }
   ],
   "source": [
    "res_pd[res_pd['mae_test'] == res_pd['mae_test'].min()]"
   ]
  },
  {
   "cell_type": "markdown",
   "metadata": {},
   "source": [
    "### Случайный лес"
   ]
  },
  {
   "cell_type": "code",
   "execution_count": 14,
   "metadata": {},
   "outputs": [],
   "source": [
    "from sklearn.ensemble import RandomForestRegressor"
   ]
  },
  {
   "cell_type": "markdown",
   "metadata": {},
   "source": [
    "Решаем задачу оценки качества вина по 10-бальной шкале в зависимости от результатов замеров некоторых показателей (остаточный сахар, кислотность, крепость и др)  \n",
    "[Данные можно найти тут](https://archive.ics.uci.edu/dataset/186/wine+quality)"
   ]
  },
  {
   "cell_type": "code",
   "execution_count": 15,
   "metadata": {},
   "outputs": [
    {
     "data": {
      "text/html": [
       "<div>\n",
       "<style scoped>\n",
       "    .dataframe tbody tr th:only-of-type {\n",
       "        vertical-align: middle;\n",
       "    }\n",
       "\n",
       "    .dataframe tbody tr th {\n",
       "        vertical-align: top;\n",
       "    }\n",
       "\n",
       "    .dataframe thead th {\n",
       "        text-align: right;\n",
       "    }\n",
       "</style>\n",
       "<table border=\"1\" class=\"dataframe\">\n",
       "  <thead>\n",
       "    <tr style=\"text-align: right;\">\n",
       "      <th></th>\n",
       "      <th>fixed acidity</th>\n",
       "      <th>volatile acidity</th>\n",
       "      <th>citric acid</th>\n",
       "      <th>residual sugar</th>\n",
       "      <th>chlorides</th>\n",
       "      <th>free sulfur dioxide</th>\n",
       "      <th>total sulfur dioxide</th>\n",
       "      <th>density</th>\n",
       "      <th>pH</th>\n",
       "      <th>sulphates</th>\n",
       "      <th>alcohol</th>\n",
       "      <th>quality</th>\n",
       "    </tr>\n",
       "  </thead>\n",
       "  <tbody>\n",
       "    <tr>\n",
       "      <th>0</th>\n",
       "      <td>7.4</td>\n",
       "      <td>0.70</td>\n",
       "      <td>0.00</td>\n",
       "      <td>1.9</td>\n",
       "      <td>0.076</td>\n",
       "      <td>11.0</td>\n",
       "      <td>34.0</td>\n",
       "      <td>0.9978</td>\n",
       "      <td>3.51</td>\n",
       "      <td>0.56</td>\n",
       "      <td>9.4</td>\n",
       "      <td>5</td>\n",
       "    </tr>\n",
       "    <tr>\n",
       "      <th>1</th>\n",
       "      <td>7.8</td>\n",
       "      <td>0.88</td>\n",
       "      <td>0.00</td>\n",
       "      <td>2.6</td>\n",
       "      <td>0.098</td>\n",
       "      <td>25.0</td>\n",
       "      <td>67.0</td>\n",
       "      <td>0.9968</td>\n",
       "      <td>3.20</td>\n",
       "      <td>0.68</td>\n",
       "      <td>9.8</td>\n",
       "      <td>5</td>\n",
       "    </tr>\n",
       "    <tr>\n",
       "      <th>2</th>\n",
       "      <td>7.8</td>\n",
       "      <td>0.76</td>\n",
       "      <td>0.04</td>\n",
       "      <td>2.3</td>\n",
       "      <td>0.092</td>\n",
       "      <td>15.0</td>\n",
       "      <td>54.0</td>\n",
       "      <td>0.9970</td>\n",
       "      <td>3.26</td>\n",
       "      <td>0.65</td>\n",
       "      <td>9.8</td>\n",
       "      <td>5</td>\n",
       "    </tr>\n",
       "    <tr>\n",
       "      <th>3</th>\n",
       "      <td>11.2</td>\n",
       "      <td>0.28</td>\n",
       "      <td>0.56</td>\n",
       "      <td>1.9</td>\n",
       "      <td>0.075</td>\n",
       "      <td>17.0</td>\n",
       "      <td>60.0</td>\n",
       "      <td>0.9980</td>\n",
       "      <td>3.16</td>\n",
       "      <td>0.58</td>\n",
       "      <td>9.8</td>\n",
       "      <td>6</td>\n",
       "    </tr>\n",
       "    <tr>\n",
       "      <th>4</th>\n",
       "      <td>7.4</td>\n",
       "      <td>0.70</td>\n",
       "      <td>0.00</td>\n",
       "      <td>1.9</td>\n",
       "      <td>0.076</td>\n",
       "      <td>11.0</td>\n",
       "      <td>34.0</td>\n",
       "      <td>0.9978</td>\n",
       "      <td>3.51</td>\n",
       "      <td>0.56</td>\n",
       "      <td>9.4</td>\n",
       "      <td>5</td>\n",
       "    </tr>\n",
       "  </tbody>\n",
       "</table>\n",
       "</div>"
      ],
      "text/plain": [
       "   fixed acidity  volatile acidity  citric acid  residual sugar  chlorides  \\\n",
       "0            7.4              0.70         0.00             1.9      0.076   \n",
       "1            7.8              0.88         0.00             2.6      0.098   \n",
       "2            7.8              0.76         0.04             2.3      0.092   \n",
       "3           11.2              0.28         0.56             1.9      0.075   \n",
       "4            7.4              0.70         0.00             1.9      0.076   \n",
       "\n",
       "   free sulfur dioxide  total sulfur dioxide  density    pH  sulphates  \\\n",
       "0                 11.0                  34.0   0.9978  3.51       0.56   \n",
       "1                 25.0                  67.0   0.9968  3.20       0.68   \n",
       "2                 15.0                  54.0   0.9970  3.26       0.65   \n",
       "3                 17.0                  60.0   0.9980  3.16       0.58   \n",
       "4                 11.0                  34.0   0.9978  3.51       0.56   \n",
       "\n",
       "   alcohol  quality  \n",
       "0      9.4        5  \n",
       "1      9.8        5  \n",
       "2      9.8        5  \n",
       "3      9.8        6  \n",
       "4      9.4        5  "
      ]
     },
     "execution_count": 15,
     "metadata": {},
     "output_type": "execute_result"
    }
   ],
   "source": [
    "df = pd.read_csv('winequality-red.csv', sep=';')\n",
    "df.head()"
   ]
  },
  {
   "cell_type": "code",
   "execution_count": 16,
   "metadata": {},
   "outputs": [
    {
     "name": "stdout",
     "output_type": "stream",
     "text": [
      "<class 'pandas.core.frame.DataFrame'>\n",
      "RangeIndex: 1599 entries, 0 to 1598\n",
      "Data columns (total 12 columns):\n",
      " #   Column                Non-Null Count  Dtype  \n",
      "---  ------                --------------  -----  \n",
      " 0   fixed acidity         1599 non-null   float64\n",
      " 1   volatile acidity      1599 non-null   float64\n",
      " 2   citric acid           1599 non-null   float64\n",
      " 3   residual sugar        1599 non-null   float64\n",
      " 4   chlorides             1599 non-null   float64\n",
      " 5   free sulfur dioxide   1599 non-null   float64\n",
      " 6   total sulfur dioxide  1599 non-null   float64\n",
      " 7   density               1599 non-null   float64\n",
      " 8   pH                    1599 non-null   float64\n",
      " 9   sulphates             1599 non-null   float64\n",
      " 10  alcohol               1599 non-null   float64\n",
      " 11  quality               1599 non-null   int64  \n",
      "dtypes: float64(11), int64(1)\n",
      "memory usage: 150.0 KB\n"
     ]
    }
   ],
   "source": [
    "df.info()"
   ]
  },
  {
   "cell_type": "code",
   "execution_count": 17,
   "metadata": {},
   "outputs": [],
   "source": [
    "features = df.drop(['quality'], axis=1)\n",
    "target = df['quality']"
   ]
  },
  {
   "cell_type": "code",
   "execution_count": 18,
   "metadata": {},
   "outputs": [],
   "source": [
    "features_train, features_test, target_train, target_test = train_test_split(features, target, test_size=0.25, random_state=42)"
   ]
  },
  {
   "cell_type": "markdown",
   "metadata": {},
   "source": [
    "Выберем лучшее дерево"
   ]
  },
  {
   "cell_type": "code",
   "execution_count": 19,
   "metadata": {},
   "outputs": [
    {
     "data": {
      "image/png": "[encoded data removed]",
      "text/plain": [
       "<Figure size 640x480 with 1 Axes>"
      ]
     },
     "metadata": {},
     "output_type": "display_data"
    }
   ],
   "source": [
    "res = []\n",
    "for param in range(1, 30, 1):\n",
    "    model = DecisionTreeRegressor(min_samples_leaf=param, random_state=7)\n",
    "\n",
    "    model.fit(features_train, target_train)\n",
    "    pred_train = model.predict(features_train)\n",
    "    pred_test = model.predict(features_test)\n",
    "\n",
    "    res.append([param, mean_absolute_error(pred_train, target_train), mean_absolute_error(pred_test, target_test)])\n",
    "    \n",
    "res_pd = pd.DataFrame(res, columns=['min_samples_leaf', 'mae_train', 'mae_test'])\n",
    "\n",
    "res_pd.set_index('min_samples_leaf')['mae_train'].plot(label='mae_train')\n",
    "res_pd.set_index('min_samples_leaf')['mae_test'].plot(label='mae_test')\n",
    "plt.legend()\n",
    "plt.ylabel('MAE');"
   ]
  },
  {
   "cell_type": "code",
   "execution_count": 20,
   "metadata": {},
   "outputs": [
    {
     "data": {
      "text/html": [
       "<div>\n",
       "<style scoped>\n",
       "    .dataframe tbody tr th:only-of-type {\n",
       "        vertical-align: middle;\n",
       "    }\n",
       "\n",
       "    .dataframe tbody tr th {\n",
       "        vertical-align: top;\n",
       "    }\n",
       "\n",
       "    .dataframe thead th {\n",
       "        text-align: right;\n",
       "    }\n",
       "</style>\n",
       "<table border=\"1\" class=\"dataframe\">\n",
       "  <thead>\n",
       "    <tr style=\"text-align: right;\">\n",
       "      <th></th>\n",
       "      <th>min_samples_leaf</th>\n",
       "      <th>mae_train</th>\n",
       "      <th>mae_test</th>\n",
       "    </tr>\n",
       "  </thead>\n",
       "  <tbody>\n",
       "    <tr>\n",
       "      <th>1</th>\n",
       "      <td>2</td>\n",
       "      <td>0.105088</td>\n",
       "      <td>0.462917</td>\n",
       "    </tr>\n",
       "  </tbody>\n",
       "</table>\n",
       "</div>"
      ],
      "text/plain": [
       "   min_samples_leaf  mae_train  mae_test\n",
       "1                 2   0.105088  0.462917"
      ]
     },
     "execution_count": 20,
     "metadata": {},
     "output_type": "execute_result"
    }
   ],
   "source": [
    "res_pd[res_pd['mae_test'] == res_pd['mae_test'].min()]"
   ]
  },
  {
   "cell_type": "markdown",
   "metadata": {},
   "source": [
    "Увеличим число деревьев"
   ]
  },
  {
   "cell_type": "code",
   "execution_count": 21,
   "metadata": {},
   "outputs": [
    {
     "name": "stdout",
     "output_type": "stream",
     "text": [
      "Ошибка на обучающей выборке: 0.23516025259144524\n",
      "Ошибка на валидационной выборке: 0.4569750000000001\n"
     ]
    }
   ],
   "source": [
    "model = RandomForestRegressor(n_estimators=5, min_samples_leaf=2, random_state=7)\n",
    "\n",
    "model.fit(features_train, target_train)\n",
    "pred_train = model.predict(features_train)\n",
    "pred_test = model.predict(features_test)\n",
    "\n",
    "print(f'Ошибка на обучающей выборке: {mean_absolute_error(pred_train, target_train)}')\n",
    "print(f'Ошибка на валидационной выборке: {mean_absolute_error(pred_test, target_test)}')"
   ]
  },
  {
   "cell_type": "markdown",
   "metadata": {},
   "source": [
    "Попробуем обучить много деревьев"
   ]
  },
  {
   "cell_type": "code",
   "execution_count": 22,
   "metadata": {},
   "outputs": [
    {
     "data": {
      "image/png": "[encoded data removed]",
      "text/plain": [
       "<Figure size 640x480 with 1 Axes>"
      ]
     },
     "metadata": {},
     "output_type": "display_data"
    }
   ],
   "source": [
    "res = []\n",
    "for n_tree in range(1, 40):\n",
    "    model = RandomForestRegressor(n_estimators=n_tree, min_samples_leaf=2, random_state=7)\n",
    "\n",
    "    model.fit(features_train, target_train)\n",
    "    pred_train = model.predict(features_train)\n",
    "    pred_test = model.predict(features_test)\n",
    "\n",
    "    res.append([n_tree, mean_absolute_error(pred_train, target_train), mean_absolute_error(pred_test, target_test)])\n",
    "\n",
    "res_pd = pd.DataFrame(res, columns=['n_tree', 'mae_train', 'mae_test'])\n",
    "\n",
    "res_pd.set_index('n_tree')['mae_train'].plot(label='mae_train')\n",
    "res_pd.set_index('n_tree')['mae_test'].plot(label='mae_test')\n",
    "plt.legend()\n",
    "plt.ylabel('MAE');"
   ]
  },
  {
   "cell_type": "code",
   "execution_count": 23,
   "metadata": {},
   "outputs": [
    {
     "data": {
      "text/html": [
       "<div>\n",
       "<style scoped>\n",
       "    .dataframe tbody tr th:only-of-type {\n",
       "        vertical-align: middle;\n",
       "    }\n",
       "\n",
       "    .dataframe tbody tr th {\n",
       "        vertical-align: top;\n",
       "    }\n",
       "\n",
       "    .dataframe thead th {\n",
       "        text-align: right;\n",
       "    }\n",
       "</style>\n",
       "<table border=\"1\" class=\"dataframe\">\n",
       "  <thead>\n",
       "    <tr style=\"text-align: right;\">\n",
       "      <th></th>\n",
       "      <th>n_tree</th>\n",
       "      <th>mae_train</th>\n",
       "      <th>mae_test</th>\n",
       "    </tr>\n",
       "  </thead>\n",
       "  <tbody>\n",
       "    <tr>\n",
       "      <th>14</th>\n",
       "      <td>15</td>\n",
       "      <td>0.212802</td>\n",
       "      <td>0.431253</td>\n",
       "    </tr>\n",
       "  </tbody>\n",
       "</table>\n",
       "</div>"
      ],
      "text/plain": [
       "    n_tree  mae_train  mae_test\n",
       "14      15   0.212802  0.431253"
      ]
     },
     "execution_count": 23,
     "metadata": {},
     "output_type": "execute_result"
    }
   ],
   "source": [
    "res_pd[res_pd['mae_test'] == res_pd['mae_test'].min()]"
   ]
  },
  {
   "cell_type": "markdown",
   "metadata": {},
   "source": [
    "### Градиентный бустинг"
   ]
  },
  {
   "cell_type": "code",
   "execution_count": 24,
   "metadata": {},
   "outputs": [],
   "source": [
    "from xgboost import XGBRegressor"
   ]
  },
  {
   "cell_type": "code",
   "execution_count": 25,
   "metadata": {},
   "outputs": [],
   "source": [
    "features_train_xgb, features_val, target_train_xgb, target_val = train_test_split(features_train, target_train, test_size=0.15, random_state=42)"
   ]
  },
  {
   "cell_type": "markdown",
   "metadata": {},
   "source": [
    "Что будет, если захотеть сэкономить на времени обучения и пойти к решению очень большими шагами."
   ]
  },
  {
   "cell_type": "code",
   "execution_count": 31,
   "metadata": {},
   "outputs": [
    {
     "name": "stdout",
     "output_type": "stream",
     "text": [
      "[0]\tvalidation_0-rmse:20.57478\tvalidation_1-rmse:20.64659\n",
      "[1]\tvalidation_0-rmse:81.83982\tvalidation_1-rmse:81.42912\n",
      "[2]\tvalidation_0-rmse:325.76412\tvalidation_1-rmse:324.80495\n",
      "[3]\tvalidation_0-rmse:1296.78205\tvalidation_1-rmse:1292.16228\n",
      "[4]\tvalidation_0-rmse:5162.23177\tvalidation_1-rmse:5144.12500\n",
      "[5]\tvalidation_0-rmse:20550.07844\tvalidation_1-rmse:20475.68156\n",
      "[6]\tvalidation_0-rmse:81807.81636\tvalidation_1-rmse:81505.96295\n",
      "[7]\tvalidation_0-rmse:325956.63983\tvalidation_1-rmse:323668.64631\n",
      "[8]\tvalidation_0-rmse:1298939.66398\tvalidation_1-rmse:1290904.91114\n",
      "[9]\tvalidation_0-rmse:5176334.34431\tvalidation_1-rmse:5143382.76438\n",
      "Ошибка MAE на обучающей выборке: 5149651.211144785\n",
      "Ошибка MAE на валидационной выборке: 5112360.867062989\n"
     ]
    },
    {
     "data": {
      "image/png": "[encoded data removed]",
      "text/plain": [
       "<Figure size 640x480 with 1 Axes>"
      ]
     },
     "metadata": {},
     "output_type": "display_data"
    }
   ],
   "source": [
    "model = XGBRegressor(n_estimators=10, max_depth=3, learning_rate=5)\n",
    "\n",
    "model.fit(features_train_xgb, target_train_xgb, eval_set=[(features_train_xgb, target_train_xgb), (features_val, target_val)])\n",
    "pred_train = model.predict(features_train)\n",
    "pred_test = model.predict(features_test)\n",
    "\n",
    "print(f'Ошибка MAE на обучающей выборке: {mean_absolute_error(pred_train, target_train)}')\n",
    "print(f'Ошибка MAE на валидационной выборке: {mean_absolute_error(pred_test, target_test)}')\n",
    "\n",
    "epochs = len(model.evals_result()['validation_0']['rmse'])\n",
    "x_axis = range(0, epochs)\n",
    "\n",
    "fig, ax = plt.subplots()\n",
    "\n",
    "ax.plot(x_axis, model.evals_result()['validation_0']['rmse'], label='Train')\n",
    "ax.plot(x_axis, model.evals_result()['validation_1']['rmse'], label='Val')\n",
    "\n",
    "plt.title('XGBoost RMSE')\n",
    "plt.xlabel(\"Boosting Iterations\")\n",
    "plt.ylabel(\"RMSE Deviance\")\n",
    "plt.legend(loc=\"upper right\");"
   ]
  },
  {
   "cell_type": "markdown",
   "metadata": {},
   "source": [
    "Что будет, если обучать сложные модели на каждом шаге."
   ]
  },
  {
   "cell_type": "code",
   "execution_count": 27,
   "metadata": {},
   "outputs": [
    {
     "name": "stdout",
     "output_type": "stream",
     "text": [
      "[0]\tvalidation_0-rmse:1.24813\tvalidation_1-rmse:1.18308\n",
      "[1]\tvalidation_0-rmse:0.52983\tvalidation_1-rmse:0.74586\n",
      "[2]\tvalidation_0-rmse:0.33364\tvalidation_1-rmse:0.74794\n",
      "[3]\tvalidation_0-rmse:0.24635\tvalidation_1-rmse:0.73200\n",
      "[4]\tvalidation_0-rmse:0.14453\tvalidation_1-rmse:0.75059\n",
      "[5]\tvalidation_0-rmse:0.08869\tvalidation_1-rmse:0.75251\n",
      "[6]\tvalidation_0-rmse:0.06622\tvalidation_1-rmse:0.75066\n",
      "[7]\tvalidation_0-rmse:0.04392\tvalidation_1-rmse:0.74951\n",
      "[8]\tvalidation_0-rmse:0.03765\tvalidation_1-rmse:0.74931\n",
      "[9]\tvalidation_0-rmse:0.02630\tvalidation_1-rmse:0.74875\n",
      "Ошибка MAE на обучающей выборке: 0.09079155353231168\n",
      "Ошибка MAE на валидационной выборке: 0.512233680486679\n"
     ]
    },
    {
     "data": {
      "image/png": "[encoded data removed]",
      "text/plain": [
       "<Figure size 640x480 with 1 Axes>"
      ]
     },
     "metadata": {},
     "output_type": "display_data"
    }
   ],
   "source": [
    "model = XGBRegressor(n_estimators=10, max_depth=10, learning_rate=0.8)\n",
    "\n",
    "model.fit(features_train_xgb, target_train_xgb, eval_set= [(features_train_xgb, target_train_xgb), (features_val, target_val)])\n",
    "pred_train = model.predict(features_train)\n",
    "pred_test = model.predict(features_test)\n",
    "\n",
    "print(f'Ошибка MAE на обучающей выборке: {mean_absolute_error(pred_train, target_train)}')\n",
    "print(f'Ошибка MAE на валидационной выборке: {mean_absolute_error(pred_test, target_test)}')\n",
    "\n",
    "epochs = len(model.evals_result()['validation_0']['rmse'])\n",
    "x_axis = range(0, epochs)\n",
    "\n",
    "fig, ax = plt.subplots()\n",
    "\n",
    "ax.plot(x_axis, model.evals_result()['validation_0']['rmse'], label='Train')\n",
    "ax.plot(x_axis, model.evals_result()['validation_1']['rmse'], label='Val')\n",
    "\n",
    "plt.title('XGBoost RMSE')\n",
    "plt.xlabel(\"Boosting Iterations\")\n",
    "plt.ylabel(\"RMSE Deviance\")\n",
    "plt.legend(loc=\"upper right\");"
   ]
  },
  {
   "cell_type": "markdown",
   "metadata": {},
   "source": [
    "Чтобы избежать переобучения, попробуем взять поменьше шаг, и обучать несложные модели"
   ]
  },
  {
   "cell_type": "code",
   "execution_count": 28,
   "metadata": {},
   "outputs": [
    {
     "name": "stdout",
     "output_type": "stream",
     "text": [
      "[0]\tvalidation_0-rmse:4.75197\tvalidation_1-rmse:4.62341\n",
      "[1]\tvalidation_0-rmse:4.33501\tvalidation_1-rmse:4.20966\n",
      "[2]\tvalidation_0-rmse:3.95623\tvalidation_1-rmse:3.83357\n",
      "[3]\tvalidation_0-rmse:3.61162\tvalidation_1-rmse:3.49141\n",
      "[4]\tvalidation_0-rmse:3.29872\tvalidation_1-rmse:3.18208\n",
      "[5]\tvalidation_0-rmse:3.01433\tvalidation_1-rmse:2.90123\n",
      "[6]\tvalidation_0-rmse:2.75648\tvalidation_1-rmse:2.64737\n",
      "[7]\tvalidation_0-rmse:2.52248\tvalidation_1-rmse:2.41652\n",
      "[8]\tvalidation_0-rmse:2.31049\tvalidation_1-rmse:2.20905\n",
      "[9]\tvalidation_0-rmse:2.11827\tvalidation_1-rmse:2.02128\n",
      "[10]\tvalidation_0-rmse:1.94427\tvalidation_1-rmse:1.85131\n",
      "[11]\tvalidation_0-rmse:1.78667\tvalidation_1-rmse:1.69852\n",
      "[12]\tvalidation_0-rmse:1.64424\tvalidation_1-rmse:1.56316\n",
      "[13]\tvalidation_0-rmse:1.51575\tvalidation_1-rmse:1.44212\n",
      "[14]\tvalidation_0-rmse:1.39998\tvalidation_1-rmse:1.33392\n",
      "[15]\tvalidation_0-rmse:1.29513\tvalidation_1-rmse:1.23819\n",
      "[16]\tvalidation_0-rmse:1.20128\tvalidation_1-rmse:1.15563\n",
      "[17]\tvalidation_0-rmse:1.11726\tvalidation_1-rmse:1.08174\n",
      "[18]\tvalidation_0-rmse:1.04161\tvalidation_1-rmse:1.01637\n",
      "[19]\tvalidation_0-rmse:0.97401\tvalidation_1-rmse:0.95998\n",
      "[20]\tvalidation_0-rmse:0.91422\tvalidation_1-rmse:0.91089\n",
      "[21]\tvalidation_0-rmse:0.86150\tvalidation_1-rmse:0.86782\n",
      "[22]\tvalidation_0-rmse:0.81420\tvalidation_1-rmse:0.82984\n",
      "[23]\tvalidation_0-rmse:0.77306\tvalidation_1-rmse:0.80019\n",
      "[35]\tvalidation_0-rmse:0.52923\tvalidation_1-rmse:0.68378\n",
      "[36]\tvalidation_0-rmse:0.52123\tvalidation_1-rmse:0.68384\n",
      "[37]\tvalidation_0-rmse:0.51355\tvalidation_1-rmse:0.68423\n",
      "[38]\tvalidation_0-rmse:0.50657\tvalidation_1-rmse:0.68374\n",
      "[39]\tvalidation_0-rmse:0.50147\tvalidation_1-rmse:0.68298\n",
      "[40]\tvalidation_0-rmse:0.49711\tvalidation_1-rmse:0.68323\n",
      "[41]\tvalidation_0-rmse:0.49159\tvalidation_1-rmse:0.68305\n",
      "[42]\tvalidation_0-rmse:0.48843\tvalidation_1-rmse:0.68398\n",
      "[43]\tvalidation_0-rmse:0.48519\tvalidation_1-rmse:0.68504\n",
      "[44]\tvalidation_0-rmse:0.48313\tvalidation_1-rmse:0.68554\n",
      "[45]\tvalidation_0-rmse:0.48041\tvalidation_1-rmse:0.68571\n",
      "[46]\tvalidation_0-rmse:0.47762\tvalidation_1-rmse:0.68581\n",
      "[47]\tvalidation_0-rmse:0.47498\tvalidation_1-rmse:0.68625\n",
      "[48]\tvalidation_0-rmse:0.47263\tvalidation_1-rmse:0.68623\n",
      "[49]\tvalidation_0-rmse:0.46999\tvalidation_1-rmse:0.68631\n",
      "Ошибка на обучающей выборке: 0.381190276523746\n",
      "Ошибка на валидационной выборке: 0.4699037605524063\n"
     ]
    },
    {
     "data": {
      "image/png": "[encoded data removed]",
      "text/plain": [
       "<Figure size 640x480 with 1 Axes>"
      ]
     },
     "metadata": {},
     "output_type": "display_data"
    }
   ],
   "source": [
    "model = XGBRegressor(n_estimators=50, max_depth=4, learning_rate=0.09)\n",
    "\n",
    "model.fit(features_train_xgb, target_train_xgb, eval_set= [(features_train_xgb, target_train_xgb), (features_val, target_val)])\n",
    "pred_train = model.predict(features_train)\n",
    "pred_test = model.predict(features_test)\n",
    "\n",
    "print(f'Ошибка на обучающей выборке: {mean_absolute_error(pred_train, target_train)}')\n",
    "print(f'Ошибка на валидационной выборке: {mean_absolute_error(pred_test, target_test)}')\n",
    "\n",
    "epochs = len(model.evals_result()['validation_0']['rmse'])\n",
    "x_axis = range(0, epochs)\n",
    "\n",
    "fig, ax = plt.subplots()\n",
    "\n",
    "ax.plot(x_axis, model.evals_result()['validation_0']['rmse'], label='Train')\n",
    "ax.plot(x_axis, model.evals_result()['validation_1']['rmse'], label='Val')\n",
    "\n",
    "plt.title('XGBoost RMSE')\n",
    "plt.xlabel(\"Boosting Iterations\")\n",
    "plt.ylabel(\"RMSE Deviance\")\n",
    "plt.legend(loc=\"upper right\");"
   ]
  }
 ],
 "metadata": {
  "kernelspec": {
   "display_name": "env_o3_l2r_pipelines",
   "language": "python",
   "name": "env_o3_l2r_pipelines"
  },
  "language_info": {
   "codemirror_mode": {
    "name": "ipython",
    "version": 3
   },
   "file_extension": ".py",
   "mimetype": "text/x-python",
   "name": "python",
   "nbconvert_exporter": "python",
   "pygments_lexer": "ipython3",
   "version": "3.8.12"
  },
  "toc": {
   "base_numbering": 1,
   "nav_menu": {},
   "number_sections": false,
   "sideBar": false,
   "skip_h1_title": false,
   "title_cell": "Table of Contents",
   "title_sidebar": "Contents",
   "toc_cell": false,
   "toc_position": {},
   "toc_section_display": false,
   "toc_window_display": false
  }
 },
 "nbformat": 4,
 "nbformat_minor": 4
}
