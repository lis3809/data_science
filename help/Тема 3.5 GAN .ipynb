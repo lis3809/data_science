{
  "nbformat": 4,
  "nbformat_minor": 0,
  "metadata": {
    "colab": {
      "provenance": [],
      "gpuType": "T4"
    },
    "kernelspec": {
      "name": "python3",
      "display_name": "Python 3"
    },
    "language_info": {
      "name": "python"
    },
    "accelerator": "GPU"
  },
  "cells": [
    {
      "cell_type": "markdown",
      "source": [
        "## Настройки и импорты"
      ],
      "metadata": {
        "id": "rjzuzC3RSPer"
      }
    },
    {
      "cell_type": "code",
      "execution_count": null,
      "metadata": {
        "id": "exPih_0lQpJ2"
      },
      "outputs": [],
      "source": [
        "# Базовые библиотеки и модули\n",
        "import os                       # Работа с операционной системой\n",
        "import numpy as np              # Работа с массивами\n",
        "from scipy.linalg import sqrtm\n",
        "import matplotlib.pyplot as plt # Визуализация графиков\n",
        "import warnings                 # Управление предупреждениями\n",
        "from tqdm.notebook import tqdm  # Прогресс-бар для ноутбуков\n",
        "import glob                     # Работа с путями файлов\n",
        "import cv2                      # Работа с видео\n",
        "\n",
        "# Keras\n",
        "import tensorflow as tf       # Импорт TensorFlow\n",
        "from tensorflow import keras  # Импорт Keras\n",
        "\n",
        "\n",
        "# Функции для загрузки и преобразования изображений\n",
        "from tensorflow.keras.preprocessing.image import load_img, array_to_img\n",
        "from tensorflow.keras.models import Sequential, Model   # Модели\n",
        "from tensorflow.keras import layers                     # Слои для моделей\n",
        "from tensorflow.keras.optimizers import Adam            # Оптимизатор Adam\n",
        "from tensorflow.keras.losses import BinaryCrossentropy  # Функция потерь Binary Cross Entropy\n",
        "from tensorflow.keras.models import load_model\n",
        "from tensorflow.keras.applications.inception_v3 import InceptionV3, preprocess_input\n",
        "\n",
        "\n",
        "# Отключение вывода предупреждений\n",
        "warnings.filterwarnings('ignore')\n",
        "tf.get_logger().setLevel('ERROR')\n",
        "\n",
        "# Подключение Google Drive\n",
        "from google.colab import drive\n",
        "drive.mount('/content/drive/')\n",
        "\n",
        "# Вывод списка доступных устройств\n",
        "from tensorflow.python.client import device_lib\n",
        "print(device_lib.list_local_devices())\n"
      ]
    },
    {
      "cell_type": "markdown",
      "source": [
        "## Загрузка данных"
      ],
      "metadata": {
        "id": "4AsoA8LsSK91"
      }
    },
    {
      "cell_type": "markdown",
      "source": [
        "Датасет взять с https://www.kaggle.com/datasets/soumikrakshit/anime-faces"
      ],
      "metadata": {
        "id": "u_XBwSGY52zj"
      }
    },
    {
      "cell_type": "code",
      "source": [
        "!cp /content/drive/MyDrive/Презентации/archive.zip /content/arhive.zip"
      ],
      "metadata": {
        "id": "_iuBzBASRvin"
      },
      "execution_count": 2,
      "outputs": []
    },
    {
      "cell_type": "code",
      "source": [
        "!unzip /content/arhive.zip"
      ],
      "metadata": {
        "id": "VtmHBqaISGwr"
      },
      "execution_count": null,
      "outputs": []
    },
    {
      "cell_type": "code",
      "source": [
        "# Установка базового каталога с изображениями\n",
        "BASE_DIR = '/content/data/'"
      ],
      "metadata": {
        "id": "l404RihKSYEe"
      },
      "execution_count": 2,
      "outputs": []
    },
    {
      "cell_type": "code",
      "source": [
        "# Получение всех путей к изображениям с расширением .png в каталоге\n",
        "image_paths = glob.glob(BASE_DIR+'*.png')\n",
        "print(image_paths[:3]) # Вывод первых трех путей к изображениям\n",
        "print(\"Count images:\", len(image_paths)) # Вывод количества изображений"
      ],
      "metadata": {
        "colab": {
          "base_uri": "https://localhost:8080/"
        },
        "id": "At1BEITZSqBi",
        "outputId": "e30343f9-b0bf-49c3-90e1-867f33eea511"
      },
      "execution_count": 3,
      "outputs": [
        {
          "output_type": "stream",
          "name": "stdout",
          "text": [
            "['/content/data/16284.png', '/content/data/14307.png', '/content/data/19463.png']\n",
            "Count images: 21551\n"
          ]
        }
      ]
    },
    {
      "cell_type": "code",
      "source": [
        "# Функция для отображения изображений в сетке\n",
        "def display_images_grid(image_paths, grid_size=7):\n",
        "    plt.figure(figsize=(5, 5))\n",
        "    temp_images = image_paths[:grid_size * grid_size] # Ограничение количества изображений\n",
        "    for index, image_path in enumerate(temp_images, start=1):\n",
        "        plt.subplot(grid_size, grid_size, index) # Создание подграфика\n",
        "        img = np.array(load_img(image_path)) # Загрузка изображения\n",
        "        plt.imshow(img) # Отображение изображения\n",
        "        plt.axis('off') # Отключение осей"
      ],
      "metadata": {
        "id": "jnwPRDqmWyOe"
      },
      "execution_count": 5,
      "outputs": []
    },
    {
      "cell_type": "code",
      "source": [
        "display_images_grid(image_paths) # Вызов функции для отображения изображений"
      ],
      "metadata": {
        "id": "SFHYqxROSrNA"
      },
      "execution_count": null,
      "outputs": []
    },
    {
      "cell_type": "markdown",
      "source": [
        "## Предобработка данных"
      ],
      "metadata": {
        "id": "4Wd5j1TeTRco"
      }
    },
    {
      "cell_type": "code",
      "source": [
        "# Функция для чтения и предварительной обработки изображений\n",
        "def read_and_preprocess_images(image_paths):\n",
        "    train_images = [np.array(load_img(path)) for path in tqdm(image_paths)] # Загрузка изображений\n",
        "    train_images = np.array(train_images) # Преобразование в массив numpy\n",
        "    train_images = train_images.astype('float32') # Изменение типа данных изображений\n",
        "    train_images = (train_images - 127.5) / 127.5 # Нормализация изображений в диапазон [-1, 1]\n",
        "    return train_images"
      ],
      "metadata": {
        "id": "eXMgHpRQTWk-"
      },
      "execution_count": 19,
      "outputs": []
    },
    {
      "cell_type": "code",
      "source": [
        "# Загрузка и обработка изображений\n",
        "train_images = read_and_preprocess_images(image_paths)\n",
        "print(train_images.shape) # Вывод размерности массива с изображениями"
      ],
      "metadata": {
        "id": "1vxz7-mATWue"
      },
      "execution_count": null,
      "outputs": []
    },
    {
      "cell_type": "markdown",
      "source": [
        "## Описание архитектуры"
      ],
      "metadata": {
        "id": "AZyIjBCdTol1"
      }
    },
    {
      "cell_type": "code",
      "source": [
        "# Размерность для случайного шума\n",
        "LATENT_DIM = 100\n",
        "# Инициализатор весов\n",
        "WEIGHT_INIT = keras.initializers.RandomNormal(mean=0.0, stddev=0.02)\n",
        "\n",
        "# Количество каналов изображения (3 для RGB, 1 для оттенков серого)\n",
        "CHANNELS = 3"
      ],
      "metadata": {
        "id": "MuujL7m6_HHH"
      },
      "execution_count": 21,
      "outputs": []
    },
    {
      "cell_type": "markdown",
      "source": [
        "### Генератор\n",
        "\n",
        "Генератор использует слои обратной свёртки для создания изображений из случайного шума."
      ],
      "metadata": {
        "id": "Nl_YB1iP__LO"
      }
    },
    {
      "cell_type": "code",
      "source": [
        "# Создание модели генератора\n",
        "model = Sequential(name='generator')\n",
        "\n",
        "# 1d случайный шум\n",
        "model.add(layers.Dense(8 * 8 * 512, input_dim=LATENT_DIM))\n",
        "model.add(layers.ReLU())\n",
        "\n",
        "# Преобразование из 1d в 3d\n",
        "model.add(layers.Reshape((8, 8, 512)))\n",
        "\n",
        "# Увеличение размера до 16x16\n",
        "model.add(layers.Conv2DTranspose(256, (4, 4), strides=(2, 2), padding='same', kernel_initializer=WEIGHT_INIT))\n",
        "model.add(layers.ReLU())\n",
        "\n",
        "# Увеличение размера до 32x32\n",
        "model.add(layers.Conv2DTranspose(128, (4, 4), strides=(2, 2), padding='same', kernel_initializer=WEIGHT_INIT))\n",
        "model.add(layers.ReLU())\n",
        "\n",
        "# Увеличение размера до 64x64\n",
        "model.add(layers.Conv2DTranspose(64, (4, 4), strides=(2, 2), padding='same', kernel_initializer=WEIGHT_INIT))\n",
        "model.add(layers.BatchNormalization())\n",
        "model.add(layers.ReLU())\n",
        "\n",
        "# Заключительный сверточный слой\n",
        "model.add(layers.Conv2D(CHANNELS, (4, 4), padding='same', activation='tanh'))\n",
        "\n",
        "# Модель генератора\n",
        "generator = model\n",
        "generator.summary()"
      ],
      "metadata": {
        "id": "X0_0nm1d_Hbi"
      },
      "execution_count": null,
      "outputs": []
    },
    {
      "cell_type": "markdown",
      "source": [
        "### Дискриминатор\n",
        "Дискриминатор – это сверточная нейронная сеть, которая классифицирует изображения как настоящие или сгенерированные."
      ],
      "metadata": {
        "id": "vDxVLXcYABdd"
      }
    },
    {
      "cell_type": "code",
      "source": [
        "# Создание модели дискриминатора\n",
        "model = Sequential(name='discriminator')\n",
        "input_shape = (64, 64, 3) # Размер входного изображения\n",
        "alpha = 0.2 # Параметр утечки для функции активации LeakyReLU\n",
        "\n",
        "# Создание сверточных слоев\n",
        "model.add(layers.Conv2D(64, (4, 4), strides=(2, 2), padding='same', input_shape=input_shape)) # Сверточный слой с 64 фильтрами\n",
        "model.add(layers.BatchNormalization()) # Нормализация по батчу\n",
        "model.add(layers.LeakyReLU(alpha=alpha)) # Функция активации LeakyReLU\n",
        "\n",
        "model.add(layers.Conv2D(128, (4, 4), strides=(2, 2), padding='same', input_shape=input_shape)) # Сверточный слой с 128 фильтрами\n",
        "model.add(layers.BatchNormalization()) # Нормализация по батчу\n",
        "model.add(layers.LeakyReLU(alpha=alpha)) # Функция активации LeakyReLU\n",
        "\n",
        "model.add(layers.Conv2D(128, (4, 4), strides=(2, 2), padding='same', input_shape=input_shape)) # Сверточный слой с 128 фильтрами\n",
        "model.add(layers.BatchNormalization()) # Нормализация по батчу\n",
        "model.add(layers.LeakyReLU(alpha=alpha)) # Функция активации LeakyReLU\n",
        "\n",
        "# Выравнивание и регуляризация\n",
        "model.add(layers.Flatten()) # Выравнивание данных в одномерный вектор\n",
        "model.add(layers.Dropout(0.3)) # Слой регуляризации для предотвращения переобучения\n",
        "\n",
        "# Выходной слой для классификации\n",
        "model.add(layers.Dense(1, activation='sigmoid')) # Выходной слой с сигмоидной активацией для бинарной классификации\n",
        "\n",
        "# Модель дискриминатора\n",
        "discriminator = model\n",
        "discriminator.summary() # Вывод структуры модели"
      ],
      "metadata": {
        "id": "d58SI0Ww_HeO"
      },
      "execution_count": null,
      "outputs": []
    },
    {
      "cell_type": "markdown",
      "source": [
        "### DCGAN\n",
        "\n",
        "В GAN тренировка дискриминатора и генератора происходит в отдельных шагах. Дискриминатор обучается на реальных и сгенерированных изображениях, в то время как генератор обучается, пытаясь обмануть дискриминатор."
      ],
      "metadata": {
        "id": "qW7QLw1DAHVX"
      }
    },
    {
      "cell_type": "markdown",
      "source": [
        "![image.png](data:image/png;base64,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)"
      ],
      "metadata": {
        "id": "jdcViyMjFtlr"
      }
    },
    {
      "cell_type": "code",
      "source": [
        "class DCGAN(keras.Model):\n",
        "    # Инициализация модели\n",
        "    def __init__(self, generator, discriminator, latent_dim):\n",
        "        super().__init__()\n",
        "        self.generator = generator # Генератор\n",
        "        self.discriminator = discriminator # Дискриминатор\n",
        "        self.latent_dim = latent_dim # Размерность латентного пространства\n",
        "        # Метрики потерь для обеих моделей\n",
        "        self.g_loss_metric = keras.metrics.Mean(name='g_loss')\n",
        "        self.d_loss_metric = keras.metrics.Mean(name='d_loss')\n",
        "\n",
        "    # Метод для получения метрик\n",
        "    @property\n",
        "    def metrics(self):\n",
        "        return [self.g_loss_metric, self.d_loss_metric]\n",
        "\n",
        "    # Компиляция модели\n",
        "    def compile(self, g_optimizer, d_optimizer, loss_fn):\n",
        "        super(DCGAN, self).compile()\n",
        "        self.g_optimizer = g_optimizer # Оптимизатор для генератора\n",
        "        self.d_optimizer = d_optimizer # Оптимизатор для дискриминатора\n",
        "        self.loss_fn = loss_fn # Функция потерь\n",
        "\n",
        "    # Обучение модели\n",
        "    def train_step(self, real_images):\n",
        "        # Получение размера батча из данных\n",
        "        batch_size = tf.shape(real_images)[0]\n",
        "        # Генерация случайного шума\n",
        "        random_noise = tf.random.normal(shape=(batch_size, self.latent_dim))\n",
        "\n",
        "        # Обучение дискриминатора на реальных (1) и сгенерированных (0) изображениях\n",
        "        with tf.GradientTape() as tape:\n",
        "            # Вычисление потерь на реальных изображениях\n",
        "            pred_real = self.discriminator(real_images, training=True)\n",
        "            # Генерация меток для реальных изображений\n",
        "            real_labels = tf.ones((batch_size, 1))\n",
        "            # Сглаживание меток\n",
        "            real_labels += 0.05 * tf.random.uniform(tf.shape(real_labels))\n",
        "            d_loss_real = self.loss_fn(real_labels, pred_real)\n",
        "\n",
        "            # Вычисление потерь на сгенерированных изображениях\n",
        "            fake_images = self.generator(random_noise)\n",
        "            pred_fake = self.discriminator(fake_images, training=True)\n",
        "            # Генерация меток для сгенерированных изображений\n",
        "            fake_labels = tf.zeros((batch_size, 1))\n",
        "            d_loss_fake = self.loss_fn(fake_labels, pred_fake)\n",
        "\n",
        "            # Общий уровень потерь дискриминатора\n",
        "            d_loss = (d_loss_real + d_loss_fake) / 2\n",
        "\n",
        "        # Вычисление градиентов для дискриминатора\n",
        "        gradients = tape.gradient(d_loss, self.discriminator.trainable_variables)\n",
        "        # Обновление градиентов\n",
        "        self.d_optimizer.apply_gradients(zip(gradients, self.discriminator.trainable_variables))\n",
        "\n",
        "\n",
        "        # Обучение модели генератора\n",
        "        labels = tf.ones((batch_size, 1))\n",
        "        # Генератор хочет, чтобы дискриминатор считал сгенерированные изображения реальными\n",
        "        with tf.GradientTape() as tape:\n",
        "            # Генерация сгенерированных изображений\n",
        "            fake_images = self.generator(random_noise, training=True)\n",
        "            # Классификация изображений как реальных или сгенерированных\n",
        "            pred_fake = self.discriminator(fake_images, training=True)\n",
        "            # Вычисление уровня потерь\n",
        "            g_loss = self.loss_fn(labels, pred_fake)\n",
        "\n",
        "        # Вычисление градиентов для генератора\n",
        "        gradients = tape.gradient(g_loss, self.generator.trainable_variables)\n",
        "        # Обновление градиентов\n",
        "        self.g_optimizer.apply_gradients(zip(gradients, self.generator.trainable_variables))\n",
        "\n",
        "        # Обновление состояния для обеих моделей\n",
        "        self.d_loss_metric.update_state(d_loss)\n",
        "        self.g_loss_metric.update_state(g_loss)\n",
        "\n",
        "        return {'d_loss': self.d_loss_metric.result(), 'g_loss': self.g_loss_metric.result()}\n"
      ],
      "metadata": {
        "id": "4Hjta9dw_Hgf"
      },
      "execution_count": 24,
      "outputs": []
    },
    {
      "cell_type": "code",
      "source": [
        "path_to_save_imgs = \"/content/gen_process\" # Путь по сохранению изображений\n",
        "os.makedirs(path_to_save_imgs, exist_ok=True) # Проверка существования директории и ее создание"
      ],
      "metadata": {
        "id": "X9w1tydGzS-s"
      },
      "execution_count": 25,
      "outputs": []
    },
    {
      "cell_type": "code",
      "source": [
        "# Функция предварительной обработки изображений в режиме обучения\n",
        "def preprocess(images, while_train = False):\n",
        "    if while_train == True:\n",
        "        images = (images - 127.5) / 127.5 # Нормализация изобzражений\n",
        "        images.numpy() # Преобразование изображений в numpy массив\n",
        "    else:\n",
        "        images = images.astype('float32') # Преобразование типа данных изображений\n",
        "        images = (images - 127.5) / 127.5 # Нормализация изображений\n",
        "    return images"
      ],
      "metadata": {
        "id": "ZdHDNaOVCjla"
      },
      "execution_count": 26,
      "outputs": []
    },
    {
      "cell_type": "code",
      "source": [
        "# Класс callback для отслеживания процесса обучения DCGAN\n",
        "class DCGANMonitor(keras.callbacks.Callback):\n",
        "    def __init__(self, num_imgs=25, latent_dim=100):\n",
        "        self.num_imgs = num_imgs # Количество изображений для генерации\n",
        "        self.latent_dim = latent_dim # Размерность латентного пространства\n",
        "        # Создание случайного шума для генерации изображений\n",
        "        self.noise = tf.random.normal([25, latent_dim])\n",
        "\n",
        "    def on_epoch_end(self, epoch, logs=None):\n",
        "        # Генерация изображения из шума\n",
        "        g_img = self.model.generator(self.noise)\n",
        "        # Денормализация изображения\n",
        "        g_img = preprocess(g_img, while_train = True)\n",
        "\n",
        "        fig = plt.figure(figsize=(8, 8))\n",
        "        for i in range(self.num_imgs):\n",
        "            plt.subplot(5, 5, i+1)\n",
        "            img = array_to_img(g_img[i])\n",
        "            plt.imshow(img)\n",
        "            plt.axis('off')\n",
        "        plt.savefig(path_to_save_imgs + '/epoch_{:03d}.png'.format(epoch))\n",
        "        plt.show()\n",
        "        self.model.generator.save('generator.h5') # Сохранение модели генератора\n",
        "        self.model.discriminator.save('discriminator.h5') # Сохранение модели дискриминатора\n",
        "\n",
        "    def on_train_end(self, logs=None):\n",
        "        self.model.generator.save('generator.h5') # Сохранение модели генератора после окончания обучения\n",
        "        self.model.discriminator.save('discriminator.h5') # Сохранение модели дискриминатора после окончания обучения"
      ],
      "metadata": {
        "id": "Nc0eKVNK_HjR"
      },
      "execution_count": 27,
      "outputs": []
    },
    {
      "cell_type": "code",
      "source": [
        "# Создание экземпляра DCGAN, передав генератор, дискриминатор и размерность  пространства шума\n",
        "dcgan = DCGAN(generator=generator, discriminator=discriminator, latent_dim=LATENT_DIM)"
      ],
      "metadata": {
        "id": "yEnCG09b_Hl_"
      },
      "execution_count": 28,
      "outputs": []
    },
    {
      "cell_type": "code",
      "source": [
        "# Определение скоростей обучения для генератора и дискриминатора\n",
        "D_LR = 0.0001\n",
        "G_LR = 0.0003\n",
        "\n",
        "# Компиляция модели с оптимизатором Adam и функцией потерь Binary Cross-Entropy\n",
        "dcgan.compile(g_optimizer=Adam(learning_rate=G_LR, beta_1=0.5), d_optimizer=Adam(learning_rate=D_LR, beta_1=0.5), loss_fn=BinaryCrossentropy())"
      ],
      "metadata": {
        "id": "mw9LG5mE_Hok"
      },
      "execution_count": 29,
      "outputs": []
    },
    {
      "cell_type": "code",
      "source": [
        "# Количество эпох для обучения\n",
        "N_EPOCHS = 100\n",
        "\n",
        "# Обучение модели на тренировачных изображениях\n",
        "dcgan.fit(train_images, epochs=N_EPOCHS, callbacks=[DCGANMonitor()])"
      ],
      "metadata": {
        "id": "dNlP9EWN_R2p"
      },
      "execution_count": null,
      "outputs": []
    },
    {
      "cell_type": "markdown",
      "source": [
        "## Тестирование"
      ],
      "metadata": {
        "id": "Gtr5aoaN4i07"
      }
    },
    {
      "cell_type": "markdown",
      "source": [
        "Значение FID (Fréchet Inception Distance)— это численная метрика, которая используется для оценки качества сгенерированных изображений по сравнению с реальными. Эта метрика оценивает различия в распределениях признаков между реальными и сгенерированными изображениями, вычисленными с использованием модели Inception.\n",
        "\n",
        "FID является обратной мерой схожести, так что более низкие значения указывают на более высокую схожесть между сгенерированными и реальными изображениями, в то время как более высокие значения указывают на большее различие."
      ],
      "metadata": {
        "id": "cFfz8wHn-wFz"
      }
    },
    {
      "cell_type": "code",
      "source": [
        "def calculate_fid(model, images1, images2):\n",
        "    # Рассчитывает FID (Frechet Inception Distance) между двумя массивами изображений\n",
        "    # Получение активаций модели для двух массивов изображений\n",
        "    act1 = model.predict(images1)\n",
        "    act2 = model.predict(images2)\n",
        "\n",
        "    # Вычисление средних и ковариационных матриц для активаций\n",
        "    mu1, sigma1 = act1.mean(axis=0), np.cov(act1, rowvar=False)\n",
        "    mu2, sigma2 = act2.mean(axis=0), np.cov(act2, rowvar=False)\n",
        "\n",
        "    # Вычисление суммы квадратов разностей между средними значениями\n",
        "    ssdiff = np.sum((mu1 - mu2)**2.0)\n",
        "\n",
        "    # Вычисление произведения квадратных корней из ковариационных матриц\n",
        "    covmean = sqrtm(sigma1.dot(sigma2))\n",
        "\n",
        "    # Если результат является комплексным числом, использовать только действительную часть\n",
        "    if np.iscomplexobj(covmean):\n",
        "        covmean = covmean.real\n",
        "\n",
        "    # Рассчитывание FID, используя вычисленные статистики\n",
        "    fid = ssdiff + np.trace(sigma1 + sigma2 - 2.0 * covmean)\n",
        "\n",
        "    return fid"
      ],
      "metadata": {
        "id": "uMVYvmXt4YeS"
      },
      "execution_count": 36,
      "outputs": []
    },
    {
      "cell_type": "code",
      "source": [
        "def test_gan(generator_path, z_dim, train_images, num_samples=1000):\n",
        "    # Загрузка модели генератора\n",
        "    generator = load_model(generator_path)\n",
        "\n",
        "    # Генерация шума и создание сгенерированных изображений\n",
        "    noise = tf.random.normal([num_samples, z_dim])\n",
        "    generated_images = generator(noise)\n",
        "    generated_images = (generated_images + 1) / 2.0  # Денормализация изображений\n",
        "\n",
        "    # Вывод сгенерированных изображений, например, первых 5\n",
        "    for i in range(5):\n",
        "        plt.figure(figsize=(5, 5))\n",
        "        plt.imshow(generated_images[i])\n",
        "        plt.axis('off')\n",
        "        plt.show()\n",
        "\n",
        "    # Загрузка модели InceptionV3 для вычисления FID\n",
        "    model = InceptionV3(include_top=False, pooling='avg', input_shape=(75, 75, 3))\n",
        "\n",
        "    # Изменение размера настоящих и сгенерированных изображений до (75, 75)\n",
        "    real_images_resized = tf.image.resize(train_images[:num_samples], (75, 75))\n",
        "    generated_images_resized = tf.image.resize(generated_images, (75, 75))\n",
        "\n",
        "    # Предварительная обработка изображений для модели InceptionV3\n",
        "    real_images_resized = preprocess_input(real_images_resized)\n",
        "    generated_images_resized = preprocess_input(generated_images_resized)\n",
        "\n",
        "    # Рассчет FID между настоящими и сгенерированными изображениями\n",
        "    fid_value = calculate_fid(model, real_images_resized, generated_images_resized)\n",
        "    print(f\"FID: {fid_value} на {num_samples} изображений\")"
      ],
      "metadata": {
        "id": "4FnmTDxs49wf"
      },
      "execution_count": 37,
      "outputs": []
    },
    {
      "cell_type": "code",
      "source": [
        "# Путь к сохраненной модели генератора\n",
        "generator_path = '/content/generator.h5'\n",
        "\n",
        "# Размер входного шума для генератора\n",
        "z_dim = 100\n",
        "img_shape = train_images.shape[1:]\n",
        "test_gan(generator_path, z_dim, train_images, num_samples=100)"
      ],
      "metadata": {
        "id": "wa9SpcRD5Xu2"
      },
      "execution_count": null,
      "outputs": []
    },
    {
      "cell_type": "markdown",
      "source": [
        "# Бонус"
      ],
      "metadata": {
        "id": "Ak5Qsy_f1cMz"
      }
    },
    {
      "cell_type": "code",
      "source": [
        "def images_to_video(image_folder, video_path=\"video.mp4\", fps=30):\n",
        "    # Сортировка изображений в папке по номеру эпохи\n",
        "    filenames = sorted(os.listdir(image_folder), key=lambda x: int(x.split(\"_\")[1].split(\".\")[0]))\n",
        "\n",
        "    # Чтение первого изображения для определения размеров видео\n",
        "    first_image = cv2.imread(os.path.join(image_folder, filenames[0]))\n",
        "    height, width, layers = first_image.shape\n",
        "\n",
        "    # Создание объекта VideoWriter для записи видео с указанными размерами и частотой кадров\n",
        "    fourcc = cv2.VideoWriter_fourcc(*'mp4v')  # Кодек для видео\n",
        "    video = cv2.VideoWriter(video_path, fourcc, fps, (width, height))\n",
        "\n",
        "    # Проход по всем изображениям в папке и добавление их в видео\n",
        "    for filename in tqdm(filenames):  # tqdm используется для отображения прогресса\n",
        "        if filename.endswith(\".png\"):  # Обрабатываются только файлы с расширением .png\n",
        "            filepath = os.path.join(image_folder, filename)\n",
        "            image = cv2.imread(filepath)\n",
        "            video.write(image)\n",
        "\n",
        "    # Закрытие объекта VideoWriter и освобождение ресурсов\n",
        "    cv2.destroyAllWindows()\n",
        "    video.release()\n",
        "\n",
        "# Пример использования функции для создания видео из изображений, сохраненных в path_to_save_imgs\n",
        "images_to_video(path_to_save_imgs)\n"
      ],
      "metadata": {
        "id": "5iUP1MuKxnT8"
      },
      "execution_count": null,
      "outputs": []
    }
  ]
}