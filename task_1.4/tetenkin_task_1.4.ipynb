{
  "cells": [
    {
      "cell_type": "markdown",
      "id": "8277ca02",
      "metadata": {
        "id": "8277ca02",
        "papermill": {
          "duration": 0.112743,
          "end_time": "2022-09-17T00:12:57.265328",
          "exception": false,
          "start_time": "2022-09-17T00:12:57.152585",
          "status": "completed"
        },
        "tags": []
      },
      "source": [
        "\n",
        "# Проверка гипотез с помощью python."
      ]
    },
    {
      "cell_type": "markdown",
      "id": "ed2f4a30",
      "metadata": {
        "id": "ed2f4a30",
        "papermill": {
          "duration": 0.109327,
          "end_time": "2022-09-17T00:12:57.963155",
          "exception": false,
          "start_time": "2022-09-17T00:12:57.853828",
          "status": "completed"
        },
        "tags": []
      },
      "source": [
        "## Задание\n",
        "\n",
        "* Выполнить проверку предложенной гипотезы\n",
        "* Выполнить проверку статистической гипотезы для проверки нормальности числовых признаков\n",
        "* Проверка мультиколлинеарности\n",
        "* Все статистические тесты должны быть выполнены с 95%-м уровнем достоверности (т.е. значение р < 0,05)"
      ]
    },
    {
      "cell_type": "markdown",
      "id": "b36dd14f-cd82-46c1-87de-cde64db77940",
      "metadata": {
        "id": "b36dd14f-cd82-46c1-87de-cde64db77940",
        "papermill": {
          "duration": 0.106947,
          "end_time": "2022-09-17T00:13:02.034149",
          "exception": false,
          "start_time": "2022-09-17T00:13:01.927202",
          "status": "completed"
        },
        "tags": []
      },
      "source": [
        "## Датасет"
      ]
    },
    {
      "cell_type": "markdown",
      "id": "ab7d97da-ee9e-4cd5-8d01-f75481a99393",
      "metadata": {
        "id": "ab7d97da-ee9e-4cd5-8d01-f75481a99393"
      },
      "source": [
        "Как данные представлены заказчиком:"
      ]
    },
    {
      "cell_type": "markdown",
      "id": "746dd87c-32f5-4ee4-97f3-ace09b9661ae",
      "metadata": {
        "id": "746dd87c-32f5-4ee4-97f3-ace09b9661ae",
        "papermill": {
          "duration": 0.107761,
          "end_time": "2022-09-17T00:13:02.248931",
          "exception": false,
          "start_time": "2022-09-17T00:13:02.141170",
          "status": "completed"
        },
        "tags": []
      },
      "source": [
        "<table>\n",
        "<thead><tr>\n",
        "<th><strong>Feature Name</strong></th>\n",
        "<th><strong>Description</strong></th>\n",
        "<th><strong>Data Type</strong></th>\n",
        "</tr>\n",
        "</thead>\n",
        "<tbody>\n",
        "<tr>\n",
        "<td>customerID</td>\n",
        "<td>Содержит идентификатор клиента</td>\n",
        "<td>categorical</td>\n",
        "</tr>\n",
        "<tr>\n",
        "<td>gender</td>\n",
        "<td>Пол клиента</td>\n",
        "<td>categorical</td>\n",
        "</tr>\n",
        "<tr>\n",
        "<td>SeniorCitizen</td>\n",
        "<td>Является ли клиент пожилым гражданином</td>\n",
        "<td>numeric, int</td>\n",
        "</tr>\n",
        "<tr>\n",
        "<td>Partner</td>\n",
        "<td>Есть ли у клиента партнер</td>\n",
        "<td>categorical</td>\n",
        "</tr>\n",
        "<tr>\n",
        "<td>Dependents</td>\n",
        "<td>Является ли клиент кормильцем</td>\n",
        "<td>categorical</td>\n",
        "</tr>\n",
        "<tr>\n",
        "<td>tenure</td>\n",
        "<td>Количество месяцев, в течение которых клиент оставался в компании</td>\n",
        "<td>numeric, int</td>\n",
        "</tr>\n",
        "<tr>\n",
        "<td>PhoneService</td>\n",
        "<td>Есть ли у клиента телефонная связь</td>\n",
        "<td>categorical</td>\n",
        "</tr>\n",
        "<tr>\n",
        "<td>MultipleLines</td>\n",
        "<td>Есть ли у клиента несколько линий</td>\n",
        "<td>categorical</td>\n",
        "</tr>\n",
        "<tr>\n",
        "<td>InternetService</td>\n",
        "<td>Интернет-провайдер клиента</td>\n",
        "<td>categorical</td>\n",
        "</tr>\n",
        "<tr>\n",
        "<td>OnlineSecurity</td>\n",
        "<td>Есть ли у клиента онлайн-безопасность</td>\n",
        "<td>categorical</td>\n",
        "</tr>\n",
        "<tr>\n",
        "<td>OnlineBackup</td>\n",
        "<td>Есть ли у клиента онлайн-резервное копирование</td>\n",
        "<td>categorical</td>\n",
        "</tr>\n",
        "<tr>\n",
        "<td>DeviceProtection</td>\n",
        "<td>Имеет ли клиент защиту устройства</td>\n",
        "<td>categorical</td>\n",
        "</tr>\n",
        "<tr>\n",
        "<td>TechSupport</td>\n",
        "<td>Есть ли у клиента техническая поддержка</td>\n",
        "<td>categorical</td>\n",
        "</tr>\n",
        "<tr>\n",
        "<td>streamingTV</td>\n",
        "<td>Есть ли у клиента потоковое телевидение</td>\n",
        "<td>categorical</td>\n",
        "</tr>\n",
        "<tr>\n",
        "<td>streamingMovies</td>\n",
        "<td>Есть ли у клиента стриминговые сервисы</td>\n",
        "<td>categorical</td>\n",
        "</tr>\n",
        "<tr>\n",
        "<td>Contract</td>\n",
        "<td>Срок действия контракта заказчика</td>\n",
        "<td>categorical</td>\n",
        "</tr>\n",
        "<tr>\n",
        "<td>PaperlessBilling</td>\n",
        "<td>имеет ли клиент безналичные счета</td>\n",
        "<td>categorical</td>\n",
        "</tr>\n",
        "<tr>\n",
        "<td>PaymentMethod</td>\n",
        "<td>Способ оплаты клиента</td>\n",
        "<td>categorical</td>\n",
        "</tr>\n",
        "<tr>\n",
        "<td>MonthlyCharges</td>\n",
        "<td>Сумма, взимаемая с клиента ежемесячно </td>\n",
        "<td> numeric , int</td>\n",
        "</tr>\n",
        "<tr>\n",
        "<td>TotalCharges</td>\n",
        "<td>Общая сумма, списанная с клиента</td>\n",
        "<td>object</td>\n",
        "</tr>\n",
        "<tr>\n",
        "<td>Churn</td>\n",
        "<td>Ушел ли клиент</td>\n",
        "<td>categorical</td>\n",
        "</tr>\n",
        "</tbody>\n",
        "</table>"
      ]
    },
    {
      "cell_type": "markdown",
      "id": "08ae603f-bf76-4e2a-b7e0-cc8f4c48ea08",
      "metadata": {
        "id": "08ae603f-bf76-4e2a-b7e0-cc8f4c48ea08"
      },
      "source": [
        "Описание от заказчика:\n",
        "\n",
        "Каждая строка представляет клиента, каждый столбец содержит атрибуты клиента.\n",
        "\n",
        "Набор данных включает информацию :\n",
        "\n",
        "- Клиенты, которые ушли в течение последнего месяца — колонка называется `Churn`\n",
        "- Услуги, на которые подписался каждый клиент — телефон, несколько линий, интернет, онлайн-безопасность, резервное копирование, защита устройств, техническая поддержка, потоковое ТВ и фильмы.\n",
        "- Информация о счетах клиентов — как долго они являются клиентами, контракт, способ оплаты, безналичные счета, ежемесячные платежи и общая сумма платежей.\n",
        "- Демографическая информация о клиентах — пол, возраст, наличие партнеров и иждивенцев."
      ]
    },
    {
      "cell_type": "markdown",
      "id": "d5987f69",
      "metadata": {
        "id": "d5987f69",
        "papermill": {
          "duration": 0.104938,
          "end_time": "2022-09-17T00:12:58.405685",
          "exception": false,
          "start_time": "2022-09-17T00:12:58.300747",
          "status": "completed"
        },
        "tags": []
      },
      "source": [
        "## 1. Импорт Библиотек "
      ]
    },
    {
      "cell_type": "markdown",
      "id": "02b1ba32-c7a4-4cca-940c-2c26096652a5",
      "metadata": {
        "id": "02b1ba32-c7a4-4cca-940c-2c26096652a5"
      },
      "source": [
        "Импортируйте необходимые библиотеки"
      ]
    },
    {
      "cell_type": "code",
      "execution_count": null,
      "id": "aced3dd7",
      "metadata": {
        "_kg_hide-input": true,
        "id": "aced3dd7",
        "papermill": {
          "duration": 2.648922,
          "end_time": "2022-09-17T00:13:01.160303",
          "exception": false,
          "start_time": "2022-09-17T00:12:58.511381",
          "status": "completed"
        },
        "tags": []
      },
      "outputs": [],
      "source": [
        "import numpy as np\n",
        "import pandas as pd\n",
        "pd.set_option('display.max_columns', None) # отобразить все колонки\n",
        "\n",
        "from scipy import stats"
      ]
    },
    {
      "cell_type": "markdown",
      "id": "a08aba17",
      "metadata": {
        "id": "a08aba17",
        "papermill": {
          "duration": 0.105855,
          "end_time": "2022-09-17T00:13:01.597528",
          "exception": false,
          "start_time": "2022-09-17T00:13:01.491673",
          "status": "completed"
        },
        "tags": []
      },
      "source": [
        "## Данные"
      ]
    },
    {
      "cell_type": "code",
      "execution_count": null,
      "id": "423cbac6",
      "metadata": {
        "id": "423cbac6",
        "papermill": {
          "duration": 0.24658,
          "end_time": "2022-09-17T00:13:02.607322",
          "exception": false,
          "start_time": "2022-09-17T00:13:02.360742",
          "status": "completed"
        },
        "tags": []
      },
      "outputs": [],
      "source": [
        "df = pd.read_csv(\"./datasets/Churn.csv\")\n",
        "df.head()"
      ]
    },
    {
      "cell_type": "markdown",
      "id": "59d8f6d7",
      "metadata": {
        "id": "59d8f6d7",
        "papermill": {
          "duration": 0.110182,
          "end_time": "2022-09-17T00:13:04.215152",
          "exception": false,
          "start_time": "2022-09-17T00:13:04.104970",
          "status": "completed"
        },
        "tags": []
      },
      "source": [
        "## 2. Описательный анализ данных"
      ]
    },
    {
      "cell_type": "markdown",
      "id": "4f3a9143-db55-4062-92c1-95bae165c967",
      "metadata": {
        "id": "4f3a9143-db55-4062-92c1-95bae165c967"
      },
      "source": [
        "Рассмотрите данные — изучите медианы, средние, дисперсии и т.д. \n",
        "\n",
        "Что можете сказать о данных? Сделайте вывод."
      ]
    },
    {
      "cell_type": "code",
      "execution_count": null,
      "id": "103b2699-e4bd-46b4-a287-d4e70ad26878",
      "metadata": {
        "id": "103b2699-e4bd-46b4-a287-d4e70ad26878"
      },
      "outputs": [],
      "source": [
        "# ваше решение"
      ]
    },
    {
      "cell_type": "markdown",
      "id": "1daff97f-7552-4abb-918f-39fdda6d078e",
      "metadata": {
        "id": "1daff97f-7552-4abb-918f-39fdda6d078e"
      },
      "source": [
        "**Вывод:**"
      ]
    },
    {
      "cell_type": "markdown",
      "id": "20dfbfdf",
      "metadata": {
        "id": "20dfbfdf",
        "papermill": {
          "duration": 0.109572,
          "end_time": "2022-09-17T00:13:04.713273",
          "exception": false,
          "start_time": "2022-09-17T00:13:04.603701",
          "status": "completed"
        },
        "tags": []
      },
      "source": [
        "### Уникальные значения для всех столбцов"
      ]
    },
    {
      "cell_type": "markdown",
      "id": "6dae3e7e-2d2d-48f4-a815-12203933284b",
      "metadata": {
        "tags": [],
        "id": "6dae3e7e-2d2d-48f4-a815-12203933284b"
      },
      "source": [
        "Рассмотрите уникальные значения категориальных признаков. \n",
        "\n",
        "Сделайте вывод.\n",
        "\n",
        "**Подсказка:** можете воспользоваться методом `describe(include='object')`"
      ]
    },
    {
      "cell_type": "code",
      "execution_count": null,
      "id": "8fdc1546-6a9b-4dc8-afdc-fca1fd637ded",
      "metadata": {
        "id": "8fdc1546-6a9b-4dc8-afdc-fca1fd637ded"
      },
      "outputs": [],
      "source": [
        "# ваше решение"
      ]
    },
    {
      "cell_type": "markdown",
      "id": "31dd4378-da15-45df-94a6-2e6d9466b368",
      "metadata": {
        "id": "31dd4378-da15-45df-94a6-2e6d9466b368"
      },
      "source": [
        "**Вывод:**"
      ]
    },
    {
      "cell_type": "markdown",
      "id": "71169f8f-3bf5-498c-8844-ec8e47c232a4",
      "metadata": {
        "id": "71169f8f-3bf5-498c-8844-ec8e47c232a4",
        "papermill": {
          "duration": 0.107391,
          "end_time": "2022-09-17T00:13:03.296525",
          "exception": false,
          "start_time": "2022-09-17T00:13:03.189134",
          "status": "completed"
        },
        "tags": []
      },
      "source": [
        "## 3. Предобработка данных"
      ]
    },
    {
      "cell_type": "markdown",
      "id": "0a01fab1-c07b-46b0-a2d2-e8939670ed1d",
      "metadata": {
        "id": "0a01fab1-c07b-46b0-a2d2-e8939670ed1d",
        "papermill": {
          "duration": 0.110418,
          "end_time": "2022-09-17T00:13:05.443495",
          "exception": false,
          "start_time": "2022-09-17T00:13:05.333077",
          "status": "completed"
        },
        "tags": []
      },
      "source": [
        "### Дубликаты"
      ]
    },
    {
      "cell_type": "markdown",
      "id": "e30c5d7d-10fe-4889-9156-e89b3ac80e9f",
      "metadata": {
        "id": "e30c5d7d-10fe-4889-9156-e89b3ac80e9f"
      },
      "source": [
        "Предобработайте датасет — проверьте на наличие дубликатов и удалите, если они есть."
      ]
    },
    {
      "cell_type": "code",
      "execution_count": null,
      "id": "719cd83b-60bd-4da9-81c4-0c22893b3e47",
      "metadata": {
        "id": "719cd83b-60bd-4da9-81c4-0c22893b3e47"
      },
      "outputs": [],
      "source": [
        "# ваше решение"
      ]
    },
    {
      "cell_type": "markdown",
      "id": "8e8f7fbc",
      "metadata": {
        "id": "8e8f7fbc",
        "papermill": {
          "duration": 0.110418,
          "end_time": "2022-09-17T00:13:05.443495",
          "exception": false,
          "start_time": "2022-09-17T00:13:05.333077",
          "status": "completed"
        },
        "tags": []
      },
      "source": [
        "### Отсутствующие значения"
      ]
    },
    {
      "cell_type": "markdown",
      "id": "cefe6e59-bbf6-409f-bc89-299984ccf9ec",
      "metadata": {
        "id": "cefe6e59-bbf6-409f-bc89-299984ccf9ec"
      },
      "source": [
        "Пояснение к данному датасету:\n",
        "\n",
        "Не всегда в данных есть явные пропуски, которые легко индексируются средствами Pandas. К сожалению, бывают проблемы с выгрузками данных, некачественными источниками, или, когда данные записываются вручную — часто присутствует человеческий фактор. По мере работы с новыми данными лучше проверять на наличие таких данных, иначе из-за этого исследование может исказиться.\n",
        "\n",
        "Рассмотрим такой случай:"
      ]
    },
    {
      "cell_type": "code",
      "execution_count": null,
      "id": "3493172e",
      "metadata": {
        "id": "3493172e",
        "papermill": {
          "duration": 0.127904,
          "end_time": "2022-09-17T00:13:05.681445",
          "exception": false,
          "start_time": "2022-09-17T00:13:05.553541",
          "status": "completed"
        },
        "tags": []
      },
      "outputs": [],
      "source": [
        "df.isna().sum()"
      ]
    },
    {
      "cell_type": "markdown",
      "id": "9262f68f-8d27-4794-ab21-327484d502ac",
      "metadata": {
        "id": "9262f68f-8d27-4794-ab21-327484d502ac"
      },
      "source": [
        "Да, не видно пропусков. Но почему тогда столбец `TotalCharges` не отобразился изначально как числовой столбец?\n",
        "\n",
        "Проверим все столбцы:"
      ]
    },
    {
      "cell_type": "code",
      "execution_count": null,
      "id": "c086249f",
      "metadata": {
        "id": "c086249f",
        "papermill": {
          "duration": 0.212036,
          "end_time": "2022-09-17T00:13:06.005380",
          "exception": false,
          "start_time": "2022-09-17T00:13:05.793344",
          "status": "completed"
        },
        "tags": []
      },
      "outputs": [],
      "source": [
        "for col in df:\n",
        "    if df[col].dtype == 'object':\n",
        "        nans = df[col].apply(lambda x: len(x.strip())==0).sum()\n",
        "        if nans > 0:\n",
        "            print(f'Неявные пропуски столбца {col}:', df[col].apply(lambda x: len(x.strip())==0).sum())"
      ]
    },
    {
      "cell_type": "markdown",
      "id": "d9751428-4425-4a69-a8b9-0d8be7bdda21",
      "metadata": {
        "id": "d9751428-4425-4a69-a8b9-0d8be7bdda21"
      },
      "source": [
        "Что мы можем сделать в таком случае?\n",
        "\n",
        "1) По этому же фильтру удалить строки с пропусками, чтобы не искажать данные\n",
        "2) Перевести тип столбца на числовой с параметром `errors = 'coerce'` и удалить\n",
        "\n",
        "Но можно не удалять, чтобы не потерять данные, а:\n",
        "\n",
        "1) Заменить значения на другое\n",
        "2) Поменять на другое — но только в том случае, если есть какая-то зависимость в данных.\n",
        "\n",
        "Давайте изменим тип и найдем зависимость:"
      ]
    },
    {
      "cell_type": "code",
      "execution_count": null,
      "id": "32c7fbb7-ea06-491f-9629-525175141ed2",
      "metadata": {
        "tags": [],
        "id": "32c7fbb7-ea06-491f-9629-525175141ed2"
      },
      "outputs": [],
      "source": [
        "df[\"TotalCharges\"] = pd.to_numeric(df[\"TotalCharges\"], errors = 'coerce')\n",
        "\n",
        "df[df[\"TotalCharges\"].isna()]"
      ]
    },
    {
      "cell_type": "markdown",
      "id": "2c030a1f-7848-4412-93b1-a8eecc8cbf5f",
      "metadata": {
        "id": "2c030a1f-7848-4412-93b1-a8eecc8cbf5f"
      },
      "source": [
        "**Но как выглядят наши данные обычно?**"
      ]
    },
    {
      "cell_type": "code",
      "execution_count": null,
      "id": "c5a0c8e0-8906-4a9a-b081-b718f4e11053",
      "metadata": {
        "tags": [],
        "id": "c5a0c8e0-8906-4a9a-b081-b718f4e11053"
      },
      "outputs": [],
      "source": [
        "df.sample(5)"
      ]
    },
    {
      "cell_type": "markdown",
      "id": "089c43d2-f7e8-4494-8f29-0419d0e4d193",
      "metadata": {
        "id": "089c43d2-f7e8-4494-8f29-0419d0e4d193"
      },
      "source": [
        "**Ничего не заметили?**\n",
        "\n",
        "Может общая сумма, списанная с клиента, равна сумме, взимаемой с клиента ежемесячно, умноженной на количество времени?\n",
        "\n",
        "Давайте посмотрим."
      ]
    },
    {
      "cell_type": "code",
      "execution_count": null,
      "id": "b5694487-db1c-4cf6-b543-af9e6a120970",
      "metadata": {
        "id": "b5694487-db1c-4cf6-b543-af9e6a120970"
      },
      "outputs": [],
      "source": [
        "df[(df['TotalCharges'] / df['MonthlyCharges']) == df['tenure']].head()"
      ]
    },
    {
      "cell_type": "markdown",
      "id": "12128a01-51a2-4a15-a8ab-d72557b413fe",
      "metadata": {
        "id": "12128a01-51a2-4a15-a8ab-d72557b413fe"
      },
      "source": [
        "Нашей гипотезе есть место быть.\n",
        "\n",
        "Значит `TotalCharges` = `MonthlyCharges` * время. В данном датасете указано только количество месяцев, без точного времени, потому будет грубо просто перемножить один столбец на другой. Но пропуски мы уже можем заменить на `0`, так как в тех строках `tenure` == 0.\n",
        "\n",
        "Заменим пропуски на нужное нам число."
      ]
    },
    {
      "cell_type": "code",
      "execution_count": null,
      "id": "085bfa2f-2800-4814-9877-9fccf7c5994c",
      "metadata": {
        "tags": [],
        "id": "085bfa2f-2800-4814-9877-9fccf7c5994c"
      },
      "outputs": [],
      "source": [
        "df['TotalCharges'].fillna(0, inplace=True)"
      ]
    },
    {
      "cell_type": "markdown",
      "id": "pt3BGKLdPcn9",
      "metadata": {
        "id": "pt3BGKLdPcn9"
      },
      "source": [
        "### Изменение типа данных"
      ]
    },
    {
      "cell_type": "markdown",
      "id": "12573416-214f-48ef-9a39-3d007253cf7a",
      "metadata": {
        "id": "12573416-214f-48ef-9a39-3d007253cf7a"
      },
      "source": [
        "Рассмотрев все данные, замените типы на нужные (при необходимости):\n",
        "\n",
        "- Если есть числа — на `int` или `float`\n",
        "- Если категории — можно оставить `object`"
      ]
    },
    {
      "cell_type": "code",
      "execution_count": null,
      "id": "8099b599-1a04-437b-a2c9-ee834eee2809",
      "metadata": {
        "id": "8099b599-1a04-437b-a2c9-ee834eee2809"
      },
      "outputs": [],
      "source": [
        "# ваше решение"
      ]
    },
    {
      "cell_type": "markdown",
      "id": "6e2ca993-d92d-4ea3-bca5-6408708f6e83",
      "metadata": {
        "id": "6e2ca993-d92d-4ea3-bca5-6408708f6e83"
      },
      "source": [
        "**Вывод:**"
      ]
    },
    {
      "cell_type": "markdown",
      "id": "84339281",
      "metadata": {
        "id": "84339281",
        "papermill": {
          "duration": 0.135596,
          "end_time": "2022-09-17T00:13:12.914231",
          "exception": false,
          "start_time": "2022-09-17T00:13:12.778635",
          "status": "completed"
        },
        "tags": []
      },
      "source": [
        "\n",
        "\n",
        "```\n",
        "# Выбран кодовый формат\n",
        "```\n",
        "\n",
        "# 4. Проверка гипотез"
      ]
    },
    {
      "cell_type": "markdown",
      "id": "a6d6cc55-2a27-45ac-9f63-6ba92410d0ae",
      "metadata": {
        "id": "a6d6cc55-2a27-45ac-9f63-6ba92410d0ae"
      },
      "source": [
        "Задание: сравнить две выборки - `Churn='No'` и `Churn='Yes'` \n",
        "\n",
        "Гипотеза — среднее количество месяцев, в течение которых клиент оставался в компании, отличается между двумя выборками."
      ]
    },
    {
      "cell_type": "code",
      "execution_count": null,
      "id": "a0d13764-53ad-4218-b614-c3ca5fb40ad2",
      "metadata": {
        "id": "a0d13764-53ad-4218-b614-c3ca5fb40ad2"
      },
      "outputs": [],
      "source": [
        "# ваше решение"
      ]
    },
    {
      "cell_type": "markdown",
      "id": "66691f06-afde-4300-99f9-a4c781878d68",
      "metadata": {
        "id": "66691f06-afde-4300-99f9-a4c781878d68"
      },
      "source": [
        "**Вывод:**"
      ]
    },
    {
      "cell_type": "markdown",
      "id": "182612f7",
      "metadata": {
        "id": "182612f7",
        "papermill": {
          "duration": 0.135397,
          "end_time": "2022-09-17T00:13:13.186292",
          "exception": false,
          "start_time": "2022-09-17T00:13:13.050895",
          "status": "completed"
        },
        "tags": []
      },
      "source": [
        "## 5. Статистический анализ на норму"
      ]
    },
    {
      "cell_type": "markdown",
      "id": "c9cdddbd-896d-48af-9b88-662204560cb7",
      "metadata": {
        "id": "c9cdddbd-896d-48af-9b88-662204560cb7"
      },
      "source": [
        "Задание: выберите числовые признаки и проведите анализ — соответствуют ли распределения нормальному?"
      ]
    },
    {
      "cell_type": "code",
      "execution_count": null,
      "id": "7cf1ce3c-4ee0-4a63-a3fc-a0ef35e759f6",
      "metadata": {
        "id": "7cf1ce3c-4ee0-4a63-a3fc-a0ef35e759f6"
      },
      "outputs": [],
      "source": [
        "# ваше решение"
      ]
    },
    {
      "cell_type": "code",
      "execution_count": null,
      "id": "c5c7251c-09de-40c2-8fc6-372e9dc30d19",
      "metadata": {
        "id": "c5c7251c-09de-40c2-8fc6-372e9dc30d19"
      },
      "outputs": [],
      "source": []
    },
    {
      "cell_type": "markdown",
      "id": "b9040662-d2e5-4bfe-9d50-e7070ea54714",
      "metadata": {
        "id": "b9040662-d2e5-4bfe-9d50-e7070ea54714"
      },
      "source": [
        "**Вывод:**"
      ]
    },
    {
      "cell_type": "markdown",
      "id": "3f764616-e487-4f19-b6b8-25104e3f3195",
      "metadata": {
        "id": "3f764616-e487-4f19-b6b8-25104e3f3195"
      },
      "source": [
        "# Общий вывод"
      ]
    },
    {
      "cell_type": "markdown",
      "id": "3f3c0bce-40e3-4933-92a5-3b3e83b2ec89",
      "metadata": {
        "id": "3f3c0bce-40e3-4933-92a5-3b3e83b2ec89"
      },
      "source": [
        "Опишите данные и результат исследования, основываясь на предыдущих шагах:"
      ]
    },
    {
      "cell_type": "markdown",
      "id": "d8efa465-45b6-4f4d-b11d-fe89361cebcc",
      "metadata": {
        "id": "d8efa465-45b6-4f4d-b11d-fe89361cebcc"
      },
      "source": []
    }
  ],
  "metadata": {
    "colab": {
      "provenance": []
    },
    "kernelspec": {
      "display_name": "Python 3 (ipykernel)",
      "language": "python",
      "name": "python3"
    },
    "language_info": {
      "codemirror_mode": {
        "name": "ipython",
        "version": 3
      },
      "file_extension": ".py",
      "mimetype": "text/x-python",
      "name": "python",
      "nbconvert_exporter": "python",
      "pygments_lexer": "ipython3",
      "version": "3.10.11"
    },
    "papermill": {
      "default_parameters": {},
      "duration": 110.694338,
      "end_time": "2022-09-17T00:14:38.634386",
      "environment_variables": {},
      "exception": null,
      "input_path": "__notebook__.ipynb",
      "output_path": "__notebook__.ipynb",
      "parameters": {},
      "start_time": "2022-09-17T00:12:47.940048",
      "version": "2.3.3"
    }
  },
  "nbformat": 4,
  "nbformat_minor": 5
}